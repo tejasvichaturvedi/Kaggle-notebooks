{
 "cells": [
  {
   "cell_type": "code",
   "execution_count": 1,
   "id": "01bca08b",
   "metadata": {
    "execution": {
     "iopub.execute_input": "2023-03-31T21:18:05.424428Z",
     "iopub.status.busy": "2023-03-31T21:18:05.423759Z",
     "iopub.status.idle": "2023-03-31T21:18:05.444742Z",
     "shell.execute_reply": "2023-03-31T21:18:05.442994Z"
    },
    "papermill": {
     "duration": 0.04394,
     "end_time": "2023-03-31T21:18:05.448784",
     "exception": false,
     "start_time": "2023-03-31T21:18:05.404844",
     "status": "completed"
    },
    "tags": []
   },
   "outputs": [
    {
     "name": "stdout",
     "output_type": "stream",
     "text": [
      "/kaggle/input/spaceship-titanic/sample_submission.csv\n",
      "/kaggle/input/spaceship-titanic/train.csv\n",
      "/kaggle/input/spaceship-titanic/test.csv\n"
     ]
    }
   ],
   "source": [
    "# This Python 3 environment comes with many helpful analytics libraries installed\n",
    "# It is defined by the kaggle/python Docker image: https://github.com/kaggle/docker-python\n",
    "# For example, here's several helpful packages to load\n",
    "\n",
    "import numpy as np # linear algebra\n",
    "import pandas as pd # data processing, CSV file I/O (e.g. pd.read_csv)\n",
    "\n",
    "# Input data files are available in the read-only \"../input/\" directory\n",
    "# For example, running this (by clicking run or pressing Shift+Enter) will list all files under the input directory\n",
    "\n",
    "import os\n",
    "for dirname, _, filenames in os.walk('/kaggle/input'):\n",
    "    for filename in filenames:\n",
    "        print(os.path.join(dirname, filename))\n",
    "\n",
    "# You can write up to 20GB to the current directory (/kaggle/working/) that gets preserved as output when you create a version using \"Save & Run All\" \n",
    "# You can also write temporary files to /kaggle/temp/, but they won't be saved outside of the current session"
   ]
  },
  {
   "cell_type": "code",
   "execution_count": 2,
   "id": "49402d7a",
   "metadata": {
    "execution": {
     "iopub.execute_input": "2023-03-31T21:18:05.483787Z",
     "iopub.status.busy": "2023-03-31T21:18:05.483316Z",
     "iopub.status.idle": "2023-03-31T21:18:05.596647Z",
     "shell.execute_reply": "2023-03-31T21:18:05.594857Z"
    },
    "papermill": {
     "duration": 0.133537,
     "end_time": "2023-03-31T21:18:05.599544",
     "exception": false,
     "start_time": "2023-03-31T21:18:05.466007",
     "status": "completed"
    },
    "tags": []
   },
   "outputs": [
    {
     "data": {
      "text/html": [
       "<div>\n",
       "<style scoped>\n",
       "    .dataframe tbody tr th:only-of-type {\n",
       "        vertical-align: middle;\n",
       "    }\n",
       "\n",
       "    .dataframe tbody tr th {\n",
       "        vertical-align: top;\n",
       "    }\n",
       "\n",
       "    .dataframe thead th {\n",
       "        text-align: right;\n",
       "    }\n",
       "</style>\n",
       "<table border=\"1\" class=\"dataframe\">\n",
       "  <thead>\n",
       "    <tr style=\"text-align: right;\">\n",
       "      <th></th>\n",
       "      <th>PassengerId</th>\n",
       "      <th>HomePlanet</th>\n",
       "      <th>CryoSleep</th>\n",
       "      <th>Cabin</th>\n",
       "      <th>Destination</th>\n",
       "      <th>Age</th>\n",
       "      <th>VIP</th>\n",
       "      <th>RoomService</th>\n",
       "      <th>FoodCourt</th>\n",
       "      <th>ShoppingMall</th>\n",
       "      <th>Spa</th>\n",
       "      <th>VRDeck</th>\n",
       "      <th>Name</th>\n",
       "      <th>Transported</th>\n",
       "    </tr>\n",
       "  </thead>\n",
       "  <tbody>\n",
       "    <tr>\n",
       "      <th>0</th>\n",
       "      <td>0001_01</td>\n",
       "      <td>Europa</td>\n",
       "      <td>False</td>\n",
       "      <td>B/0/P</td>\n",
       "      <td>TRAPPIST-1e</td>\n",
       "      <td>39.0</td>\n",
       "      <td>False</td>\n",
       "      <td>0.0</td>\n",
       "      <td>0.0</td>\n",
       "      <td>0.0</td>\n",
       "      <td>0.0</td>\n",
       "      <td>0.0</td>\n",
       "      <td>Maham Ofracculy</td>\n",
       "      <td>False</td>\n",
       "    </tr>\n",
       "    <tr>\n",
       "      <th>1</th>\n",
       "      <td>0002_01</td>\n",
       "      <td>Earth</td>\n",
       "      <td>False</td>\n",
       "      <td>F/0/S</td>\n",
       "      <td>TRAPPIST-1e</td>\n",
       "      <td>24.0</td>\n",
       "      <td>False</td>\n",
       "      <td>109.0</td>\n",
       "      <td>9.0</td>\n",
       "      <td>25.0</td>\n",
       "      <td>549.0</td>\n",
       "      <td>44.0</td>\n",
       "      <td>Juanna Vines</td>\n",
       "      <td>True</td>\n",
       "    </tr>\n",
       "    <tr>\n",
       "      <th>2</th>\n",
       "      <td>0003_01</td>\n",
       "      <td>Europa</td>\n",
       "      <td>False</td>\n",
       "      <td>A/0/S</td>\n",
       "      <td>TRAPPIST-1e</td>\n",
       "      <td>58.0</td>\n",
       "      <td>True</td>\n",
       "      <td>43.0</td>\n",
       "      <td>3576.0</td>\n",
       "      <td>0.0</td>\n",
       "      <td>6715.0</td>\n",
       "      <td>49.0</td>\n",
       "      <td>Altark Susent</td>\n",
       "      <td>False</td>\n",
       "    </tr>\n",
       "    <tr>\n",
       "      <th>3</th>\n",
       "      <td>0003_02</td>\n",
       "      <td>Europa</td>\n",
       "      <td>False</td>\n",
       "      <td>A/0/S</td>\n",
       "      <td>TRAPPIST-1e</td>\n",
       "      <td>33.0</td>\n",
       "      <td>False</td>\n",
       "      <td>0.0</td>\n",
       "      <td>1283.0</td>\n",
       "      <td>371.0</td>\n",
       "      <td>3329.0</td>\n",
       "      <td>193.0</td>\n",
       "      <td>Solam Susent</td>\n",
       "      <td>False</td>\n",
       "    </tr>\n",
       "    <tr>\n",
       "      <th>4</th>\n",
       "      <td>0004_01</td>\n",
       "      <td>Earth</td>\n",
       "      <td>False</td>\n",
       "      <td>F/1/S</td>\n",
       "      <td>TRAPPIST-1e</td>\n",
       "      <td>16.0</td>\n",
       "      <td>False</td>\n",
       "      <td>303.0</td>\n",
       "      <td>70.0</td>\n",
       "      <td>151.0</td>\n",
       "      <td>565.0</td>\n",
       "      <td>2.0</td>\n",
       "      <td>Willy Santantines</td>\n",
       "      <td>True</td>\n",
       "    </tr>\n",
       "    <tr>\n",
       "      <th>...</th>\n",
       "      <td>...</td>\n",
       "      <td>...</td>\n",
       "      <td>...</td>\n",
       "      <td>...</td>\n",
       "      <td>...</td>\n",
       "      <td>...</td>\n",
       "      <td>...</td>\n",
       "      <td>...</td>\n",
       "      <td>...</td>\n",
       "      <td>...</td>\n",
       "      <td>...</td>\n",
       "      <td>...</td>\n",
       "      <td>...</td>\n",
       "      <td>...</td>\n",
       "    </tr>\n",
       "    <tr>\n",
       "      <th>8688</th>\n",
       "      <td>9276_01</td>\n",
       "      <td>Europa</td>\n",
       "      <td>False</td>\n",
       "      <td>A/98/P</td>\n",
       "      <td>55 Cancri e</td>\n",
       "      <td>41.0</td>\n",
       "      <td>True</td>\n",
       "      <td>0.0</td>\n",
       "      <td>6819.0</td>\n",
       "      <td>0.0</td>\n",
       "      <td>1643.0</td>\n",
       "      <td>74.0</td>\n",
       "      <td>Gravior Noxnuther</td>\n",
       "      <td>False</td>\n",
       "    </tr>\n",
       "    <tr>\n",
       "      <th>8689</th>\n",
       "      <td>9278_01</td>\n",
       "      <td>Earth</td>\n",
       "      <td>True</td>\n",
       "      <td>G/1499/S</td>\n",
       "      <td>PSO J318.5-22</td>\n",
       "      <td>18.0</td>\n",
       "      <td>False</td>\n",
       "      <td>0.0</td>\n",
       "      <td>0.0</td>\n",
       "      <td>0.0</td>\n",
       "      <td>0.0</td>\n",
       "      <td>0.0</td>\n",
       "      <td>Kurta Mondalley</td>\n",
       "      <td>False</td>\n",
       "    </tr>\n",
       "    <tr>\n",
       "      <th>8690</th>\n",
       "      <td>9279_01</td>\n",
       "      <td>Earth</td>\n",
       "      <td>False</td>\n",
       "      <td>G/1500/S</td>\n",
       "      <td>TRAPPIST-1e</td>\n",
       "      <td>26.0</td>\n",
       "      <td>False</td>\n",
       "      <td>0.0</td>\n",
       "      <td>0.0</td>\n",
       "      <td>1872.0</td>\n",
       "      <td>1.0</td>\n",
       "      <td>0.0</td>\n",
       "      <td>Fayey Connon</td>\n",
       "      <td>True</td>\n",
       "    </tr>\n",
       "    <tr>\n",
       "      <th>8691</th>\n",
       "      <td>9280_01</td>\n",
       "      <td>Europa</td>\n",
       "      <td>False</td>\n",
       "      <td>E/608/S</td>\n",
       "      <td>55 Cancri e</td>\n",
       "      <td>32.0</td>\n",
       "      <td>False</td>\n",
       "      <td>0.0</td>\n",
       "      <td>1049.0</td>\n",
       "      <td>0.0</td>\n",
       "      <td>353.0</td>\n",
       "      <td>3235.0</td>\n",
       "      <td>Celeon Hontichre</td>\n",
       "      <td>False</td>\n",
       "    </tr>\n",
       "    <tr>\n",
       "      <th>8692</th>\n",
       "      <td>9280_02</td>\n",
       "      <td>Europa</td>\n",
       "      <td>False</td>\n",
       "      <td>E/608/S</td>\n",
       "      <td>TRAPPIST-1e</td>\n",
       "      <td>44.0</td>\n",
       "      <td>False</td>\n",
       "      <td>126.0</td>\n",
       "      <td>4688.0</td>\n",
       "      <td>0.0</td>\n",
       "      <td>0.0</td>\n",
       "      <td>12.0</td>\n",
       "      <td>Propsh Hontichre</td>\n",
       "      <td>True</td>\n",
       "    </tr>\n",
       "  </tbody>\n",
       "</table>\n",
       "<p>8693 rows × 14 columns</p>\n",
       "</div>"
      ],
      "text/plain": [
       "     PassengerId HomePlanet CryoSleep     Cabin    Destination   Age    VIP  \\\n",
       "0        0001_01     Europa     False     B/0/P    TRAPPIST-1e  39.0  False   \n",
       "1        0002_01      Earth     False     F/0/S    TRAPPIST-1e  24.0  False   \n",
       "2        0003_01     Europa     False     A/0/S    TRAPPIST-1e  58.0   True   \n",
       "3        0003_02     Europa     False     A/0/S    TRAPPIST-1e  33.0  False   \n",
       "4        0004_01      Earth     False     F/1/S    TRAPPIST-1e  16.0  False   \n",
       "...          ...        ...       ...       ...            ...   ...    ...   \n",
       "8688     9276_01     Europa     False    A/98/P    55 Cancri e  41.0   True   \n",
       "8689     9278_01      Earth      True  G/1499/S  PSO J318.5-22  18.0  False   \n",
       "8690     9279_01      Earth     False  G/1500/S    TRAPPIST-1e  26.0  False   \n",
       "8691     9280_01     Europa     False   E/608/S    55 Cancri e  32.0  False   \n",
       "8692     9280_02     Europa     False   E/608/S    TRAPPIST-1e  44.0  False   \n",
       "\n",
       "      RoomService  FoodCourt  ShoppingMall     Spa  VRDeck               Name  \\\n",
       "0             0.0        0.0           0.0     0.0     0.0    Maham Ofracculy   \n",
       "1           109.0        9.0          25.0   549.0    44.0       Juanna Vines   \n",
       "2            43.0     3576.0           0.0  6715.0    49.0      Altark Susent   \n",
       "3             0.0     1283.0         371.0  3329.0   193.0       Solam Susent   \n",
       "4           303.0       70.0         151.0   565.0     2.0  Willy Santantines   \n",
       "...           ...        ...           ...     ...     ...                ...   \n",
       "8688          0.0     6819.0           0.0  1643.0    74.0  Gravior Noxnuther   \n",
       "8689          0.0        0.0           0.0     0.0     0.0    Kurta Mondalley   \n",
       "8690          0.0        0.0        1872.0     1.0     0.0       Fayey Connon   \n",
       "8691          0.0     1049.0           0.0   353.0  3235.0   Celeon Hontichre   \n",
       "8692        126.0     4688.0           0.0     0.0    12.0   Propsh Hontichre   \n",
       "\n",
       "      Transported  \n",
       "0           False  \n",
       "1            True  \n",
       "2           False  \n",
       "3           False  \n",
       "4            True  \n",
       "...           ...  \n",
       "8688        False  \n",
       "8689        False  \n",
       "8690         True  \n",
       "8691        False  \n",
       "8692         True  \n",
       "\n",
       "[8693 rows x 14 columns]"
      ]
     },
     "execution_count": 2,
     "metadata": {},
     "output_type": "execute_result"
    }
   ],
   "source": [
    "df_train = pd.read_csv('/kaggle/input/spaceship-titanic/train.csv')\n",
    "df_train\n"
   ]
  },
  {
   "cell_type": "code",
   "execution_count": 3,
   "id": "7e362f0b",
   "metadata": {
    "execution": {
     "iopub.execute_input": "2023-03-31T21:18:05.634702Z",
     "iopub.status.busy": "2023-03-31T21:18:05.634164Z",
     "iopub.status.idle": "2023-03-31T21:18:05.666826Z",
     "shell.execute_reply": "2023-03-31T21:18:05.664981Z"
    },
    "papermill": {
     "duration": 0.054584,
     "end_time": "2023-03-31T21:18:05.670149",
     "exception": false,
     "start_time": "2023-03-31T21:18:05.615565",
     "status": "completed"
    },
    "tags": []
   },
   "outputs": [
    {
     "name": "stdout",
     "output_type": "stream",
     "text": [
      "<class 'pandas.core.frame.DataFrame'>\n",
      "RangeIndex: 8693 entries, 0 to 8692\n",
      "Data columns (total 14 columns):\n",
      " #   Column        Non-Null Count  Dtype  \n",
      "---  ------        --------------  -----  \n",
      " 0   PassengerId   8693 non-null   object \n",
      " 1   HomePlanet    8492 non-null   object \n",
      " 2   CryoSleep     8476 non-null   object \n",
      " 3   Cabin         8494 non-null   object \n",
      " 4   Destination   8511 non-null   object \n",
      " 5   Age           8514 non-null   float64\n",
      " 6   VIP           8490 non-null   object \n",
      " 7   RoomService   8512 non-null   float64\n",
      " 8   FoodCourt     8510 non-null   float64\n",
      " 9   ShoppingMall  8485 non-null   float64\n",
      " 10  Spa           8510 non-null   float64\n",
      " 11  VRDeck        8505 non-null   float64\n",
      " 12  Name          8493 non-null   object \n",
      " 13  Transported   8693 non-null   bool   \n",
      "dtypes: bool(1), float64(6), object(7)\n",
      "memory usage: 891.5+ KB\n"
     ]
    }
   ],
   "source": [
    "df_train.info()"
   ]
  },
  {
   "cell_type": "code",
   "execution_count": 4,
   "id": "be37c031",
   "metadata": {
    "execution": {
     "iopub.execute_input": "2023-03-31T21:18:05.705266Z",
     "iopub.status.busy": "2023-03-31T21:18:05.704496Z",
     "iopub.status.idle": "2023-03-31T21:18:06.000657Z",
     "shell.execute_reply": "2023-03-31T21:18:05.998797Z"
    },
    "papermill": {
     "duration": 0.318096,
     "end_time": "2023-03-31T21:18:06.004037",
     "exception": false,
     "start_time": "2023-03-31T21:18:05.685941",
     "status": "completed"
    },
    "tags": []
   },
   "outputs": [
    {
     "data": {
      "text/plain": [
       "<AxesSubplot:>"
      ]
     },
     "execution_count": 4,
     "metadata": {},
     "output_type": "execute_result"
    },
    {
     "data": {
      "image/png": "[encoded data removed]",
      "text/plain": [
       "<Figure size 640x480 with 1 Axes>"
      ]
     },
     "metadata": {},
     "output_type": "display_data"
    }
   ],
   "source": [
    "plot_df = df_train.Transported.value_counts()\n",
    "plot_df.plot(kind=\"bar\")"
   ]
  },
  {
   "cell_type": "code",
   "execution_count": 5,
   "id": "9ef9d4ea",
   "metadata": {
    "execution": {
     "iopub.execute_input": "2023-03-31T21:18:06.038333Z",
     "iopub.status.busy": "2023-03-31T21:18:06.037703Z",
     "iopub.status.idle": "2023-03-31T21:18:06.075455Z",
     "shell.execute_reply": "2023-03-31T21:18:06.074041Z"
    },
    "papermill": {
     "duration": 0.058722,
     "end_time": "2023-03-31T21:18:06.078560",
     "exception": false,
     "start_time": "2023-03-31T21:18:06.019838",
     "status": "completed"
    },
    "tags": []
   },
   "outputs": [
    {
     "data": {
      "text/html": [
       "<div>\n",
       "<style scoped>\n",
       "    .dataframe tbody tr th:only-of-type {\n",
       "        vertical-align: middle;\n",
       "    }\n",
       "\n",
       "    .dataframe tbody tr th {\n",
       "        vertical-align: top;\n",
       "    }\n",
       "\n",
       "    .dataframe thead th {\n",
       "        text-align: right;\n",
       "    }\n",
       "</style>\n",
       "<table border=\"1\" class=\"dataframe\">\n",
       "  <thead>\n",
       "    <tr style=\"text-align: right;\">\n",
       "      <th></th>\n",
       "      <th>Age</th>\n",
       "      <th>RoomService</th>\n",
       "      <th>FoodCourt</th>\n",
       "      <th>ShoppingMall</th>\n",
       "      <th>Spa</th>\n",
       "      <th>VRDeck</th>\n",
       "    </tr>\n",
       "  </thead>\n",
       "  <tbody>\n",
       "    <tr>\n",
       "      <th>count</th>\n",
       "      <td>8514.000000</td>\n",
       "      <td>8512.000000</td>\n",
       "      <td>8510.000000</td>\n",
       "      <td>8485.000000</td>\n",
       "      <td>8510.000000</td>\n",
       "      <td>8505.000000</td>\n",
       "    </tr>\n",
       "    <tr>\n",
       "      <th>mean</th>\n",
       "      <td>28.827930</td>\n",
       "      <td>224.687617</td>\n",
       "      <td>458.077203</td>\n",
       "      <td>173.729169</td>\n",
       "      <td>311.138778</td>\n",
       "      <td>304.854791</td>\n",
       "    </tr>\n",
       "    <tr>\n",
       "      <th>std</th>\n",
       "      <td>14.489021</td>\n",
       "      <td>666.717663</td>\n",
       "      <td>1611.489240</td>\n",
       "      <td>604.696458</td>\n",
       "      <td>1136.705535</td>\n",
       "      <td>1145.717189</td>\n",
       "    </tr>\n",
       "    <tr>\n",
       "      <th>min</th>\n",
       "      <td>0.000000</td>\n",
       "      <td>0.000000</td>\n",
       "      <td>0.000000</td>\n",
       "      <td>0.000000</td>\n",
       "      <td>0.000000</td>\n",
       "      <td>0.000000</td>\n",
       "    </tr>\n",
       "    <tr>\n",
       "      <th>25%</th>\n",
       "      <td>19.000000</td>\n",
       "      <td>0.000000</td>\n",
       "      <td>0.000000</td>\n",
       "      <td>0.000000</td>\n",
       "      <td>0.000000</td>\n",
       "      <td>0.000000</td>\n",
       "    </tr>\n",
       "    <tr>\n",
       "      <th>50%</th>\n",
       "      <td>27.000000</td>\n",
       "      <td>0.000000</td>\n",
       "      <td>0.000000</td>\n",
       "      <td>0.000000</td>\n",
       "      <td>0.000000</td>\n",
       "      <td>0.000000</td>\n",
       "    </tr>\n",
       "    <tr>\n",
       "      <th>75%</th>\n",
       "      <td>38.000000</td>\n",
       "      <td>47.000000</td>\n",
       "      <td>76.000000</td>\n",
       "      <td>27.000000</td>\n",
       "      <td>59.000000</td>\n",
       "      <td>46.000000</td>\n",
       "    </tr>\n",
       "    <tr>\n",
       "      <th>max</th>\n",
       "      <td>79.000000</td>\n",
       "      <td>14327.000000</td>\n",
       "      <td>29813.000000</td>\n",
       "      <td>23492.000000</td>\n",
       "      <td>22408.000000</td>\n",
       "      <td>24133.000000</td>\n",
       "    </tr>\n",
       "  </tbody>\n",
       "</table>\n",
       "</div>"
      ],
      "text/plain": [
       "               Age   RoomService     FoodCourt  ShoppingMall           Spa  \\\n",
       "count  8514.000000   8512.000000   8510.000000   8485.000000   8510.000000   \n",
       "mean     28.827930    224.687617    458.077203    173.729169    311.138778   \n",
       "std      14.489021    666.717663   1611.489240    604.696458   1136.705535   \n",
       "min       0.000000      0.000000      0.000000      0.000000      0.000000   \n",
       "25%      19.000000      0.000000      0.000000      0.000000      0.000000   \n",
       "50%      27.000000      0.000000      0.000000      0.000000      0.000000   \n",
       "75%      38.000000     47.000000     76.000000     27.000000     59.000000   \n",
       "max      79.000000  14327.000000  29813.000000  23492.000000  22408.000000   \n",
       "\n",
       "             VRDeck  \n",
       "count   8505.000000  \n",
       "mean     304.854791  \n",
       "std     1145.717189  \n",
       "min        0.000000  \n",
       "25%        0.000000  \n",
       "50%        0.000000  \n",
       "75%       46.000000  \n",
       "max    24133.000000  "
      ]
     },
     "execution_count": 5,
     "metadata": {},
     "output_type": "execute_result"
    }
   ],
   "source": [
    "df_train.describe()"
   ]
  },
  {
   "cell_type": "code",
   "execution_count": 6,
   "id": "38a797a3",
   "metadata": {
    "execution": {
     "iopub.execute_input": "2023-03-31T21:18:06.114580Z",
     "iopub.status.busy": "2023-03-31T21:18:06.113534Z",
     "iopub.status.idle": "2023-03-31T21:18:06.149120Z",
     "shell.execute_reply": "2023-03-31T21:18:06.147725Z"
    },
    "papermill": {
     "duration": 0.056937,
     "end_time": "2023-03-31T21:18:06.151785",
     "exception": false,
     "start_time": "2023-03-31T21:18:06.094848",
     "status": "completed"
    },
    "tags": []
   },
   "outputs": [
    {
     "data": {
      "text/html": [
       "<div>\n",
       "<style scoped>\n",
       "    .dataframe tbody tr th:only-of-type {\n",
       "        vertical-align: middle;\n",
       "    }\n",
       "\n",
       "    .dataframe tbody tr th {\n",
       "        vertical-align: top;\n",
       "    }\n",
       "\n",
       "    .dataframe thead th {\n",
       "        text-align: right;\n",
       "    }\n",
       "</style>\n",
       "<table border=\"1\" class=\"dataframe\">\n",
       "  <thead>\n",
       "    <tr style=\"text-align: right;\">\n",
       "      <th></th>\n",
       "      <th>HomePlanet</th>\n",
       "      <th>CryoSleep</th>\n",
       "      <th>Cabin</th>\n",
       "      <th>Destination</th>\n",
       "      <th>Age</th>\n",
       "      <th>VIP</th>\n",
       "      <th>RoomService</th>\n",
       "      <th>FoodCourt</th>\n",
       "      <th>ShoppingMall</th>\n",
       "      <th>Spa</th>\n",
       "      <th>VRDeck</th>\n",
       "      <th>Transported</th>\n",
       "    </tr>\n",
       "  </thead>\n",
       "  <tbody>\n",
       "    <tr>\n",
       "      <th>0</th>\n",
       "      <td>Europa</td>\n",
       "      <td>False</td>\n",
       "      <td>B/0/P</td>\n",
       "      <td>TRAPPIST-1e</td>\n",
       "      <td>39.0</td>\n",
       "      <td>False</td>\n",
       "      <td>0.0</td>\n",
       "      <td>0.0</td>\n",
       "      <td>0.0</td>\n",
       "      <td>0.0</td>\n",
       "      <td>0.0</td>\n",
       "      <td>False</td>\n",
       "    </tr>\n",
       "    <tr>\n",
       "      <th>1</th>\n",
       "      <td>Earth</td>\n",
       "      <td>False</td>\n",
       "      <td>F/0/S</td>\n",
       "      <td>TRAPPIST-1e</td>\n",
       "      <td>24.0</td>\n",
       "      <td>False</td>\n",
       "      <td>109.0</td>\n",
       "      <td>9.0</td>\n",
       "      <td>25.0</td>\n",
       "      <td>549.0</td>\n",
       "      <td>44.0</td>\n",
       "      <td>True</td>\n",
       "    </tr>\n",
       "    <tr>\n",
       "      <th>2</th>\n",
       "      <td>Europa</td>\n",
       "      <td>False</td>\n",
       "      <td>A/0/S</td>\n",
       "      <td>TRAPPIST-1e</td>\n",
       "      <td>58.0</td>\n",
       "      <td>True</td>\n",
       "      <td>43.0</td>\n",
       "      <td>3576.0</td>\n",
       "      <td>0.0</td>\n",
       "      <td>6715.0</td>\n",
       "      <td>49.0</td>\n",
       "      <td>False</td>\n",
       "    </tr>\n",
       "    <tr>\n",
       "      <th>3</th>\n",
       "      <td>Europa</td>\n",
       "      <td>False</td>\n",
       "      <td>A/0/S</td>\n",
       "      <td>TRAPPIST-1e</td>\n",
       "      <td>33.0</td>\n",
       "      <td>False</td>\n",
       "      <td>0.0</td>\n",
       "      <td>1283.0</td>\n",
       "      <td>371.0</td>\n",
       "      <td>3329.0</td>\n",
       "      <td>193.0</td>\n",
       "      <td>False</td>\n",
       "    </tr>\n",
       "    <tr>\n",
       "      <th>4</th>\n",
       "      <td>Earth</td>\n",
       "      <td>False</td>\n",
       "      <td>F/1/S</td>\n",
       "      <td>TRAPPIST-1e</td>\n",
       "      <td>16.0</td>\n",
       "      <td>False</td>\n",
       "      <td>303.0</td>\n",
       "      <td>70.0</td>\n",
       "      <td>151.0</td>\n",
       "      <td>565.0</td>\n",
       "      <td>2.0</td>\n",
       "      <td>True</td>\n",
       "    </tr>\n",
       "    <tr>\n",
       "      <th>...</th>\n",
       "      <td>...</td>\n",
       "      <td>...</td>\n",
       "      <td>...</td>\n",
       "      <td>...</td>\n",
       "      <td>...</td>\n",
       "      <td>...</td>\n",
       "      <td>...</td>\n",
       "      <td>...</td>\n",
       "      <td>...</td>\n",
       "      <td>...</td>\n",
       "      <td>...</td>\n",
       "      <td>...</td>\n",
       "    </tr>\n",
       "    <tr>\n",
       "      <th>8688</th>\n",
       "      <td>Europa</td>\n",
       "      <td>False</td>\n",
       "      <td>A/98/P</td>\n",
       "      <td>55 Cancri e</td>\n",
       "      <td>41.0</td>\n",
       "      <td>True</td>\n",
       "      <td>0.0</td>\n",
       "      <td>6819.0</td>\n",
       "      <td>0.0</td>\n",
       "      <td>1643.0</td>\n",
       "      <td>74.0</td>\n",
       "      <td>False</td>\n",
       "    </tr>\n",
       "    <tr>\n",
       "      <th>8689</th>\n",
       "      <td>Earth</td>\n",
       "      <td>True</td>\n",
       "      <td>G/1499/S</td>\n",
       "      <td>PSO J318.5-22</td>\n",
       "      <td>18.0</td>\n",
       "      <td>False</td>\n",
       "      <td>0.0</td>\n",
       "      <td>0.0</td>\n",
       "      <td>0.0</td>\n",
       "      <td>0.0</td>\n",
       "      <td>0.0</td>\n",
       "      <td>False</td>\n",
       "    </tr>\n",
       "    <tr>\n",
       "      <th>8690</th>\n",
       "      <td>Earth</td>\n",
       "      <td>False</td>\n",
       "      <td>G/1500/S</td>\n",
       "      <td>TRAPPIST-1e</td>\n",
       "      <td>26.0</td>\n",
       "      <td>False</td>\n",
       "      <td>0.0</td>\n",
       "      <td>0.0</td>\n",
       "      <td>1872.0</td>\n",
       "      <td>1.0</td>\n",
       "      <td>0.0</td>\n",
       "      <td>True</td>\n",
       "    </tr>\n",
       "    <tr>\n",
       "      <th>8691</th>\n",
       "      <td>Europa</td>\n",
       "      <td>False</td>\n",
       "      <td>E/608/S</td>\n",
       "      <td>55 Cancri e</td>\n",
       "      <td>32.0</td>\n",
       "      <td>False</td>\n",
       "      <td>0.0</td>\n",
       "      <td>1049.0</td>\n",
       "      <td>0.0</td>\n",
       "      <td>353.0</td>\n",
       "      <td>3235.0</td>\n",
       "      <td>False</td>\n",
       "    </tr>\n",
       "    <tr>\n",
       "      <th>8692</th>\n",
       "      <td>Europa</td>\n",
       "      <td>False</td>\n",
       "      <td>E/608/S</td>\n",
       "      <td>TRAPPIST-1e</td>\n",
       "      <td>44.0</td>\n",
       "      <td>False</td>\n",
       "      <td>126.0</td>\n",
       "      <td>4688.0</td>\n",
       "      <td>0.0</td>\n",
       "      <td>0.0</td>\n",
       "      <td>12.0</td>\n",
       "      <td>True</td>\n",
       "    </tr>\n",
       "  </tbody>\n",
       "</table>\n",
       "<p>8693 rows × 12 columns</p>\n",
       "</div>"
      ],
      "text/plain": [
       "     HomePlanet CryoSleep     Cabin    Destination   Age    VIP  RoomService  \\\n",
       "0        Europa     False     B/0/P    TRAPPIST-1e  39.0  False          0.0   \n",
       "1         Earth     False     F/0/S    TRAPPIST-1e  24.0  False        109.0   \n",
       "2        Europa     False     A/0/S    TRAPPIST-1e  58.0   True         43.0   \n",
       "3        Europa     False     A/0/S    TRAPPIST-1e  33.0  False          0.0   \n",
       "4         Earth     False     F/1/S    TRAPPIST-1e  16.0  False        303.0   \n",
       "...         ...       ...       ...            ...   ...    ...          ...   \n",
       "8688     Europa     False    A/98/P    55 Cancri e  41.0   True          0.0   \n",
       "8689      Earth      True  G/1499/S  PSO J318.5-22  18.0  False          0.0   \n",
       "8690      Earth     False  G/1500/S    TRAPPIST-1e  26.0  False          0.0   \n",
       "8691     Europa     False   E/608/S    55 Cancri e  32.0  False          0.0   \n",
       "8692     Europa     False   E/608/S    TRAPPIST-1e  44.0  False        126.0   \n",
       "\n",
       "      FoodCourt  ShoppingMall     Spa  VRDeck  Transported  \n",
       "0           0.0           0.0     0.0     0.0        False  \n",
       "1           9.0          25.0   549.0    44.0         True  \n",
       "2        3576.0           0.0  6715.0    49.0        False  \n",
       "3        1283.0         371.0  3329.0   193.0        False  \n",
       "4          70.0         151.0   565.0     2.0         True  \n",
       "...         ...           ...     ...     ...          ...  \n",
       "8688     6819.0           0.0  1643.0    74.0        False  \n",
       "8689        0.0           0.0     0.0     0.0        False  \n",
       "8690        0.0        1872.0     1.0     0.0         True  \n",
       "8691     1049.0           0.0   353.0  3235.0        False  \n",
       "8692     4688.0           0.0     0.0    12.0         True  \n",
       "\n",
       "[8693 rows x 12 columns]"
      ]
     },
     "execution_count": 6,
     "metadata": {},
     "output_type": "execute_result"
    }
   ],
   "source": [
    "df_train = df_train.drop(['PassengerId', 'Name'], axis='columns')\n",
    "df_train"
   ]
  },
  {
   "cell_type": "code",
   "execution_count": 7,
   "id": "9b0829a5",
   "metadata": {
    "execution": {
     "iopub.execute_input": "2023-03-31T21:18:06.187683Z",
     "iopub.status.busy": "2023-03-31T21:18:06.187194Z",
     "iopub.status.idle": "2023-03-31T21:18:06.195282Z",
     "shell.execute_reply": "2023-03-31T21:18:06.193985Z"
    },
    "papermill": {
     "duration": 0.029507,
     "end_time": "2023-03-31T21:18:06.197956",
     "exception": false,
     "start_time": "2023-03-31T21:18:06.168449",
     "status": "completed"
    },
    "tags": []
   },
   "outputs": [
    {
     "data": {
      "text/plain": [
       "Index(['HomePlanet', 'CryoSleep', 'Cabin', 'Destination', 'Age', 'VIP',\n",
       "       'RoomService', 'FoodCourt', 'ShoppingMall', 'Spa', 'VRDeck',\n",
       "       'Transported'],\n",
       "      dtype='object')"
      ]
     },
     "execution_count": 7,
     "metadata": {},
     "output_type": "execute_result"
    }
   ],
   "source": [
    "df_train.columns"
   ]
  },
  {
   "cell_type": "code",
   "execution_count": 8,
   "id": "5096c7cc",
   "metadata": {
    "execution": {
     "iopub.execute_input": "2023-03-31T21:18:06.236239Z",
     "iopub.status.busy": "2023-03-31T21:18:06.235541Z",
     "iopub.status.idle": "2023-03-31T21:18:07.648850Z",
     "shell.execute_reply": "2023-03-31T21:18:07.647253Z"
    },
    "papermill": {
     "duration": 1.436537,
     "end_time": "2023-03-31T21:18:07.652377",
     "exception": false,
     "start_time": "2023-03-31T21:18:06.215840",
     "status": "completed"
    },
    "tags": []
   },
   "outputs": [],
   "source": [
    "import seaborn as sns\n",
    "import matplotlib.pyplot as plt\n"
   ]
  },
  {
   "cell_type": "code",
   "execution_count": 9,
   "id": "811e06f5",
   "metadata": {
    "execution": {
     "iopub.execute_input": "2023-03-31T21:18:07.688849Z",
     "iopub.status.busy": "2023-03-31T21:18:07.688359Z",
     "iopub.status.idle": "2023-03-31T21:18:07.717458Z",
     "shell.execute_reply": "2023-03-31T21:18:07.715826Z"
    },
    "papermill": {
     "duration": 0.050667,
     "end_time": "2023-03-31T21:18:07.720736",
     "exception": false,
     "start_time": "2023-03-31T21:18:07.670069",
     "status": "completed"
    },
    "tags": []
   },
   "outputs": [
    {
     "data": {
      "text/html": [
       "<div>\n",
       "<style scoped>\n",
       "    .dataframe tbody tr th:only-of-type {\n",
       "        vertical-align: middle;\n",
       "    }\n",
       "\n",
       "    .dataframe tbody tr th {\n",
       "        vertical-align: top;\n",
       "    }\n",
       "\n",
       "    .dataframe thead th {\n",
       "        text-align: right;\n",
       "    }\n",
       "</style>\n",
       "<table border=\"1\" class=\"dataframe\">\n",
       "  <thead>\n",
       "    <tr style=\"text-align: right;\">\n",
       "      <th></th>\n",
       "      <th>Age</th>\n",
       "      <th>FoodCourt</th>\n",
       "      <th>RoomService</th>\n",
       "      <th>ShoppingMall</th>\n",
       "      <th>Spa</th>\n",
       "      <th>VRDeck</th>\n",
       "    </tr>\n",
       "    <tr>\n",
       "      <th>Transported</th>\n",
       "      <th></th>\n",
       "      <th></th>\n",
       "      <th></th>\n",
       "      <th></th>\n",
       "      <th></th>\n",
       "      <th></th>\n",
       "    </tr>\n",
       "  </thead>\n",
       "  <tbody>\n",
       "    <tr>\n",
       "      <th>False</th>\n",
       "      <td>29.922858</td>\n",
       "      <td>382.615930</td>\n",
       "      <td>389.266066</td>\n",
       "      <td>167.566217</td>\n",
       "      <td>564.382666</td>\n",
       "      <td>543.629822</td>\n",
       "    </tr>\n",
       "    <tr>\n",
       "      <th>True</th>\n",
       "      <td>27.748834</td>\n",
       "      <td>532.691984</td>\n",
       "      <td>63.098021</td>\n",
       "      <td>179.829972</td>\n",
       "      <td>61.675531</td>\n",
       "      <td>69.148131</td>\n",
       "    </tr>\n",
       "  </tbody>\n",
       "</table>\n",
       "</div>"
      ],
      "text/plain": [
       "                   Age   FoodCourt  RoomService  ShoppingMall         Spa  \\\n",
       "Transported                                                                 \n",
       "False        29.922858  382.615930   389.266066    167.566217  564.382666   \n",
       "True         27.748834  532.691984    63.098021    179.829972   61.675531   \n",
       "\n",
       "                 VRDeck  \n",
       "Transported              \n",
       "False        543.629822  \n",
       "True          69.148131  "
      ]
     },
     "execution_count": 9,
     "metadata": {},
     "output_type": "execute_result"
    }
   ],
   "source": [
    "pd.pivot_table(df_train ,index = 'Transported',values =['HomePlanet', 'CryoSleep', 'Cabin', 'Destination', 'Age', 'VIP',\n",
    "       'RoomService', 'FoodCourt', 'ShoppingMall', 'Spa', 'VRDeck',\n",
    "       'Transported'] )\n"
   ]
  },
  {
   "cell_type": "code",
   "execution_count": 10,
   "id": "5c1c935f",
   "metadata": {
    "execution": {
     "iopub.execute_input": "2023-03-31T21:18:07.757382Z",
     "iopub.status.busy": "2023-03-31T21:18:07.756824Z",
     "iopub.status.idle": "2023-03-31T21:21:05.974985Z",
     "shell.execute_reply": "2023-03-31T21:21:05.973541Z"
    },
    "papermill": {
     "duration": 178.240111,
     "end_time": "2023-03-31T21:21:05.978415",
     "exception": false,
     "start_time": "2023-03-31T21:18:07.738304",
     "status": "completed"
    },
    "tags": []
   },
   "outputs": [
    {
     "data": {
      "image/png": "[encoded data removed]",
      "text/plain": [
       "<Figure size 640x480 with 1 Axes>"
      ]
     },
     "metadata": {},
     "output_type": "display_data"
    },
    {
     "data": {
      "image/png": "[encoded data removed]",
      "text/plain": [
       "<Figure size 640x480 with 1 Axes>"
      ]
     },
     "metadata": {},
     "output_type": "display_data"
    },
    {
     "data": {
      "image/png": "[encoded data removed]",
      "text/plain": [
       "<Figure size 640x480 with 1 Axes>"
      ]
     },
     "metadata": {},
     "output_type": "display_data"
    },
    {
     "data": {
      "image/png": "[encoded data removed]",
      "text/plain": [
       "<Figure size 640x480 with 1 Axes>"
      ]
     },
     "metadata": {},
     "output_type": "display_data"
    },
    {
     "data": {
      "image/png": "[encoded data removed]",
      "text/plain": [
       "<Figure size 640x480 with 1 Axes>"
      ]
     },
     "metadata": {},
     "output_type": "display_data"
    },
    {
     "data": {
      "image/png": "[encoded data removed]",
      "text/plain": [
       "<Figure size 640x480 with 1 Axes>"
      ]
     },
     "metadata": {},
     "output_type": "display_data"
    },
    {
     "data": {
      "image/png": "[encoded data removed]",
      "text/plain": [
       "<Figure size 640x480 with 1 Axes>"
      ]
     },
     "metadata": {},
     "output_type": "display_data"
    },
    {
     "data": {
      "image/png": "[encoded data removed]",
      "text/plain": [
       "<Figure size 640x480 with 1 Axes>"
      ]
     },
     "metadata": {},
     "output_type": "display_data"
    },
    {
     "data": {
      "image/png": "[encoded data removed]",
      "text/plain": [
       "<Figure size 640x480 with 1 Axes>"
      ]
     },
     "metadata": {},
     "output_type": "display_data"
    },
    {
     "data": {
      "image/png": "[encoded data removed]",
      "text/plain": [
       "<Figure size 640x480 with 1 Axes>"
      ]
     },
     "metadata": {},
     "output_type": "display_data"
    },
    {
     "data": {
      "image/png": "[encoded data removed]",
      "text/plain": [
       "<Figure size 640x480 with 1 Axes>"
      ]
     },
     "metadata": {},
     "output_type": "display_data"
    },
    {
     "data": {
      "image/png": "[encoded data removed]",
      "text/plain": [
       "<Figure size 640x480 with 1 Axes>"
      ]
     },
     "metadata": {},
     "output_type": "display_data"
    }
   ],
   "source": [
    "for i in df_train.columns:\n",
    "    sns.barplot(x=df_train[i].value_counts().index,y=df_train[i].value_counts()).set_title(i)\n",
    "    plt.show()"
   ]
  },
  {
   "cell_type": "code",
   "execution_count": 11,
   "id": "451aae49",
   "metadata": {
    "execution": {
     "iopub.execute_input": "2023-03-31T21:21:06.024585Z",
     "iopub.status.busy": "2023-03-31T21:21:06.023665Z",
     "iopub.status.idle": "2023-03-31T21:21:06.037472Z",
     "shell.execute_reply": "2023-03-31T21:21:06.036509Z"
    },
    "papermill": {
     "duration": 0.039539,
     "end_time": "2023-03-31T21:21:06.039983",
     "exception": false,
     "start_time": "2023-03-31T21:21:06.000444",
     "status": "completed"
    },
    "tags": []
   },
   "outputs": [
    {
     "data": {
      "text/plain": [
       "CryoSleep       217\n",
       "ShoppingMall    208\n",
       "VIP             203\n",
       "HomePlanet      201\n",
       "Cabin           199\n",
       "VRDeck          188\n",
       "FoodCourt       183\n",
       "Spa             183\n",
       "Destination     182\n",
       "RoomService     181\n",
       "Age             179\n",
       "Transported       0\n",
       "dtype: int64"
      ]
     },
     "execution_count": 11,
     "metadata": {},
     "output_type": "execute_result"
    }
   ],
   "source": [
    "df_train.isnull().sum().sort_values(ascending=False)\n"
   ]
  },
  {
   "cell_type": "code",
   "execution_count": 12,
   "id": "bb772bd0",
   "metadata": {
    "execution": {
     "iopub.execute_input": "2023-03-31T21:21:06.085836Z",
     "iopub.status.busy": "2023-03-31T21:21:06.085156Z",
     "iopub.status.idle": "2023-03-31T21:21:06.111164Z",
     "shell.execute_reply": "2023-03-31T21:21:06.108825Z"
    },
    "papermill": {
     "duration": 0.054142,
     "end_time": "2023-03-31T21:21:06.115557",
     "exception": false,
     "start_time": "2023-03-31T21:21:06.061415",
     "status": "completed"
    },
    "tags": []
   },
   "outputs": [
    {
     "name": "stdout",
     "output_type": "stream",
     "text": [
      "<class 'pandas.core.frame.DataFrame'>\n",
      "RangeIndex: 8693 entries, 0 to 8692\n",
      "Data columns (total 12 columns):\n",
      " #   Column        Non-Null Count  Dtype  \n",
      "---  ------        --------------  -----  \n",
      " 0   HomePlanet    8492 non-null   object \n",
      " 1   CryoSleep     8476 non-null   object \n",
      " 2   Cabin         8494 non-null   object \n",
      " 3   Destination   8511 non-null   object \n",
      " 4   Age           8514 non-null   float64\n",
      " 5   VIP           8490 non-null   object \n",
      " 6   RoomService   8512 non-null   float64\n",
      " 7   FoodCourt     8510 non-null   float64\n",
      " 8   ShoppingMall  8485 non-null   float64\n",
      " 9   Spa           8510 non-null   float64\n",
      " 10  VRDeck        8505 non-null   float64\n",
      " 11  Transported   8693 non-null   bool   \n",
      "dtypes: bool(1), float64(6), object(5)\n",
      "memory usage: 755.7+ KB\n"
     ]
    }
   ],
   "source": [
    "df_train.info()"
   ]
  },
  {
   "cell_type": "code",
   "execution_count": 13,
   "id": "284ef2f2",
   "metadata": {
    "execution": {
     "iopub.execute_input": "2023-03-31T21:21:06.176839Z",
     "iopub.status.busy": "2023-03-31T21:21:06.175156Z",
     "iopub.status.idle": "2023-03-31T21:21:06.205488Z",
     "shell.execute_reply": "2023-03-31T21:21:06.203999Z"
    },
    "papermill": {
     "duration": 0.066029,
     "end_time": "2023-03-31T21:21:06.208547",
     "exception": false,
     "start_time": "2023-03-31T21:21:06.142518",
     "status": "completed"
    },
    "tags": []
   },
   "outputs": [
    {
     "data": {
      "text/plain": [
       "HomePlanet      201\n",
       "Cabin           199\n",
       "Destination     182\n",
       "Age             179\n",
       "CryoSleep         0\n",
       "VIP               0\n",
       "RoomService       0\n",
       "FoodCourt         0\n",
       "ShoppingMall      0\n",
       "Spa               0\n",
       "VRDeck            0\n",
       "Transported       0\n",
       "dtype: int64"
      ]
     },
     "execution_count": 13,
     "metadata": {},
     "output_type": "execute_result"
    }
   ],
   "source": [
    "df_train[['VIP', 'CryoSleep', 'FoodCourt','RoomService','ShoppingMall', 'Spa', 'VRDeck']] = df_train[['VIP','RoomService', 'CryoSleep', 'FoodCourt', 'ShoppingMall', 'Spa', 'VRDeck']].fillna(value=0)\n",
    "df_train.isnull().sum().sort_values(ascending=False)"
   ]
  },
  {
   "cell_type": "code",
   "execution_count": 14,
   "id": "03b10b89",
   "metadata": {
    "execution": {
     "iopub.execute_input": "2023-03-31T21:21:06.254919Z",
     "iopub.status.busy": "2023-03-31T21:21:06.253351Z",
     "iopub.status.idle": "2023-03-31T21:21:06.262840Z",
     "shell.execute_reply": "2023-03-31T21:21:06.261700Z"
    },
    "papermill": {
     "duration": 0.035989,
     "end_time": "2023-03-31T21:21:06.266342",
     "exception": false,
     "start_time": "2023-03-31T21:21:06.230353",
     "status": "completed"
    },
    "tags": []
   },
   "outputs": [],
   "source": [
    "df_train.Age = df_train.Age.fillna(df_train.Age.median())"
   ]
  },
  {
   "cell_type": "code",
   "execution_count": 15,
   "id": "9f381eda",
   "metadata": {
    "execution": {
     "iopub.execute_input": "2023-03-31T21:21:06.312856Z",
     "iopub.status.busy": "2023-03-31T21:21:06.312377Z",
     "iopub.status.idle": "2023-03-31T21:21:06.328370Z",
     "shell.execute_reply": "2023-03-31T21:21:06.327062Z"
    },
    "papermill": {
     "duration": 0.042707,
     "end_time": "2023-03-31T21:21:06.331201",
     "exception": false,
     "start_time": "2023-03-31T21:21:06.288494",
     "status": "completed"
    },
    "tags": []
   },
   "outputs": [
    {
     "data": {
      "text/plain": [
       "HomePlanet      201\n",
       "Cabin           199\n",
       "Destination     182\n",
       "CryoSleep         0\n",
       "Age               0\n",
       "VIP               0\n",
       "RoomService       0\n",
       "FoodCourt         0\n",
       "ShoppingMall      0\n",
       "Spa               0\n",
       "VRDeck            0\n",
       "Transported       0\n",
       "dtype: int64"
      ]
     },
     "execution_count": 15,
     "metadata": {},
     "output_type": "execute_result"
    }
   ],
   "source": [
    "df_train.isnull().sum().sort_values(ascending=False)"
   ]
  },
  {
   "cell_type": "code",
   "execution_count": 16,
   "id": "80d1bcab",
   "metadata": {
    "execution": {
     "iopub.execute_input": "2023-03-31T21:21:06.376046Z",
     "iopub.status.busy": "2023-03-31T21:21:06.375550Z",
     "iopub.status.idle": "2023-03-31T21:21:06.387956Z",
     "shell.execute_reply": "2023-03-31T21:21:06.386355Z"
    },
    "papermill": {
     "duration": 0.039152,
     "end_time": "2023-03-31T21:21:06.391499",
     "exception": false,
     "start_time": "2023-03-31T21:21:06.352347",
     "status": "completed"
    },
    "tags": []
   },
   "outputs": [],
   "source": [
    "df_train['VIP'] =df_train['VIP'].astype(int)\n",
    "df_train['CryoSleep'] = df_train['CryoSleep'].astype(int)\n",
    "df_train['Transported'] = df_train['Transported'].astype(int)\n",
    "df_train['FoodCourt'] = df_train['FoodCourt'].astype(int)"
   ]
  },
  {
   "cell_type": "code",
   "execution_count": 17,
   "id": "f9139e4a",
   "metadata": {
    "execution": {
     "iopub.execute_input": "2023-03-31T21:21:06.436812Z",
     "iopub.status.busy": "2023-03-31T21:21:06.435715Z",
     "iopub.status.idle": "2023-03-31T21:21:06.465160Z",
     "shell.execute_reply": "2023-03-31T21:21:06.464176Z"
    },
    "papermill": {
     "duration": 0.054955,
     "end_time": "2023-03-31T21:21:06.467601",
     "exception": false,
     "start_time": "2023-03-31T21:21:06.412646",
     "status": "completed"
    },
    "tags": []
   },
   "outputs": [
    {
     "data": {
      "text/html": [
       "<div>\n",
       "<style scoped>\n",
       "    .dataframe tbody tr th:only-of-type {\n",
       "        vertical-align: middle;\n",
       "    }\n",
       "\n",
       "    .dataframe tbody tr th {\n",
       "        vertical-align: top;\n",
       "    }\n",
       "\n",
       "    .dataframe thead th {\n",
       "        text-align: right;\n",
       "    }\n",
       "</style>\n",
       "<table border=\"1\" class=\"dataframe\">\n",
       "  <thead>\n",
       "    <tr style=\"text-align: right;\">\n",
       "      <th></th>\n",
       "      <th>HomePlanet</th>\n",
       "      <th>CryoSleep</th>\n",
       "      <th>Cabin</th>\n",
       "      <th>Destination</th>\n",
       "      <th>Age</th>\n",
       "      <th>VIP</th>\n",
       "      <th>RoomService</th>\n",
       "      <th>FoodCourt</th>\n",
       "      <th>ShoppingMall</th>\n",
       "      <th>Spa</th>\n",
       "      <th>VRDeck</th>\n",
       "      <th>Transported</th>\n",
       "    </tr>\n",
       "  </thead>\n",
       "  <tbody>\n",
       "    <tr>\n",
       "      <th>0</th>\n",
       "      <td>Europa</td>\n",
       "      <td>0</td>\n",
       "      <td>B/0/P</td>\n",
       "      <td>TRAPPIST-1e</td>\n",
       "      <td>39.0</td>\n",
       "      <td>0</td>\n",
       "      <td>0.0</td>\n",
       "      <td>0</td>\n",
       "      <td>0.0</td>\n",
       "      <td>0.0</td>\n",
       "      <td>0.0</td>\n",
       "      <td>0</td>\n",
       "    </tr>\n",
       "    <tr>\n",
       "      <th>1</th>\n",
       "      <td>Earth</td>\n",
       "      <td>109</td>\n",
       "      <td>F/0/S</td>\n",
       "      <td>TRAPPIST-1e</td>\n",
       "      <td>24.0</td>\n",
       "      <td>0</td>\n",
       "      <td>9.0</td>\n",
       "      <td>0</td>\n",
       "      <td>25.0</td>\n",
       "      <td>549.0</td>\n",
       "      <td>44.0</td>\n",
       "      <td>1</td>\n",
       "    </tr>\n",
       "    <tr>\n",
       "      <th>2</th>\n",
       "      <td>Europa</td>\n",
       "      <td>43</td>\n",
       "      <td>A/0/S</td>\n",
       "      <td>TRAPPIST-1e</td>\n",
       "      <td>58.0</td>\n",
       "      <td>1</td>\n",
       "      <td>3576.0</td>\n",
       "      <td>0</td>\n",
       "      <td>0.0</td>\n",
       "      <td>6715.0</td>\n",
       "      <td>49.0</td>\n",
       "      <td>0</td>\n",
       "    </tr>\n",
       "    <tr>\n",
       "      <th>3</th>\n",
       "      <td>Europa</td>\n",
       "      <td>0</td>\n",
       "      <td>A/0/S</td>\n",
       "      <td>TRAPPIST-1e</td>\n",
       "      <td>33.0</td>\n",
       "      <td>0</td>\n",
       "      <td>1283.0</td>\n",
       "      <td>0</td>\n",
       "      <td>371.0</td>\n",
       "      <td>3329.0</td>\n",
       "      <td>193.0</td>\n",
       "      <td>0</td>\n",
       "    </tr>\n",
       "    <tr>\n",
       "      <th>4</th>\n",
       "      <td>Earth</td>\n",
       "      <td>303</td>\n",
       "      <td>F/1/S</td>\n",
       "      <td>TRAPPIST-1e</td>\n",
       "      <td>16.0</td>\n",
       "      <td>0</td>\n",
       "      <td>70.0</td>\n",
       "      <td>0</td>\n",
       "      <td>151.0</td>\n",
       "      <td>565.0</td>\n",
       "      <td>2.0</td>\n",
       "      <td>1</td>\n",
       "    </tr>\n",
       "    <tr>\n",
       "      <th>...</th>\n",
       "      <td>...</td>\n",
       "      <td>...</td>\n",
       "      <td>...</td>\n",
       "      <td>...</td>\n",
       "      <td>...</td>\n",
       "      <td>...</td>\n",
       "      <td>...</td>\n",
       "      <td>...</td>\n",
       "      <td>...</td>\n",
       "      <td>...</td>\n",
       "      <td>...</td>\n",
       "      <td>...</td>\n",
       "    </tr>\n",
       "    <tr>\n",
       "      <th>8688</th>\n",
       "      <td>Europa</td>\n",
       "      <td>0</td>\n",
       "      <td>A/98/P</td>\n",
       "      <td>55 Cancri e</td>\n",
       "      <td>41.0</td>\n",
       "      <td>1</td>\n",
       "      <td>6819.0</td>\n",
       "      <td>0</td>\n",
       "      <td>0.0</td>\n",
       "      <td>1643.0</td>\n",
       "      <td>74.0</td>\n",
       "      <td>0</td>\n",
       "    </tr>\n",
       "    <tr>\n",
       "      <th>8689</th>\n",
       "      <td>Earth</td>\n",
       "      <td>0</td>\n",
       "      <td>G/1499/S</td>\n",
       "      <td>PSO J318.5-22</td>\n",
       "      <td>18.0</td>\n",
       "      <td>0</td>\n",
       "      <td>0.0</td>\n",
       "      <td>1</td>\n",
       "      <td>0.0</td>\n",
       "      <td>0.0</td>\n",
       "      <td>0.0</td>\n",
       "      <td>0</td>\n",
       "    </tr>\n",
       "    <tr>\n",
       "      <th>8690</th>\n",
       "      <td>Earth</td>\n",
       "      <td>0</td>\n",
       "      <td>G/1500/S</td>\n",
       "      <td>TRAPPIST-1e</td>\n",
       "      <td>26.0</td>\n",
       "      <td>0</td>\n",
       "      <td>0.0</td>\n",
       "      <td>0</td>\n",
       "      <td>1872.0</td>\n",
       "      <td>1.0</td>\n",
       "      <td>0.0</td>\n",
       "      <td>1</td>\n",
       "    </tr>\n",
       "    <tr>\n",
       "      <th>8691</th>\n",
       "      <td>Europa</td>\n",
       "      <td>0</td>\n",
       "      <td>E/608/S</td>\n",
       "      <td>55 Cancri e</td>\n",
       "      <td>32.0</td>\n",
       "      <td>0</td>\n",
       "      <td>1049.0</td>\n",
       "      <td>0</td>\n",
       "      <td>0.0</td>\n",
       "      <td>353.0</td>\n",
       "      <td>3235.0</td>\n",
       "      <td>0</td>\n",
       "    </tr>\n",
       "    <tr>\n",
       "      <th>8692</th>\n",
       "      <td>Europa</td>\n",
       "      <td>126</td>\n",
       "      <td>E/608/S</td>\n",
       "      <td>TRAPPIST-1e</td>\n",
       "      <td>44.0</td>\n",
       "      <td>0</td>\n",
       "      <td>4688.0</td>\n",
       "      <td>0</td>\n",
       "      <td>0.0</td>\n",
       "      <td>0.0</td>\n",
       "      <td>12.0</td>\n",
       "      <td>1</td>\n",
       "    </tr>\n",
       "  </tbody>\n",
       "</table>\n",
       "<p>8693 rows × 12 columns</p>\n",
       "</div>"
      ],
      "text/plain": [
       "     HomePlanet  CryoSleep     Cabin    Destination   Age  VIP  RoomService  \\\n",
       "0        Europa          0     B/0/P    TRAPPIST-1e  39.0    0          0.0   \n",
       "1         Earth        109     F/0/S    TRAPPIST-1e  24.0    0          9.0   \n",
       "2        Europa         43     A/0/S    TRAPPIST-1e  58.0    1       3576.0   \n",
       "3        Europa          0     A/0/S    TRAPPIST-1e  33.0    0       1283.0   \n",
       "4         Earth        303     F/1/S    TRAPPIST-1e  16.0    0         70.0   \n",
       "...         ...        ...       ...            ...   ...  ...          ...   \n",
       "8688     Europa          0    A/98/P    55 Cancri e  41.0    1       6819.0   \n",
       "8689      Earth          0  G/1499/S  PSO J318.5-22  18.0    0          0.0   \n",
       "8690      Earth          0  G/1500/S    TRAPPIST-1e  26.0    0          0.0   \n",
       "8691     Europa          0   E/608/S    55 Cancri e  32.0    0       1049.0   \n",
       "8692     Europa        126   E/608/S    TRAPPIST-1e  44.0    0       4688.0   \n",
       "\n",
       "      FoodCourt  ShoppingMall     Spa  VRDeck  Transported  \n",
       "0             0           0.0     0.0     0.0            0  \n",
       "1             0          25.0   549.0    44.0            1  \n",
       "2             0           0.0  6715.0    49.0            0  \n",
       "3             0         371.0  3329.0   193.0            0  \n",
       "4             0         151.0   565.0     2.0            1  \n",
       "...         ...           ...     ...     ...          ...  \n",
       "8688          0           0.0  1643.0    74.0            0  \n",
       "8689          1           0.0     0.0     0.0            0  \n",
       "8690          0        1872.0     1.0     0.0            1  \n",
       "8691          0           0.0   353.0  3235.0            0  \n",
       "8692          0           0.0     0.0    12.0            1  \n",
       "\n",
       "[8693 rows x 12 columns]"
      ]
     },
     "execution_count": 17,
     "metadata": {},
     "output_type": "execute_result"
    }
   ],
   "source": [
    "df_train"
   ]
  },
  {
   "cell_type": "code",
   "execution_count": 18,
   "id": "2579123d",
   "metadata": {
    "execution": {
     "iopub.execute_input": "2023-03-31T21:21:06.513314Z",
     "iopub.status.busy": "2023-03-31T21:21:06.512680Z",
     "iopub.status.idle": "2023-03-31T21:21:06.522019Z",
     "shell.execute_reply": "2023-03-31T21:21:06.520482Z"
    },
    "papermill": {
     "duration": 0.035624,
     "end_time": "2023-03-31T21:21:06.524904",
     "exception": false,
     "start_time": "2023-03-31T21:21:06.489280",
     "status": "completed"
    },
    "tags": []
   },
   "outputs": [
    {
     "data": {
      "text/plain": [
       "array(['TRAPPIST-1e', 'PSO J318.5-22', '55 Cancri e', nan], dtype=object)"
      ]
     },
     "execution_count": 18,
     "metadata": {},
     "output_type": "execute_result"
    }
   ],
   "source": [
    "df_train.Destination.unique()"
   ]
  },
  {
   "cell_type": "code",
   "execution_count": 19,
   "id": "88accb90",
   "metadata": {
    "execution": {
     "iopub.execute_input": "2023-03-31T21:21:06.571914Z",
     "iopub.status.busy": "2023-03-31T21:21:06.571386Z",
     "iopub.status.idle": "2023-03-31T21:21:06.585865Z",
     "shell.execute_reply": "2023-03-31T21:21:06.584649Z"
    },
    "papermill": {
     "duration": 0.041076,
     "end_time": "2023-03-31T21:21:06.588547",
     "exception": false,
     "start_time": "2023-03-31T21:21:06.547471",
     "status": "completed"
    },
    "tags": []
   },
   "outputs": [
    {
     "data": {
      "text/plain": [
       "HomePlanet      201\n",
       "Cabin           199\n",
       "Destination     182\n",
       "CryoSleep         0\n",
       "Age               0\n",
       "VIP               0\n",
       "RoomService       0\n",
       "FoodCourt         0\n",
       "ShoppingMall      0\n",
       "Spa               0\n",
       "VRDeck            0\n",
       "Transported       0\n",
       "dtype: int64"
      ]
     },
     "execution_count": 19,
     "metadata": {},
     "output_type": "execute_result"
    }
   ],
   "source": [
    "df_train.isnull().sum().sort_values(ascending=False)\n"
   ]
  },
  {
   "cell_type": "code",
   "execution_count": 20,
   "id": "a60c12dd",
   "metadata": {
    "execution": {
     "iopub.execute_input": "2023-03-31T21:21:06.634794Z",
     "iopub.status.busy": "2023-03-31T21:21:06.634281Z",
     "iopub.status.idle": "2023-03-31T21:21:06.644587Z",
     "shell.execute_reply": "2023-03-31T21:21:06.643339Z"
    },
    "papermill": {
     "duration": 0.036807,
     "end_time": "2023-03-31T21:21:06.647211",
     "exception": false,
     "start_time": "2023-03-31T21:21:06.610404",
     "status": "completed"
    },
    "tags": []
   },
   "outputs": [
    {
     "data": {
      "text/plain": [
       "array(['B/0/P', 'F/0/S', 'A/0/S', ..., 'G/1499/S', 'G/1500/S', 'E/608/S'],\n",
       "      dtype=object)"
      ]
     },
     "execution_count": 20,
     "metadata": {},
     "output_type": "execute_result"
    }
   ],
   "source": [
    "df_train.Cabin.unique()"
   ]
  },
  {
   "cell_type": "code",
   "execution_count": 21,
   "id": "8e628825",
   "metadata": {
    "execution": {
     "iopub.execute_input": "2023-03-31T21:21:06.697436Z",
     "iopub.status.busy": "2023-03-31T21:21:06.696863Z",
     "iopub.status.idle": "2023-03-31T21:21:06.731484Z",
     "shell.execute_reply": "2023-03-31T21:21:06.729998Z"
    },
    "papermill": {
     "duration": 0.062713,
     "end_time": "2023-03-31T21:21:06.735012",
     "exception": false,
     "start_time": "2023-03-31T21:21:06.672299",
     "status": "completed"
    },
    "tags": []
   },
   "outputs": [],
   "source": [
    "df_train[['Deck', 'Num', 'Side']] = df_train['Cabin'].str.split(\"/\", expand = True)\n",
    "df_train = df_train.drop(\"Cabin\", axis='columns')\n",
    "\n",
    "    \n",
    "\n"
   ]
  },
  {
   "cell_type": "code",
   "execution_count": 22,
   "id": "6bbe789b",
   "metadata": {
    "execution": {
     "iopub.execute_input": "2023-03-31T21:21:06.782760Z",
     "iopub.status.busy": "2023-03-31T21:21:06.782233Z",
     "iopub.status.idle": "2023-03-31T21:21:06.802900Z",
     "shell.execute_reply": "2023-03-31T21:21:06.801332Z"
    },
    "papermill": {
     "duration": 0.048196,
     "end_time": "2023-03-31T21:21:06.806010",
     "exception": false,
     "start_time": "2023-03-31T21:21:06.757814",
     "status": "completed"
    },
    "tags": []
   },
   "outputs": [],
   "source": [
    "for col in df_train.select_dtypes(include=['object']):\n",
    "    df_train[col].fillna(df_train[col].mode()[0], inplace=True)"
   ]
  },
  {
   "cell_type": "code",
   "execution_count": 23,
   "id": "16f8c794",
   "metadata": {
    "execution": {
     "iopub.execute_input": "2023-03-31T21:21:06.853673Z",
     "iopub.status.busy": "2023-03-31T21:21:06.852293Z",
     "iopub.status.idle": "2023-03-31T21:21:06.886102Z",
     "shell.execute_reply": "2023-03-31T21:21:06.884558Z"
    },
    "papermill": {
     "duration": 0.06096,
     "end_time": "2023-03-31T21:21:06.889151",
     "exception": false,
     "start_time": "2023-03-31T21:21:06.828191",
     "status": "completed"
    },
    "tags": []
   },
   "outputs": [
    {
     "data": {
      "text/html": [
       "<div>\n",
       "<style scoped>\n",
       "    .dataframe tbody tr th:only-of-type {\n",
       "        vertical-align: middle;\n",
       "    }\n",
       "\n",
       "    .dataframe tbody tr th {\n",
       "        vertical-align: top;\n",
       "    }\n",
       "\n",
       "    .dataframe thead th {\n",
       "        text-align: right;\n",
       "    }\n",
       "</style>\n",
       "<table border=\"1\" class=\"dataframe\">\n",
       "  <thead>\n",
       "    <tr style=\"text-align: right;\">\n",
       "      <th></th>\n",
       "      <th>HomePlanet</th>\n",
       "      <th>CryoSleep</th>\n",
       "      <th>Destination</th>\n",
       "      <th>Age</th>\n",
       "      <th>VIP</th>\n",
       "      <th>RoomService</th>\n",
       "      <th>FoodCourt</th>\n",
       "      <th>ShoppingMall</th>\n",
       "      <th>Spa</th>\n",
       "      <th>VRDeck</th>\n",
       "      <th>Transported</th>\n",
       "      <th>Deck</th>\n",
       "      <th>Num</th>\n",
       "      <th>Side</th>\n",
       "    </tr>\n",
       "  </thead>\n",
       "  <tbody>\n",
       "    <tr>\n",
       "      <th>0</th>\n",
       "      <td>Europa</td>\n",
       "      <td>0</td>\n",
       "      <td>TRAPPIST-1e</td>\n",
       "      <td>39.0</td>\n",
       "      <td>0</td>\n",
       "      <td>0.0</td>\n",
       "      <td>0</td>\n",
       "      <td>0.0</td>\n",
       "      <td>0.0</td>\n",
       "      <td>0.0</td>\n",
       "      <td>0</td>\n",
       "      <td>B</td>\n",
       "      <td>0</td>\n",
       "      <td>P</td>\n",
       "    </tr>\n",
       "    <tr>\n",
       "      <th>1</th>\n",
       "      <td>Earth</td>\n",
       "      <td>109</td>\n",
       "      <td>TRAPPIST-1e</td>\n",
       "      <td>24.0</td>\n",
       "      <td>0</td>\n",
       "      <td>9.0</td>\n",
       "      <td>0</td>\n",
       "      <td>25.0</td>\n",
       "      <td>549.0</td>\n",
       "      <td>44.0</td>\n",
       "      <td>1</td>\n",
       "      <td>F</td>\n",
       "      <td>0</td>\n",
       "      <td>S</td>\n",
       "    </tr>\n",
       "    <tr>\n",
       "      <th>2</th>\n",
       "      <td>Europa</td>\n",
       "      <td>43</td>\n",
       "      <td>TRAPPIST-1e</td>\n",
       "      <td>58.0</td>\n",
       "      <td>1</td>\n",
       "      <td>3576.0</td>\n",
       "      <td>0</td>\n",
       "      <td>0.0</td>\n",
       "      <td>6715.0</td>\n",
       "      <td>49.0</td>\n",
       "      <td>0</td>\n",
       "      <td>A</td>\n",
       "      <td>0</td>\n",
       "      <td>S</td>\n",
       "    </tr>\n",
       "    <tr>\n",
       "      <th>3</th>\n",
       "      <td>Europa</td>\n",
       "      <td>0</td>\n",
       "      <td>TRAPPIST-1e</td>\n",
       "      <td>33.0</td>\n",
       "      <td>0</td>\n",
       "      <td>1283.0</td>\n",
       "      <td>0</td>\n",
       "      <td>371.0</td>\n",
       "      <td>3329.0</td>\n",
       "      <td>193.0</td>\n",
       "      <td>0</td>\n",
       "      <td>A</td>\n",
       "      <td>0</td>\n",
       "      <td>S</td>\n",
       "    </tr>\n",
       "    <tr>\n",
       "      <th>4</th>\n",
       "      <td>Earth</td>\n",
       "      <td>303</td>\n",
       "      <td>TRAPPIST-1e</td>\n",
       "      <td>16.0</td>\n",
       "      <td>0</td>\n",
       "      <td>70.0</td>\n",
       "      <td>0</td>\n",
       "      <td>151.0</td>\n",
       "      <td>565.0</td>\n",
       "      <td>2.0</td>\n",
       "      <td>1</td>\n",
       "      <td>F</td>\n",
       "      <td>1</td>\n",
       "      <td>S</td>\n",
       "    </tr>\n",
       "    <tr>\n",
       "      <th>...</th>\n",
       "      <td>...</td>\n",
       "      <td>...</td>\n",
       "      <td>...</td>\n",
       "      <td>...</td>\n",
       "      <td>...</td>\n",
       "      <td>...</td>\n",
       "      <td>...</td>\n",
       "      <td>...</td>\n",
       "      <td>...</td>\n",
       "      <td>...</td>\n",
       "      <td>...</td>\n",
       "      <td>...</td>\n",
       "      <td>...</td>\n",
       "      <td>...</td>\n",
       "    </tr>\n",
       "    <tr>\n",
       "      <th>8688</th>\n",
       "      <td>Europa</td>\n",
       "      <td>0</td>\n",
       "      <td>55 Cancri e</td>\n",
       "      <td>41.0</td>\n",
       "      <td>1</td>\n",
       "      <td>6819.0</td>\n",
       "      <td>0</td>\n",
       "      <td>0.0</td>\n",
       "      <td>1643.0</td>\n",
       "      <td>74.0</td>\n",
       "      <td>0</td>\n",
       "      <td>A</td>\n",
       "      <td>98</td>\n",
       "      <td>P</td>\n",
       "    </tr>\n",
       "    <tr>\n",
       "      <th>8689</th>\n",
       "      <td>Earth</td>\n",
       "      <td>0</td>\n",
       "      <td>PSO J318.5-22</td>\n",
       "      <td>18.0</td>\n",
       "      <td>0</td>\n",
       "      <td>0.0</td>\n",
       "      <td>1</td>\n",
       "      <td>0.0</td>\n",
       "      <td>0.0</td>\n",
       "      <td>0.0</td>\n",
       "      <td>0</td>\n",
       "      <td>G</td>\n",
       "      <td>1499</td>\n",
       "      <td>S</td>\n",
       "    </tr>\n",
       "    <tr>\n",
       "      <th>8690</th>\n",
       "      <td>Earth</td>\n",
       "      <td>0</td>\n",
       "      <td>TRAPPIST-1e</td>\n",
       "      <td>26.0</td>\n",
       "      <td>0</td>\n",
       "      <td>0.0</td>\n",
       "      <td>0</td>\n",
       "      <td>1872.0</td>\n",
       "      <td>1.0</td>\n",
       "      <td>0.0</td>\n",
       "      <td>1</td>\n",
       "      <td>G</td>\n",
       "      <td>1500</td>\n",
       "      <td>S</td>\n",
       "    </tr>\n",
       "    <tr>\n",
       "      <th>8691</th>\n",
       "      <td>Europa</td>\n",
       "      <td>0</td>\n",
       "      <td>55 Cancri e</td>\n",
       "      <td>32.0</td>\n",
       "      <td>0</td>\n",
       "      <td>1049.0</td>\n",
       "      <td>0</td>\n",
       "      <td>0.0</td>\n",
       "      <td>353.0</td>\n",
       "      <td>3235.0</td>\n",
       "      <td>0</td>\n",
       "      <td>E</td>\n",
       "      <td>608</td>\n",
       "      <td>S</td>\n",
       "    </tr>\n",
       "    <tr>\n",
       "      <th>8692</th>\n",
       "      <td>Europa</td>\n",
       "      <td>126</td>\n",
       "      <td>TRAPPIST-1e</td>\n",
       "      <td>44.0</td>\n",
       "      <td>0</td>\n",
       "      <td>4688.0</td>\n",
       "      <td>0</td>\n",
       "      <td>0.0</td>\n",
       "      <td>0.0</td>\n",
       "      <td>12.0</td>\n",
       "      <td>1</td>\n",
       "      <td>E</td>\n",
       "      <td>608</td>\n",
       "      <td>S</td>\n",
       "    </tr>\n",
       "  </tbody>\n",
       "</table>\n",
       "<p>8693 rows × 14 columns</p>\n",
       "</div>"
      ],
      "text/plain": [
       "     HomePlanet  CryoSleep    Destination   Age  VIP  RoomService  FoodCourt  \\\n",
       "0        Europa          0    TRAPPIST-1e  39.0    0          0.0          0   \n",
       "1         Earth        109    TRAPPIST-1e  24.0    0          9.0          0   \n",
       "2        Europa         43    TRAPPIST-1e  58.0    1       3576.0          0   \n",
       "3        Europa          0    TRAPPIST-1e  33.0    0       1283.0          0   \n",
       "4         Earth        303    TRAPPIST-1e  16.0    0         70.0          0   \n",
       "...         ...        ...            ...   ...  ...          ...        ...   \n",
       "8688     Europa          0    55 Cancri e  41.0    1       6819.0          0   \n",
       "8689      Earth          0  PSO J318.5-22  18.0    0          0.0          1   \n",
       "8690      Earth          0    TRAPPIST-1e  26.0    0          0.0          0   \n",
       "8691     Europa          0    55 Cancri e  32.0    0       1049.0          0   \n",
       "8692     Europa        126    TRAPPIST-1e  44.0    0       4688.0          0   \n",
       "\n",
       "      ShoppingMall     Spa  VRDeck  Transported Deck   Num Side  \n",
       "0              0.0     0.0     0.0            0    B     0    P  \n",
       "1             25.0   549.0    44.0            1    F     0    S  \n",
       "2              0.0  6715.0    49.0            0    A     0    S  \n",
       "3            371.0  3329.0   193.0            0    A     0    S  \n",
       "4            151.0   565.0     2.0            1    F     1    S  \n",
       "...            ...     ...     ...          ...  ...   ...  ...  \n",
       "8688           0.0  1643.0    74.0            0    A    98    P  \n",
       "8689           0.0     0.0     0.0            0    G  1499    S  \n",
       "8690        1872.0     1.0     0.0            1    G  1500    S  \n",
       "8691           0.0   353.0  3235.0            0    E   608    S  \n",
       "8692           0.0     0.0    12.0            1    E   608    S  \n",
       "\n",
       "[8693 rows x 14 columns]"
      ]
     },
     "execution_count": 23,
     "metadata": {},
     "output_type": "execute_result"
    }
   ],
   "source": [
    "df_train"
   ]
  },
  {
   "cell_type": "code",
   "execution_count": 24,
   "id": "f59f2333",
   "metadata": {
    "execution": {
     "iopub.execute_input": "2023-03-31T21:21:06.938257Z",
     "iopub.status.busy": "2023-03-31T21:21:06.937675Z",
     "iopub.status.idle": "2023-03-31T21:21:06.953216Z",
     "shell.execute_reply": "2023-03-31T21:21:06.951988Z"
    },
    "papermill": {
     "duration": 0.043545,
     "end_time": "2023-03-31T21:21:06.956165",
     "exception": false,
     "start_time": "2023-03-31T21:21:06.912620",
     "status": "completed"
    },
    "tags": []
   },
   "outputs": [
    {
     "data": {
      "text/plain": [
       "HomePlanet      0\n",
       "CryoSleep       0\n",
       "Destination     0\n",
       "Age             0\n",
       "VIP             0\n",
       "RoomService     0\n",
       "FoodCourt       0\n",
       "ShoppingMall    0\n",
       "Spa             0\n",
       "VRDeck          0\n",
       "Transported     0\n",
       "Deck            0\n",
       "Num             0\n",
       "Side            0\n",
       "dtype: int64"
      ]
     },
     "execution_count": 24,
     "metadata": {},
     "output_type": "execute_result"
    }
   ],
   "source": [
    "df_train.isnull().sum().sort_values(ascending=False)\n"
   ]
  },
  {
   "cell_type": "code",
   "execution_count": 25,
   "id": "72db7d5b",
   "metadata": {
    "execution": {
     "iopub.execute_input": "2023-03-31T21:21:07.003894Z",
     "iopub.status.busy": "2023-03-31T21:21:07.003362Z",
     "iopub.status.idle": "2023-03-31T21:21:07.013455Z",
     "shell.execute_reply": "2023-03-31T21:21:07.012229Z"
    },
    "papermill": {
     "duration": 0.037562,
     "end_time": "2023-03-31T21:21:07.016221",
     "exception": false,
     "start_time": "2023-03-31T21:21:06.978659",
     "status": "completed"
    },
    "tags": []
   },
   "outputs": [
    {
     "data": {
      "text/plain": [
       "array(['B', 'F', 'A', 'G', 'E', 'D', 'C', 'T'], dtype=object)"
      ]
     },
     "execution_count": 25,
     "metadata": {},
     "output_type": "execute_result"
    }
   ],
   "source": [
    "df_train.Deck.unique()\n"
   ]
  },
  {
   "cell_type": "code",
   "execution_count": 26,
   "id": "f61f32dc",
   "metadata": {
    "execution": {
     "iopub.execute_input": "2023-03-31T21:21:07.063687Z",
     "iopub.status.busy": "2023-03-31T21:21:07.063188Z",
     "iopub.status.idle": "2023-03-31T21:21:07.072561Z",
     "shell.execute_reply": "2023-03-31T21:21:07.071201Z"
    },
    "papermill": {
     "duration": 0.037289,
     "end_time": "2023-03-31T21:21:07.076100",
     "exception": false,
     "start_time": "2023-03-31T21:21:07.038811",
     "status": "completed"
    },
    "tags": []
   },
   "outputs": [
    {
     "data": {
      "text/plain": [
       "array(['P', 'S'], dtype=object)"
      ]
     },
     "execution_count": 26,
     "metadata": {},
     "output_type": "execute_result"
    }
   ],
   "source": [
    "df_train.Side.unique()\n"
   ]
  },
  {
   "cell_type": "code",
   "execution_count": 27,
   "id": "509e6ee0",
   "metadata": {
    "execution": {
     "iopub.execute_input": "2023-03-31T21:21:07.125806Z",
     "iopub.status.busy": "2023-03-31T21:21:07.125285Z",
     "iopub.status.idle": "2023-03-31T21:21:07.136066Z",
     "shell.execute_reply": "2023-03-31T21:21:07.134166Z"
    },
    "papermill": {
     "duration": 0.038385,
     "end_time": "2023-03-31T21:21:07.139097",
     "exception": false,
     "start_time": "2023-03-31T21:21:07.100712",
     "status": "completed"
    },
    "tags": []
   },
   "outputs": [
    {
     "data": {
      "text/plain": [
       "array(['0', '1', '2', ..., '1892', '1893', '1894'], dtype=object)"
      ]
     },
     "execution_count": 27,
     "metadata": {},
     "output_type": "execute_result"
    }
   ],
   "source": [
    "df_train.Num.unique()\n"
   ]
  },
  {
   "cell_type": "code",
   "execution_count": 28,
   "id": "6211a54f",
   "metadata": {
    "execution": {
     "iopub.execute_input": "2023-03-31T21:21:07.188864Z",
     "iopub.status.busy": "2023-03-31T21:21:07.188001Z",
     "iopub.status.idle": "2023-03-31T21:21:07.196863Z",
     "shell.execute_reply": "2023-03-31T21:21:07.195391Z"
    },
    "papermill": {
     "duration": 0.037259,
     "end_time": "2023-03-31T21:21:07.199394",
     "exception": false,
     "start_time": "2023-03-31T21:21:07.162135",
     "status": "completed"
    },
    "tags": []
   },
   "outputs": [
    {
     "data": {
      "text/plain": [
       "Index(['HomePlanet', 'CryoSleep', 'Destination', 'Age', 'VIP', 'RoomService',\n",
       "       'FoodCourt', 'ShoppingMall', 'Spa', 'VRDeck', 'Transported', 'Deck',\n",
       "       'Num', 'Side'],\n",
       "      dtype='object')"
      ]
     },
     "execution_count": 28,
     "metadata": {},
     "output_type": "execute_result"
    }
   ],
   "source": [
    "df_train.columns"
   ]
  },
  {
   "cell_type": "code",
   "execution_count": 29,
   "id": "248d7488",
   "metadata": {
    "execution": {
     "iopub.execute_input": "2023-03-31T21:21:07.249742Z",
     "iopub.status.busy": "2023-03-31T21:21:07.249139Z",
     "iopub.status.idle": "2023-03-31T21:21:07.269536Z",
     "shell.execute_reply": "2023-03-31T21:21:07.267404Z"
    },
    "papermill": {
     "duration": 0.049884,
     "end_time": "2023-03-31T21:21:07.273366",
     "exception": false,
     "start_time": "2023-03-31T21:21:07.223482",
     "status": "completed"
    },
    "tags": []
   },
   "outputs": [
    {
     "name": "stdout",
     "output_type": "stream",
     "text": [
      "<class 'pandas.core.frame.DataFrame'>\n",
      "RangeIndex: 8693 entries, 0 to 8692\n",
      "Data columns (total 14 columns):\n",
      " #   Column        Non-Null Count  Dtype  \n",
      "---  ------        --------------  -----  \n",
      " 0   HomePlanet    8693 non-null   object \n",
      " 1   CryoSleep     8693 non-null   int64  \n",
      " 2   Destination   8693 non-null   object \n",
      " 3   Age           8693 non-null   float64\n",
      " 4   VIP           8693 non-null   int64  \n",
      " 5   RoomService   8693 non-null   float64\n",
      " 6   FoodCourt     8693 non-null   int64  \n",
      " 7   ShoppingMall  8693 non-null   float64\n",
      " 8   Spa           8693 non-null   float64\n",
      " 9   VRDeck        8693 non-null   float64\n",
      " 10  Transported   8693 non-null   int64  \n",
      " 11  Deck          8693 non-null   object \n",
      " 12  Num           8693 non-null   object \n",
      " 13  Side          8693 non-null   object \n",
      "dtypes: float64(5), int64(4), object(5)\n",
      "memory usage: 950.9+ KB\n"
     ]
    }
   ],
   "source": [
    "df_train.info()"
   ]
  },
  {
   "cell_type": "code",
   "execution_count": 30,
   "id": "3a3793e6",
   "metadata": {
    "execution": {
     "iopub.execute_input": "2023-03-31T21:21:07.323981Z",
     "iopub.status.busy": "2023-03-31T21:21:07.323458Z",
     "iopub.status.idle": "2023-03-31T21:21:07.536277Z",
     "shell.execute_reply": "2023-03-31T21:21:07.534699Z"
    },
    "papermill": {
     "duration": 0.241757,
     "end_time": "2023-03-31T21:21:07.540089",
     "exception": false,
     "start_time": "2023-03-31T21:21:07.298332",
     "status": "completed"
    },
    "tags": []
   },
   "outputs": [],
   "source": [
    "from sklearn.preprocessing import LabelEncoder\n",
    "encoder = LabelEncoder()\n",
    "for column in df_train.columns:    \n",
    "    if df_train[column].dtype == 'object' or df_train[column].dtype == 'bool':\n",
    "        le = LabelEncoder()\n",
    "        df_train[column] = le.fit_transform(df_train[column].astype(str))"
   ]
  },
  {
   "cell_type": "code",
   "execution_count": 31,
   "id": "1fc5a51c",
   "metadata": {
    "execution": {
     "iopub.execute_input": "2023-03-31T21:21:07.587619Z",
     "iopub.status.busy": "2023-03-31T21:21:07.587151Z",
     "iopub.status.idle": "2023-03-31T21:21:07.618000Z",
     "shell.execute_reply": "2023-03-31T21:21:07.616920Z"
    },
    "papermill": {
     "duration": 0.057672,
     "end_time": "2023-03-31T21:21:07.620578",
     "exception": false,
     "start_time": "2023-03-31T21:21:07.562906",
     "status": "completed"
    },
    "tags": []
   },
   "outputs": [
    {
     "data": {
      "text/html": [
       "<div>\n",
       "<style scoped>\n",
       "    .dataframe tbody tr th:only-of-type {\n",
       "        vertical-align: middle;\n",
       "    }\n",
       "\n",
       "    .dataframe tbody tr th {\n",
       "        vertical-align: top;\n",
       "    }\n",
       "\n",
       "    .dataframe thead th {\n",
       "        text-align: right;\n",
       "    }\n",
       "</style>\n",
       "<table border=\"1\" class=\"dataframe\">\n",
       "  <thead>\n",
       "    <tr style=\"text-align: right;\">\n",
       "      <th></th>\n",
       "      <th>HomePlanet</th>\n",
       "      <th>CryoSleep</th>\n",
       "      <th>Destination</th>\n",
       "      <th>Age</th>\n",
       "      <th>VIP</th>\n",
       "      <th>RoomService</th>\n",
       "      <th>FoodCourt</th>\n",
       "      <th>ShoppingMall</th>\n",
       "      <th>Spa</th>\n",
       "      <th>VRDeck</th>\n",
       "      <th>Transported</th>\n",
       "      <th>Deck</th>\n",
       "      <th>Num</th>\n",
       "      <th>Side</th>\n",
       "    </tr>\n",
       "  </thead>\n",
       "  <tbody>\n",
       "    <tr>\n",
       "      <th>0</th>\n",
       "      <td>1</td>\n",
       "      <td>0</td>\n",
       "      <td>2</td>\n",
       "      <td>39.0</td>\n",
       "      <td>0</td>\n",
       "      <td>0.0</td>\n",
       "      <td>0</td>\n",
       "      <td>0.0</td>\n",
       "      <td>0.0</td>\n",
       "      <td>0.0</td>\n",
       "      <td>0</td>\n",
       "      <td>1</td>\n",
       "      <td>0</td>\n",
       "      <td>0</td>\n",
       "    </tr>\n",
       "    <tr>\n",
       "      <th>1</th>\n",
       "      <td>0</td>\n",
       "      <td>109</td>\n",
       "      <td>2</td>\n",
       "      <td>24.0</td>\n",
       "      <td>0</td>\n",
       "      <td>9.0</td>\n",
       "      <td>0</td>\n",
       "      <td>25.0</td>\n",
       "      <td>549.0</td>\n",
       "      <td>44.0</td>\n",
       "      <td>1</td>\n",
       "      <td>5</td>\n",
       "      <td>0</td>\n",
       "      <td>1</td>\n",
       "    </tr>\n",
       "    <tr>\n",
       "      <th>2</th>\n",
       "      <td>1</td>\n",
       "      <td>43</td>\n",
       "      <td>2</td>\n",
       "      <td>58.0</td>\n",
       "      <td>1</td>\n",
       "      <td>3576.0</td>\n",
       "      <td>0</td>\n",
       "      <td>0.0</td>\n",
       "      <td>6715.0</td>\n",
       "      <td>49.0</td>\n",
       "      <td>0</td>\n",
       "      <td>0</td>\n",
       "      <td>0</td>\n",
       "      <td>1</td>\n",
       "    </tr>\n",
       "    <tr>\n",
       "      <th>3</th>\n",
       "      <td>1</td>\n",
       "      <td>0</td>\n",
       "      <td>2</td>\n",
       "      <td>33.0</td>\n",
       "      <td>0</td>\n",
       "      <td>1283.0</td>\n",
       "      <td>0</td>\n",
       "      <td>371.0</td>\n",
       "      <td>3329.0</td>\n",
       "      <td>193.0</td>\n",
       "      <td>0</td>\n",
       "      <td>0</td>\n",
       "      <td>0</td>\n",
       "      <td>1</td>\n",
       "    </tr>\n",
       "    <tr>\n",
       "      <th>4</th>\n",
       "      <td>0</td>\n",
       "      <td>303</td>\n",
       "      <td>2</td>\n",
       "      <td>16.0</td>\n",
       "      <td>0</td>\n",
       "      <td>70.0</td>\n",
       "      <td>0</td>\n",
       "      <td>151.0</td>\n",
       "      <td>565.0</td>\n",
       "      <td>2.0</td>\n",
       "      <td>1</td>\n",
       "      <td>5</td>\n",
       "      <td>1</td>\n",
       "      <td>1</td>\n",
       "    </tr>\n",
       "    <tr>\n",
       "      <th>...</th>\n",
       "      <td>...</td>\n",
       "      <td>...</td>\n",
       "      <td>...</td>\n",
       "      <td>...</td>\n",
       "      <td>...</td>\n",
       "      <td>...</td>\n",
       "      <td>...</td>\n",
       "      <td>...</td>\n",
       "      <td>...</td>\n",
       "      <td>...</td>\n",
       "      <td>...</td>\n",
       "      <td>...</td>\n",
       "      <td>...</td>\n",
       "      <td>...</td>\n",
       "    </tr>\n",
       "    <tr>\n",
       "      <th>8688</th>\n",
       "      <td>1</td>\n",
       "      <td>0</td>\n",
       "      <td>0</td>\n",
       "      <td>41.0</td>\n",
       "      <td>1</td>\n",
       "      <td>6819.0</td>\n",
       "      <td>0</td>\n",
       "      <td>0.0</td>\n",
       "      <td>1643.0</td>\n",
       "      <td>74.0</td>\n",
       "      <td>0</td>\n",
       "      <td>0</td>\n",
       "      <td>1795</td>\n",
       "      <td>0</td>\n",
       "    </tr>\n",
       "    <tr>\n",
       "      <th>8689</th>\n",
       "      <td>0</td>\n",
       "      <td>0</td>\n",
       "      <td>1</td>\n",
       "      <td>18.0</td>\n",
       "      <td>0</td>\n",
       "      <td>0.0</td>\n",
       "      <td>1</td>\n",
       "      <td>0.0</td>\n",
       "      <td>0.0</td>\n",
       "      <td>0.0</td>\n",
       "      <td>0</td>\n",
       "      <td>6</td>\n",
       "      <td>548</td>\n",
       "      <td>1</td>\n",
       "    </tr>\n",
       "    <tr>\n",
       "      <th>8690</th>\n",
       "      <td>0</td>\n",
       "      <td>0</td>\n",
       "      <td>2</td>\n",
       "      <td>26.0</td>\n",
       "      <td>0</td>\n",
       "      <td>0.0</td>\n",
       "      <td>0</td>\n",
       "      <td>1872.0</td>\n",
       "      <td>1.0</td>\n",
       "      <td>0.0</td>\n",
       "      <td>1</td>\n",
       "      <td>6</td>\n",
       "      <td>551</td>\n",
       "      <td>1</td>\n",
       "    </tr>\n",
       "    <tr>\n",
       "      <th>8691</th>\n",
       "      <td>1</td>\n",
       "      <td>0</td>\n",
       "      <td>0</td>\n",
       "      <td>32.0</td>\n",
       "      <td>0</td>\n",
       "      <td>1049.0</td>\n",
       "      <td>0</td>\n",
       "      <td>0.0</td>\n",
       "      <td>353.0</td>\n",
       "      <td>3235.0</td>\n",
       "      <td>0</td>\n",
       "      <td>4</td>\n",
       "      <td>1385</td>\n",
       "      <td>1</td>\n",
       "    </tr>\n",
       "    <tr>\n",
       "      <th>8692</th>\n",
       "      <td>1</td>\n",
       "      <td>126</td>\n",
       "      <td>2</td>\n",
       "      <td>44.0</td>\n",
       "      <td>0</td>\n",
       "      <td>4688.0</td>\n",
       "      <td>0</td>\n",
       "      <td>0.0</td>\n",
       "      <td>0.0</td>\n",
       "      <td>12.0</td>\n",
       "      <td>1</td>\n",
       "      <td>4</td>\n",
       "      <td>1385</td>\n",
       "      <td>1</td>\n",
       "    </tr>\n",
       "  </tbody>\n",
       "</table>\n",
       "<p>8693 rows × 14 columns</p>\n",
       "</div>"
      ],
      "text/plain": [
       "      HomePlanet  CryoSleep  Destination   Age  VIP  RoomService  FoodCourt  \\\n",
       "0              1          0            2  39.0    0          0.0          0   \n",
       "1              0        109            2  24.0    0          9.0          0   \n",
       "2              1         43            2  58.0    1       3576.0          0   \n",
       "3              1          0            2  33.0    0       1283.0          0   \n",
       "4              0        303            2  16.0    0         70.0          0   \n",
       "...          ...        ...          ...   ...  ...          ...        ...   \n",
       "8688           1          0            0  41.0    1       6819.0          0   \n",
       "8689           0          0            1  18.0    0          0.0          1   \n",
       "8690           0          0            2  26.0    0          0.0          0   \n",
       "8691           1          0            0  32.0    0       1049.0          0   \n",
       "8692           1        126            2  44.0    0       4688.0          0   \n",
       "\n",
       "      ShoppingMall     Spa  VRDeck  Transported  Deck   Num  Side  \n",
       "0              0.0     0.0     0.0            0     1     0     0  \n",
       "1             25.0   549.0    44.0            1     5     0     1  \n",
       "2              0.0  6715.0    49.0            0     0     0     1  \n",
       "3            371.0  3329.0   193.0            0     0     0     1  \n",
       "4            151.0   565.0     2.0            1     5     1     1  \n",
       "...            ...     ...     ...          ...   ...   ...   ...  \n",
       "8688           0.0  1643.0    74.0            0     0  1795     0  \n",
       "8689           0.0     0.0     0.0            0     6   548     1  \n",
       "8690        1872.0     1.0     0.0            1     6   551     1  \n",
       "8691           0.0   353.0  3235.0            0     4  1385     1  \n",
       "8692           0.0     0.0    12.0            1     4  1385     1  \n",
       "\n",
       "[8693 rows x 14 columns]"
      ]
     },
     "execution_count": 31,
     "metadata": {},
     "output_type": "execute_result"
    }
   ],
   "source": [
    "df_train"
   ]
  },
  {
   "cell_type": "code",
   "execution_count": 32,
   "id": "66214831",
   "metadata": {
    "execution": {
     "iopub.execute_input": "2023-03-31T21:21:07.671472Z",
     "iopub.status.busy": "2023-03-31T21:21:07.670664Z",
     "iopub.status.idle": "2023-03-31T21:21:07.678793Z",
     "shell.execute_reply": "2023-03-31T21:21:07.677347Z"
    },
    "papermill": {
     "duration": 0.037217,
     "end_time": "2023-03-31T21:21:07.681620",
     "exception": false,
     "start_time": "2023-03-31T21:21:07.644403",
     "status": "completed"
    },
    "tags": []
   },
   "outputs": [
    {
     "data": {
      "text/plain": [
       "Index(['HomePlanet', 'CryoSleep', 'Destination', 'Age', 'VIP', 'RoomService',\n",
       "       'FoodCourt', 'ShoppingMall', 'Spa', 'VRDeck', 'Transported', 'Deck',\n",
       "       'Num', 'Side'],\n",
       "      dtype='object')"
      ]
     },
     "execution_count": 32,
     "metadata": {},
     "output_type": "execute_result"
    }
   ],
   "source": [
    "df_train.columns"
   ]
  },
  {
   "cell_type": "code",
   "execution_count": 33,
   "id": "d7054020",
   "metadata": {
    "execution": {
     "iopub.execute_input": "2023-03-31T21:21:07.731909Z",
     "iopub.status.busy": "2023-03-31T21:21:07.730450Z",
     "iopub.status.idle": "2023-03-31T21:21:07.737430Z",
     "shell.execute_reply": "2023-03-31T21:21:07.735833Z"
    },
    "papermill": {
     "duration": 0.034847,
     "end_time": "2023-03-31T21:21:07.740121",
     "exception": false,
     "start_time": "2023-03-31T21:21:07.705274",
     "status": "completed"
    },
    "tags": []
   },
   "outputs": [],
   "source": [
    "\n",
    "from sklearn.preprocessing import StandardScaler\n",
    "scale = StandardScaler()"
   ]
  },
  {
   "cell_type": "code",
   "execution_count": 34,
   "id": "c8f22c32",
   "metadata": {
    "execution": {
     "iopub.execute_input": "2023-03-31T21:21:07.791585Z",
     "iopub.status.busy": "2023-03-31T21:21:07.790084Z",
     "iopub.status.idle": "2023-03-31T21:21:07.827128Z",
     "shell.execute_reply": "2023-03-31T21:21:07.825697Z"
    },
    "papermill": {
     "duration": 0.065407,
     "end_time": "2023-03-31T21:21:07.830110",
     "exception": false,
     "start_time": "2023-03-31T21:21:07.764703",
     "status": "completed"
    },
    "tags": []
   },
   "outputs": [
    {
     "data": {
      "text/html": [
       "<div>\n",
       "<style scoped>\n",
       "    .dataframe tbody tr th:only-of-type {\n",
       "        vertical-align: middle;\n",
       "    }\n",
       "\n",
       "    .dataframe tbody tr th {\n",
       "        vertical-align: top;\n",
       "    }\n",
       "\n",
       "    .dataframe thead th {\n",
       "        text-align: right;\n",
       "    }\n",
       "</style>\n",
       "<table border=\"1\" class=\"dataframe\">\n",
       "  <thead>\n",
       "    <tr style=\"text-align: right;\">\n",
       "      <th></th>\n",
       "      <th>HomePlanet</th>\n",
       "      <th>CryoSleep</th>\n",
       "      <th>Destination</th>\n",
       "      <th>Age</th>\n",
       "      <th>VIP</th>\n",
       "      <th>RoomService</th>\n",
       "      <th>FoodCourt</th>\n",
       "      <th>ShoppingMall</th>\n",
       "      <th>Spa</th>\n",
       "      <th>VRDeck</th>\n",
       "      <th>Transported</th>\n",
       "      <th>Deck</th>\n",
       "      <th>Num</th>\n",
       "      <th>Side</th>\n",
       "    </tr>\n",
       "  </thead>\n",
       "  <tbody>\n",
       "    <tr>\n",
       "      <th>0</th>\n",
       "      <td>1</td>\n",
       "      <td>-0.333105</td>\n",
       "      <td>2</td>\n",
       "      <td>0.711945</td>\n",
       "      <td>0</td>\n",
       "      <td>-0.281027</td>\n",
       "      <td>0</td>\n",
       "      <td>-0.283579</td>\n",
       "      <td>-0.270626</td>\n",
       "      <td>-0.263003</td>\n",
       "      <td>0</td>\n",
       "      <td>1</td>\n",
       "      <td>-1.892290</td>\n",
       "      <td>0</td>\n",
       "    </tr>\n",
       "    <tr>\n",
       "      <th>1</th>\n",
       "      <td>0</td>\n",
       "      <td>-0.168073</td>\n",
       "      <td>2</td>\n",
       "      <td>-0.334037</td>\n",
       "      <td>0</td>\n",
       "      <td>-0.275387</td>\n",
       "      <td>0</td>\n",
       "      <td>-0.241771</td>\n",
       "      <td>0.217158</td>\n",
       "      <td>-0.224205</td>\n",
       "      <td>1</td>\n",
       "      <td>5</td>\n",
       "      <td>-1.892290</td>\n",
       "      <td>1</td>\n",
       "    </tr>\n",
       "    <tr>\n",
       "      <th>2</th>\n",
       "      <td>1</td>\n",
       "      <td>-0.268001</td>\n",
       "      <td>2</td>\n",
       "      <td>2.036857</td>\n",
       "      <td>1</td>\n",
       "      <td>1.959998</td>\n",
       "      <td>0</td>\n",
       "      <td>-0.283579</td>\n",
       "      <td>5.695623</td>\n",
       "      <td>-0.219796</td>\n",
       "      <td>0</td>\n",
       "      <td>0</td>\n",
       "      <td>-1.892290</td>\n",
       "      <td>1</td>\n",
       "    </tr>\n",
       "    <tr>\n",
       "      <th>3</th>\n",
       "      <td>1</td>\n",
       "      <td>-0.333105</td>\n",
       "      <td>2</td>\n",
       "      <td>0.293552</td>\n",
       "      <td>0</td>\n",
       "      <td>0.523010</td>\n",
       "      <td>0</td>\n",
       "      <td>0.336851</td>\n",
       "      <td>2.687176</td>\n",
       "      <td>-0.092818</td>\n",
       "      <td>0</td>\n",
       "      <td>0</td>\n",
       "      <td>-1.892290</td>\n",
       "      <td>1</td>\n",
       "    </tr>\n",
       "    <tr>\n",
       "      <th>4</th>\n",
       "      <td>0</td>\n",
       "      <td>0.125652</td>\n",
       "      <td>2</td>\n",
       "      <td>-0.891895</td>\n",
       "      <td>0</td>\n",
       "      <td>-0.237159</td>\n",
       "      <td>0</td>\n",
       "      <td>-0.031059</td>\n",
       "      <td>0.231374</td>\n",
       "      <td>-0.261240</td>\n",
       "      <td>1</td>\n",
       "      <td>5</td>\n",
       "      <td>-1.890324</td>\n",
       "      <td>1</td>\n",
       "    </tr>\n",
       "    <tr>\n",
       "      <th>...</th>\n",
       "      <td>...</td>\n",
       "      <td>...</td>\n",
       "      <td>...</td>\n",
       "      <td>...</td>\n",
       "      <td>...</td>\n",
       "      <td>...</td>\n",
       "      <td>...</td>\n",
       "      <td>...</td>\n",
       "      <td>...</td>\n",
       "      <td>...</td>\n",
       "      <td>...</td>\n",
       "      <td>...</td>\n",
       "      <td>...</td>\n",
       "      <td>...</td>\n",
       "    </tr>\n",
       "    <tr>\n",
       "      <th>8688</th>\n",
       "      <td>1</td>\n",
       "      <td>-0.333105</td>\n",
       "      <td>0</td>\n",
       "      <td>0.851410</td>\n",
       "      <td>1</td>\n",
       "      <td>3.992336</td>\n",
       "      <td>0</td>\n",
       "      <td>-0.283579</td>\n",
       "      <td>1.189173</td>\n",
       "      <td>-0.197751</td>\n",
       "      <td>0</td>\n",
       "      <td>0</td>\n",
       "      <td>1.636723</td>\n",
       "      <td>0</td>\n",
       "    </tr>\n",
       "    <tr>\n",
       "      <th>8689</th>\n",
       "      <td>0</td>\n",
       "      <td>-0.333105</td>\n",
       "      <td>1</td>\n",
       "      <td>-0.752431</td>\n",
       "      <td>0</td>\n",
       "      <td>-0.281027</td>\n",
       "      <td>1</td>\n",
       "      <td>-0.283579</td>\n",
       "      <td>-0.270626</td>\n",
       "      <td>-0.263003</td>\n",
       "      <td>0</td>\n",
       "      <td>6</td>\n",
       "      <td>-0.814909</td>\n",
       "      <td>1</td>\n",
       "    </tr>\n",
       "    <tr>\n",
       "      <th>8690</th>\n",
       "      <td>0</td>\n",
       "      <td>-0.333105</td>\n",
       "      <td>2</td>\n",
       "      <td>-0.194573</td>\n",
       "      <td>0</td>\n",
       "      <td>-0.281027</td>\n",
       "      <td>0</td>\n",
       "      <td>2.846999</td>\n",
       "      <td>-0.269737</td>\n",
       "      <td>-0.263003</td>\n",
       "      <td>1</td>\n",
       "      <td>6</td>\n",
       "      <td>-0.809011</td>\n",
       "      <td>1</td>\n",
       "    </tr>\n",
       "    <tr>\n",
       "      <th>8691</th>\n",
       "      <td>1</td>\n",
       "      <td>-0.333105</td>\n",
       "      <td>0</td>\n",
       "      <td>0.223820</td>\n",
       "      <td>0</td>\n",
       "      <td>0.376365</td>\n",
       "      <td>0</td>\n",
       "      <td>-0.283579</td>\n",
       "      <td>0.043013</td>\n",
       "      <td>2.589576</td>\n",
       "      <td>0</td>\n",
       "      <td>4</td>\n",
       "      <td>0.830654</td>\n",
       "      <td>1</td>\n",
       "    </tr>\n",
       "    <tr>\n",
       "      <th>8692</th>\n",
       "      <td>1</td>\n",
       "      <td>-0.142335</td>\n",
       "      <td>2</td>\n",
       "      <td>1.060606</td>\n",
       "      <td>0</td>\n",
       "      <td>2.656871</td>\n",
       "      <td>0</td>\n",
       "      <td>-0.283579</td>\n",
       "      <td>-0.270626</td>\n",
       "      <td>-0.252422</td>\n",
       "      <td>1</td>\n",
       "      <td>4</td>\n",
       "      <td>0.830654</td>\n",
       "      <td>1</td>\n",
       "    </tr>\n",
       "  </tbody>\n",
       "</table>\n",
       "<p>8693 rows × 14 columns</p>\n",
       "</div>"
      ],
      "text/plain": [
       "      HomePlanet  CryoSleep  Destination       Age  VIP  RoomService  \\\n",
       "0              1  -0.333105            2  0.711945    0    -0.281027   \n",
       "1              0  -0.168073            2 -0.334037    0    -0.275387   \n",
       "2              1  -0.268001            2  2.036857    1     1.959998   \n",
       "3              1  -0.333105            2  0.293552    0     0.523010   \n",
       "4              0   0.125652            2 -0.891895    0    -0.237159   \n",
       "...          ...        ...          ...       ...  ...          ...   \n",
       "8688           1  -0.333105            0  0.851410    1     3.992336   \n",
       "8689           0  -0.333105            1 -0.752431    0    -0.281027   \n",
       "8690           0  -0.333105            2 -0.194573    0    -0.281027   \n",
       "8691           1  -0.333105            0  0.223820    0     0.376365   \n",
       "8692           1  -0.142335            2  1.060606    0     2.656871   \n",
       "\n",
       "      FoodCourt  ShoppingMall       Spa    VRDeck  Transported  Deck  \\\n",
       "0             0     -0.283579 -0.270626 -0.263003            0     1   \n",
       "1             0     -0.241771  0.217158 -0.224205            1     5   \n",
       "2             0     -0.283579  5.695623 -0.219796            0     0   \n",
       "3             0      0.336851  2.687176 -0.092818            0     0   \n",
       "4             0     -0.031059  0.231374 -0.261240            1     5   \n",
       "...         ...           ...       ...       ...          ...   ...   \n",
       "8688          0     -0.283579  1.189173 -0.197751            0     0   \n",
       "8689          1     -0.283579 -0.270626 -0.263003            0     6   \n",
       "8690          0      2.846999 -0.269737 -0.263003            1     6   \n",
       "8691          0     -0.283579  0.043013  2.589576            0     4   \n",
       "8692          0     -0.283579 -0.270626 -0.252422            1     4   \n",
       "\n",
       "           Num  Side  \n",
       "0    -1.892290     0  \n",
       "1    -1.892290     1  \n",
       "2    -1.892290     1  \n",
       "3    -1.892290     1  \n",
       "4    -1.890324     1  \n",
       "...        ...   ...  \n",
       "8688  1.636723     0  \n",
       "8689 -0.814909     1  \n",
       "8690 -0.809011     1  \n",
       "8691  0.830654     1  \n",
       "8692  0.830654     1  \n",
       "\n",
       "[8693 rows x 14 columns]"
      ]
     },
     "execution_count": 34,
     "metadata": {},
     "output_type": "execute_result"
    }
   ],
   "source": [
    "df_train[['CryoSleep', 'Age', 'RoomService','ShoppingMall', 'Spa', 'VRDeck', 'Num']]= scale.fit_transform(df_train[['CryoSleep', 'Age', 'RoomService','ShoppingMall', 'Spa', 'VRDeck', 'Num']])\n",
    "df_train"
   ]
  },
  {
   "cell_type": "code",
   "execution_count": 35,
   "id": "d2f45f99",
   "metadata": {
    "execution": {
     "iopub.execute_input": "2023-03-31T21:21:07.882350Z",
     "iopub.status.busy": "2023-03-31T21:21:07.881405Z",
     "iopub.status.idle": "2023-03-31T21:21:07.891552Z",
     "shell.execute_reply": "2023-03-31T21:21:07.889944Z"
    },
    "papermill": {
     "duration": 0.040083,
     "end_time": "2023-03-31T21:21:07.895007",
     "exception": false,
     "start_time": "2023-03-31T21:21:07.854924",
     "status": "completed"
    },
    "tags": []
   },
   "outputs": [],
   "source": [
    "X = df_train.drop(['Transported'], axis='columns')\n",
    "y = df_train['Transported']\n"
   ]
  },
  {
   "cell_type": "code",
   "execution_count": 36,
   "id": "b720d490",
   "metadata": {
    "execution": {
     "iopub.execute_input": "2023-03-31T21:21:07.946269Z",
     "iopub.status.busy": "2023-03-31T21:21:07.945722Z",
     "iopub.status.idle": "2023-03-31T21:21:07.977405Z",
     "shell.execute_reply": "2023-03-31T21:21:07.975826Z"
    },
    "papermill": {
     "duration": 0.061692,
     "end_time": "2023-03-31T21:21:07.980866",
     "exception": false,
     "start_time": "2023-03-31T21:21:07.919174",
     "status": "completed"
    },
    "tags": []
   },
   "outputs": [],
   "source": [
    "test = pd.read_csv('/kaggle/input/spaceship-titanic/test.csv')\n",
    "test\n",
    "test1 = test.copy()"
   ]
  },
  {
   "cell_type": "code",
   "execution_count": 37,
   "id": "fea5bf30",
   "metadata": {
    "execution": {
     "iopub.execute_input": "2023-03-31T21:21:08.032745Z",
     "iopub.status.busy": "2023-03-31T21:21:08.032254Z",
     "iopub.status.idle": "2023-03-31T21:21:08.050342Z",
     "shell.execute_reply": "2023-03-31T21:21:08.048768Z"
    },
    "papermill": {
     "duration": 0.048468,
     "end_time": "2023-03-31T21:21:08.053793",
     "exception": false,
     "start_time": "2023-03-31T21:21:08.005325",
     "status": "completed"
    },
    "tags": []
   },
   "outputs": [
    {
     "name": "stdout",
     "output_type": "stream",
     "text": [
      "<class 'pandas.core.frame.DataFrame'>\n",
      "RangeIndex: 4277 entries, 0 to 4276\n",
      "Data columns (total 13 columns):\n",
      " #   Column        Non-Null Count  Dtype  \n",
      "---  ------        --------------  -----  \n",
      " 0   PassengerId   4277 non-null   object \n",
      " 1   HomePlanet    4190 non-null   object \n",
      " 2   CryoSleep     4184 non-null   object \n",
      " 3   Cabin         4177 non-null   object \n",
      " 4   Destination   4185 non-null   object \n",
      " 5   Age           4186 non-null   float64\n",
      " 6   VIP           4184 non-null   object \n",
      " 7   RoomService   4195 non-null   float64\n",
      " 8   FoodCourt     4171 non-null   float64\n",
      " 9   ShoppingMall  4179 non-null   float64\n",
      " 10  Spa           4176 non-null   float64\n",
      " 11  VRDeck        4197 non-null   float64\n",
      " 12  Name          4183 non-null   object \n",
      "dtypes: float64(6), object(7)\n",
      "memory usage: 434.5+ KB\n"
     ]
    }
   ],
   "source": [
    "test.info()"
   ]
  },
  {
   "cell_type": "code",
   "execution_count": 38,
   "id": "b49e3869",
   "metadata": {
    "execution": {
     "iopub.execute_input": "2023-03-31T21:21:08.105774Z",
     "iopub.status.busy": "2023-03-31T21:21:08.105237Z",
     "iopub.status.idle": "2023-03-31T21:21:08.113893Z",
     "shell.execute_reply": "2023-03-31T21:21:08.112290Z"
    },
    "papermill": {
     "duration": 0.038842,
     "end_time": "2023-03-31T21:21:08.117006",
     "exception": false,
     "start_time": "2023-03-31T21:21:08.078164",
     "status": "completed"
    },
    "tags": []
   },
   "outputs": [],
   "source": [
    "test.Age = test.Age.fillna(test.Age.median())"
   ]
  },
  {
   "cell_type": "code",
   "execution_count": 39,
   "id": "092b2dd4",
   "metadata": {
    "execution": {
     "iopub.execute_input": "2023-03-31T21:21:08.168884Z",
     "iopub.status.busy": "2023-03-31T21:21:08.168378Z",
     "iopub.status.idle": "2023-03-31T21:21:08.194201Z",
     "shell.execute_reply": "2023-03-31T21:21:08.192566Z"
    },
    "papermill": {
     "duration": 0.056374,
     "end_time": "2023-03-31T21:21:08.197422",
     "exception": false,
     "start_time": "2023-03-31T21:21:08.141048",
     "status": "completed"
    },
    "tags": []
   },
   "outputs": [],
   "source": [
    "test[['Deck', 'Num', 'Side']] = test['Cabin'].str.split(\"/\", expand = True)\n",
    "test = test.drop(\"Cabin\", axis='columns')"
   ]
  },
  {
   "cell_type": "code",
   "execution_count": 40,
   "id": "504536c0",
   "metadata": {
    "execution": {
     "iopub.execute_input": "2023-03-31T21:21:08.248005Z",
     "iopub.status.busy": "2023-03-31T21:21:08.247065Z",
     "iopub.status.idle": "2023-03-31T21:21:08.275339Z",
     "shell.execute_reply": "2023-03-31T21:21:08.273486Z"
    },
    "papermill": {
     "duration": 0.057532,
     "end_time": "2023-03-31T21:21:08.278891",
     "exception": false,
     "start_time": "2023-03-31T21:21:08.221359",
     "status": "completed"
    },
    "tags": []
   },
   "outputs": [],
   "source": [
    "for col in test.select_dtypes(include=['object']):\n",
    "    test[col].fillna(test[col].mode()[0], inplace=True)"
   ]
  },
  {
   "cell_type": "code",
   "execution_count": 41,
   "id": "ca0c7f99",
   "metadata": {
    "execution": {
     "iopub.execute_input": "2023-03-31T21:21:08.331928Z",
     "iopub.status.busy": "2023-03-31T21:21:08.331444Z",
     "iopub.status.idle": "2023-03-31T21:21:08.340592Z",
     "shell.execute_reply": "2023-03-31T21:21:08.339220Z"
    },
    "papermill": {
     "duration": 0.038575,
     "end_time": "2023-03-31T21:21:08.343214",
     "exception": false,
     "start_time": "2023-03-31T21:21:08.304639",
     "status": "completed"
    },
    "tags": []
   },
   "outputs": [
    {
     "data": {
      "text/plain": [
       "array(['TRAPPIST-1e', '55 Cancri e', 'PSO J318.5-22'], dtype=object)"
      ]
     },
     "execution_count": 41,
     "metadata": {},
     "output_type": "execute_result"
    }
   ],
   "source": [
    "test.Destination.unique()"
   ]
  },
  {
   "cell_type": "code",
   "execution_count": 42,
   "id": "8cfbfdeb",
   "metadata": {
    "execution": {
     "iopub.execute_input": "2023-03-31T21:21:08.395905Z",
     "iopub.status.busy": "2023-03-31T21:21:08.394485Z",
     "iopub.status.idle": "2023-03-31T21:21:08.404871Z",
     "shell.execute_reply": "2023-03-31T21:21:08.403220Z"
    },
    "papermill": {
     "duration": 0.040435,
     "end_time": "2023-03-31T21:21:08.408057",
     "exception": false,
     "start_time": "2023-03-31T21:21:08.367622",
     "status": "completed"
    },
    "tags": []
   },
   "outputs": [
    {
     "data": {
      "text/plain": [
       "array(['G', 'F', 'C', 'B', 'D', 'E', 'A', 'T'], dtype=object)"
      ]
     },
     "execution_count": 42,
     "metadata": {},
     "output_type": "execute_result"
    }
   ],
   "source": [
    "test.Deck.unique()"
   ]
  },
  {
   "cell_type": "code",
   "execution_count": 43,
   "id": "143f2c97",
   "metadata": {
    "execution": {
     "iopub.execute_input": "2023-03-31T21:21:08.461134Z",
     "iopub.status.busy": "2023-03-31T21:21:08.459979Z",
     "iopub.status.idle": "2023-03-31T21:21:08.469854Z",
     "shell.execute_reply": "2023-03-31T21:21:08.468475Z"
    },
    "papermill": {
     "duration": 0.039071,
     "end_time": "2023-03-31T21:21:08.472646",
     "exception": false,
     "start_time": "2023-03-31T21:21:08.433575",
     "status": "completed"
    },
    "tags": []
   },
   "outputs": [
    {
     "data": {
      "text/plain": [
       "array(['S', 'P'], dtype=object)"
      ]
     },
     "execution_count": 43,
     "metadata": {},
     "output_type": "execute_result"
    }
   ],
   "source": [
    "test.Side.unique()"
   ]
  },
  {
   "cell_type": "code",
   "execution_count": 44,
   "id": "df1af384",
   "metadata": {
    "execution": {
     "iopub.execute_input": "2023-03-31T21:21:08.524981Z",
     "iopub.status.busy": "2023-03-31T21:21:08.524441Z",
     "iopub.status.idle": "2023-03-31T21:21:08.535082Z",
     "shell.execute_reply": "2023-03-31T21:21:08.533446Z"
    },
    "papermill": {
     "duration": 0.039673,
     "end_time": "2023-03-31T21:21:08.537848",
     "exception": false,
     "start_time": "2023-03-31T21:21:08.498175",
     "status": "completed"
    },
    "tags": []
   },
   "outputs": [
    {
     "data": {
      "text/plain": [
       "array(['3', '4', '0', ..., '1890', '1794', '1503'], dtype=object)"
      ]
     },
     "execution_count": 44,
     "metadata": {},
     "output_type": "execute_result"
    }
   ],
   "source": [
    "test.Num.unique()"
   ]
  },
  {
   "cell_type": "code",
   "execution_count": 45,
   "id": "bb2990c5",
   "metadata": {
    "execution": {
     "iopub.execute_input": "2023-03-31T21:21:08.590421Z",
     "iopub.status.busy": "2023-03-31T21:21:08.589895Z",
     "iopub.status.idle": "2023-03-31T21:21:08.625106Z",
     "shell.execute_reply": "2023-03-31T21:21:08.623625Z"
    },
    "papermill": {
     "duration": 0.064886,
     "end_time": "2023-03-31T21:21:08.628057",
     "exception": false,
     "start_time": "2023-03-31T21:21:08.563171",
     "status": "completed"
    },
    "tags": []
   },
   "outputs": [
    {
     "data": {
      "text/html": [
       "<div>\n",
       "<style scoped>\n",
       "    .dataframe tbody tr th:only-of-type {\n",
       "        vertical-align: middle;\n",
       "    }\n",
       "\n",
       "    .dataframe tbody tr th {\n",
       "        vertical-align: top;\n",
       "    }\n",
       "\n",
       "    .dataframe thead th {\n",
       "        text-align: right;\n",
       "    }\n",
       "</style>\n",
       "<table border=\"1\" class=\"dataframe\">\n",
       "  <thead>\n",
       "    <tr style=\"text-align: right;\">\n",
       "      <th></th>\n",
       "      <th>HomePlanet</th>\n",
       "      <th>CryoSleep</th>\n",
       "      <th>Destination</th>\n",
       "      <th>Age</th>\n",
       "      <th>VIP</th>\n",
       "      <th>RoomService</th>\n",
       "      <th>FoodCourt</th>\n",
       "      <th>ShoppingMall</th>\n",
       "      <th>Spa</th>\n",
       "      <th>VRDeck</th>\n",
       "      <th>Deck</th>\n",
       "      <th>Num</th>\n",
       "      <th>Side</th>\n",
       "    </tr>\n",
       "  </thead>\n",
       "  <tbody>\n",
       "    <tr>\n",
       "      <th>0</th>\n",
       "      <td>Earth</td>\n",
       "      <td>True</td>\n",
       "      <td>TRAPPIST-1e</td>\n",
       "      <td>27.0</td>\n",
       "      <td>False</td>\n",
       "      <td>0.0</td>\n",
       "      <td>0.0</td>\n",
       "      <td>0.0</td>\n",
       "      <td>0.0</td>\n",
       "      <td>0.0</td>\n",
       "      <td>G</td>\n",
       "      <td>3</td>\n",
       "      <td>S</td>\n",
       "    </tr>\n",
       "    <tr>\n",
       "      <th>1</th>\n",
       "      <td>Earth</td>\n",
       "      <td>False</td>\n",
       "      <td>TRAPPIST-1e</td>\n",
       "      <td>19.0</td>\n",
       "      <td>False</td>\n",
       "      <td>0.0</td>\n",
       "      <td>9.0</td>\n",
       "      <td>0.0</td>\n",
       "      <td>2823.0</td>\n",
       "      <td>0.0</td>\n",
       "      <td>F</td>\n",
       "      <td>4</td>\n",
       "      <td>S</td>\n",
       "    </tr>\n",
       "    <tr>\n",
       "      <th>2</th>\n",
       "      <td>Europa</td>\n",
       "      <td>True</td>\n",
       "      <td>55 Cancri e</td>\n",
       "      <td>31.0</td>\n",
       "      <td>False</td>\n",
       "      <td>0.0</td>\n",
       "      <td>0.0</td>\n",
       "      <td>0.0</td>\n",
       "      <td>0.0</td>\n",
       "      <td>0.0</td>\n",
       "      <td>C</td>\n",
       "      <td>0</td>\n",
       "      <td>S</td>\n",
       "    </tr>\n",
       "    <tr>\n",
       "      <th>3</th>\n",
       "      <td>Europa</td>\n",
       "      <td>False</td>\n",
       "      <td>TRAPPIST-1e</td>\n",
       "      <td>38.0</td>\n",
       "      <td>False</td>\n",
       "      <td>0.0</td>\n",
       "      <td>6652.0</td>\n",
       "      <td>0.0</td>\n",
       "      <td>181.0</td>\n",
       "      <td>585.0</td>\n",
       "      <td>C</td>\n",
       "      <td>1</td>\n",
       "      <td>S</td>\n",
       "    </tr>\n",
       "    <tr>\n",
       "      <th>4</th>\n",
       "      <td>Earth</td>\n",
       "      <td>False</td>\n",
       "      <td>TRAPPIST-1e</td>\n",
       "      <td>20.0</td>\n",
       "      <td>False</td>\n",
       "      <td>10.0</td>\n",
       "      <td>0.0</td>\n",
       "      <td>635.0</td>\n",
       "      <td>0.0</td>\n",
       "      <td>0.0</td>\n",
       "      <td>F</td>\n",
       "      <td>5</td>\n",
       "      <td>S</td>\n",
       "    </tr>\n",
       "    <tr>\n",
       "      <th>...</th>\n",
       "      <td>...</td>\n",
       "      <td>...</td>\n",
       "      <td>...</td>\n",
       "      <td>...</td>\n",
       "      <td>...</td>\n",
       "      <td>...</td>\n",
       "      <td>...</td>\n",
       "      <td>...</td>\n",
       "      <td>...</td>\n",
       "      <td>...</td>\n",
       "      <td>...</td>\n",
       "      <td>...</td>\n",
       "      <td>...</td>\n",
       "    </tr>\n",
       "    <tr>\n",
       "      <th>4272</th>\n",
       "      <td>Earth</td>\n",
       "      <td>True</td>\n",
       "      <td>TRAPPIST-1e</td>\n",
       "      <td>34.0</td>\n",
       "      <td>False</td>\n",
       "      <td>0.0</td>\n",
       "      <td>0.0</td>\n",
       "      <td>0.0</td>\n",
       "      <td>0.0</td>\n",
       "      <td>0.0</td>\n",
       "      <td>G</td>\n",
       "      <td>1496</td>\n",
       "      <td>S</td>\n",
       "    </tr>\n",
       "    <tr>\n",
       "      <th>4273</th>\n",
       "      <td>Earth</td>\n",
       "      <td>False</td>\n",
       "      <td>TRAPPIST-1e</td>\n",
       "      <td>42.0</td>\n",
       "      <td>False</td>\n",
       "      <td>0.0</td>\n",
       "      <td>847.0</td>\n",
       "      <td>17.0</td>\n",
       "      <td>10.0</td>\n",
       "      <td>144.0</td>\n",
       "      <td>F</td>\n",
       "      <td>4</td>\n",
       "      <td>S</td>\n",
       "    </tr>\n",
       "    <tr>\n",
       "      <th>4274</th>\n",
       "      <td>Mars</td>\n",
       "      <td>True</td>\n",
       "      <td>55 Cancri e</td>\n",
       "      <td>26.0</td>\n",
       "      <td>False</td>\n",
       "      <td>0.0</td>\n",
       "      <td>0.0</td>\n",
       "      <td>0.0</td>\n",
       "      <td>0.0</td>\n",
       "      <td>0.0</td>\n",
       "      <td>D</td>\n",
       "      <td>296</td>\n",
       "      <td>P</td>\n",
       "    </tr>\n",
       "    <tr>\n",
       "      <th>4275</th>\n",
       "      <td>Europa</td>\n",
       "      <td>False</td>\n",
       "      <td>TRAPPIST-1e</td>\n",
       "      <td>26.0</td>\n",
       "      <td>False</td>\n",
       "      <td>0.0</td>\n",
       "      <td>2680.0</td>\n",
       "      <td>0.0</td>\n",
       "      <td>0.0</td>\n",
       "      <td>523.0</td>\n",
       "      <td>D</td>\n",
       "      <td>297</td>\n",
       "      <td>P</td>\n",
       "    </tr>\n",
       "    <tr>\n",
       "      <th>4276</th>\n",
       "      <td>Earth</td>\n",
       "      <td>True</td>\n",
       "      <td>PSO J318.5-22</td>\n",
       "      <td>43.0</td>\n",
       "      <td>False</td>\n",
       "      <td>0.0</td>\n",
       "      <td>0.0</td>\n",
       "      <td>0.0</td>\n",
       "      <td>0.0</td>\n",
       "      <td>0.0</td>\n",
       "      <td>G</td>\n",
       "      <td>1498</td>\n",
       "      <td>S</td>\n",
       "    </tr>\n",
       "  </tbody>\n",
       "</table>\n",
       "<p>4277 rows × 13 columns</p>\n",
       "</div>"
      ],
      "text/plain": [
       "     HomePlanet  CryoSleep    Destination   Age    VIP  RoomService  \\\n",
       "0         Earth       True    TRAPPIST-1e  27.0  False          0.0   \n",
       "1         Earth      False    TRAPPIST-1e  19.0  False          0.0   \n",
       "2        Europa       True    55 Cancri e  31.0  False          0.0   \n",
       "3        Europa      False    TRAPPIST-1e  38.0  False          0.0   \n",
       "4         Earth      False    TRAPPIST-1e  20.0  False         10.0   \n",
       "...         ...        ...            ...   ...    ...          ...   \n",
       "4272      Earth       True    TRAPPIST-1e  34.0  False          0.0   \n",
       "4273      Earth      False    TRAPPIST-1e  42.0  False          0.0   \n",
       "4274       Mars       True    55 Cancri e  26.0  False          0.0   \n",
       "4275     Europa      False    TRAPPIST-1e  26.0  False          0.0   \n",
       "4276      Earth       True  PSO J318.5-22  43.0  False          0.0   \n",
       "\n",
       "      FoodCourt  ShoppingMall     Spa  VRDeck Deck   Num Side  \n",
       "0           0.0           0.0     0.0     0.0    G     3    S  \n",
       "1           9.0           0.0  2823.0     0.0    F     4    S  \n",
       "2           0.0           0.0     0.0     0.0    C     0    S  \n",
       "3        6652.0           0.0   181.0   585.0    C     1    S  \n",
       "4           0.0         635.0     0.0     0.0    F     5    S  \n",
       "...         ...           ...     ...     ...  ...   ...  ...  \n",
       "4272        0.0           0.0     0.0     0.0    G  1496    S  \n",
       "4273      847.0          17.0    10.0   144.0    F     4    S  \n",
       "4274        0.0           0.0     0.0     0.0    D   296    P  \n",
       "4275     2680.0           0.0     0.0   523.0    D   297    P  \n",
       "4276        0.0           0.0     0.0     0.0    G  1498    S  \n",
       "\n",
       "[4277 rows x 13 columns]"
      ]
     },
     "execution_count": 45,
     "metadata": {},
     "output_type": "execute_result"
    }
   ],
   "source": [
    "test = test.drop(['PassengerId', 'Name'], axis='columns')\n",
    "test"
   ]
  },
  {
   "cell_type": "code",
   "execution_count": 46,
   "id": "2d167e7b",
   "metadata": {
    "execution": {
     "iopub.execute_input": "2023-03-31T21:21:08.682430Z",
     "iopub.status.busy": "2023-03-31T21:21:08.681324Z",
     "iopub.status.idle": "2023-03-31T21:21:08.696019Z",
     "shell.execute_reply": "2023-03-31T21:21:08.694594Z"
    },
    "papermill": {
     "duration": 0.044586,
     "end_time": "2023-03-31T21:21:08.698744",
     "exception": false,
     "start_time": "2023-03-31T21:21:08.654158",
     "status": "completed"
    },
    "tags": []
   },
   "outputs": [
    {
     "data": {
      "text/plain": [
       "FoodCourt       106\n",
       "Spa             101\n",
       "ShoppingMall     98\n",
       "RoomService      82\n",
       "VRDeck           80\n",
       "HomePlanet        0\n",
       "CryoSleep         0\n",
       "Destination       0\n",
       "Age               0\n",
       "VIP               0\n",
       "Deck              0\n",
       "Num               0\n",
       "Side              0\n",
       "dtype: int64"
      ]
     },
     "execution_count": 46,
     "metadata": {},
     "output_type": "execute_result"
    }
   ],
   "source": [
    "test.isnull().sum().sort_values(ascending=False)\n"
   ]
  },
  {
   "cell_type": "code",
   "execution_count": 47,
   "id": "385f137b",
   "metadata": {
    "execution": {
     "iopub.execute_input": "2023-03-31T21:21:08.751064Z",
     "iopub.status.busy": "2023-03-31T21:21:08.750472Z",
     "iopub.status.idle": "2023-03-31T21:21:08.768433Z",
     "shell.execute_reply": "2023-03-31T21:21:08.767032Z"
    },
    "papermill": {
     "duration": 0.047592,
     "end_time": "2023-03-31T21:21:08.771444",
     "exception": false,
     "start_time": "2023-03-31T21:21:08.723852",
     "status": "completed"
    },
    "tags": []
   },
   "outputs": [
    {
     "data": {
      "text/plain": [
       "HomePlanet      0\n",
       "CryoSleep       0\n",
       "Destination     0\n",
       "Age             0\n",
       "VIP             0\n",
       "RoomService     0\n",
       "FoodCourt       0\n",
       "ShoppingMall    0\n",
       "Spa             0\n",
       "VRDeck          0\n",
       "Deck            0\n",
       "Num             0\n",
       "Side            0\n",
       "dtype: int64"
      ]
     },
     "execution_count": 47,
     "metadata": {},
     "output_type": "execute_result"
    }
   ],
   "source": [
    "test[['VIP', 'CryoSleep', 'FoodCourt','RoomService','ShoppingMall', 'Spa', 'VRDeck']] = test[['VIP','RoomService', 'CryoSleep', 'FoodCourt', 'ShoppingMall', 'Spa', 'VRDeck']].fillna(value=0)\n",
    "test.isnull().sum().sort_values(ascending=False)"
   ]
  },
  {
   "cell_type": "code",
   "execution_count": 48,
   "id": "5814dc8d",
   "metadata": {
    "execution": {
     "iopub.execute_input": "2023-03-31T21:21:08.826237Z",
     "iopub.status.busy": "2023-03-31T21:21:08.825723Z",
     "iopub.status.idle": "2023-03-31T21:21:08.834622Z",
     "shell.execute_reply": "2023-03-31T21:21:08.833356Z"
    },
    "papermill": {
     "duration": 0.04053,
     "end_time": "2023-03-31T21:21:08.837319",
     "exception": false,
     "start_time": "2023-03-31T21:21:08.796789",
     "status": "completed"
    },
    "tags": []
   },
   "outputs": [],
   "source": [
    "test['VIP'] =test['VIP'].astype(int)\n",
    "test['CryoSleep'] = test['CryoSleep'].astype(int)\n",
    "test['FoodCourt'] = test['FoodCourt'].astype(int)"
   ]
  },
  {
   "cell_type": "code",
   "execution_count": 49,
   "id": "0f13aa72",
   "metadata": {
    "execution": {
     "iopub.execute_input": "2023-03-31T21:21:08.890003Z",
     "iopub.status.busy": "2023-03-31T21:21:08.889401Z",
     "iopub.status.idle": "2023-03-31T21:21:08.911304Z",
     "shell.execute_reply": "2023-03-31T21:21:08.909708Z"
    },
    "papermill": {
     "duration": 0.051895,
     "end_time": "2023-03-31T21:21:08.914265",
     "exception": false,
     "start_time": "2023-03-31T21:21:08.862370",
     "status": "completed"
    },
    "tags": []
   },
   "outputs": [],
   "source": [
    "from sklearn.preprocessing import LabelEncoder\n",
    "encoder = LabelEncoder()\n",
    "for column in test.columns:    \n",
    "    if test[column].dtype == 'object' or test[column].dtype == 'bool':\n",
    "        le = LabelEncoder()\n",
    "        test[column] = le.fit_transform(test[column].astype(str))"
   ]
  },
  {
   "cell_type": "code",
   "execution_count": 50,
   "id": "1306023f",
   "metadata": {
    "execution": {
     "iopub.execute_input": "2023-03-31T21:21:08.966990Z",
     "iopub.status.busy": "2023-03-31T21:21:08.966460Z",
     "iopub.status.idle": "2023-03-31T21:21:08.981729Z",
     "shell.execute_reply": "2023-03-31T21:21:08.980312Z"
    },
    "papermill": {
     "duration": 0.045591,
     "end_time": "2023-03-31T21:21:08.985041",
     "exception": false,
     "start_time": "2023-03-31T21:21:08.939450",
     "status": "completed"
    },
    "tags": []
   },
   "outputs": [],
   "source": [
    "test[['CryoSleep', 'Age', 'RoomService','ShoppingMall', 'Spa', 'VRDeck', 'Num']]= scale.fit_transform(test[['CryoSleep', 'Age', 'RoomService','ShoppingMall', 'Spa', 'VRDeck', 'Num']])\n"
   ]
  },
  {
   "cell_type": "code",
   "execution_count": 51,
   "id": "e989c038",
   "metadata": {
    "execution": {
     "iopub.execute_input": "2023-03-31T21:21:09.046770Z",
     "iopub.status.busy": "2023-03-31T21:21:09.046274Z",
     "iopub.status.idle": "2023-03-31T21:21:09.074860Z",
     "shell.execute_reply": "2023-03-31T21:21:09.073294Z"
    },
    "papermill": {
     "duration": 0.064512,
     "end_time": "2023-03-31T21:21:09.077772",
     "exception": false,
     "start_time": "2023-03-31T21:21:09.013260",
     "status": "completed"
    },
    "tags": []
   },
   "outputs": [
    {
     "data": {
      "text/html": [
       "<div>\n",
       "<style scoped>\n",
       "    .dataframe tbody tr th:only-of-type {\n",
       "        vertical-align: middle;\n",
       "    }\n",
       "\n",
       "    .dataframe tbody tr th {\n",
       "        vertical-align: top;\n",
       "    }\n",
       "\n",
       "    .dataframe thead th {\n",
       "        text-align: right;\n",
       "    }\n",
       "</style>\n",
       "<table border=\"1\" class=\"dataframe\">\n",
       "  <thead>\n",
       "    <tr style=\"text-align: right;\">\n",
       "      <th></th>\n",
       "      <th>HomePlanet</th>\n",
       "      <th>CryoSleep</th>\n",
       "      <th>Destination</th>\n",
       "      <th>Age</th>\n",
       "      <th>VIP</th>\n",
       "      <th>RoomService</th>\n",
       "      <th>FoodCourt</th>\n",
       "      <th>ShoppingMall</th>\n",
       "      <th>Spa</th>\n",
       "      <th>VRDeck</th>\n",
       "      <th>Deck</th>\n",
       "      <th>Num</th>\n",
       "      <th>Side</th>\n",
       "    </tr>\n",
       "  </thead>\n",
       "  <tbody>\n",
       "    <tr>\n",
       "      <th>0</th>\n",
       "      <td>0</td>\n",
       "      <td>-0.357339</td>\n",
       "      <td>2</td>\n",
       "      <td>-0.114147</td>\n",
       "      <td>0</td>\n",
       "      <td>-0.283840</td>\n",
       "      <td>1</td>\n",
       "      <td>-0.312173</td>\n",
       "      <td>-0.267841</td>\n",
       "      <td>-0.246712</td>\n",
       "      <td>6</td>\n",
       "      <td>0.122977</td>\n",
       "      <td>1</td>\n",
       "    </tr>\n",
       "    <tr>\n",
       "      <th>1</th>\n",
       "      <td>0</td>\n",
       "      <td>-0.357339</td>\n",
       "      <td>2</td>\n",
       "      <td>-0.684313</td>\n",
       "      <td>0</td>\n",
       "      <td>-0.277879</td>\n",
       "      <td>0</td>\n",
       "      <td>-0.312173</td>\n",
       "      <td>2.287504</td>\n",
       "      <td>-0.246712</td>\n",
       "      <td>5</td>\n",
       "      <td>0.386651</td>\n",
       "      <td>1</td>\n",
       "    </tr>\n",
       "    <tr>\n",
       "      <th>2</th>\n",
       "      <td>1</td>\n",
       "      <td>-0.357339</td>\n",
       "      <td>0</td>\n",
       "      <td>0.170937</td>\n",
       "      <td>0</td>\n",
       "      <td>-0.283840</td>\n",
       "      <td>1</td>\n",
       "      <td>-0.312173</td>\n",
       "      <td>-0.267841</td>\n",
       "      <td>-0.246712</td>\n",
       "      <td>2</td>\n",
       "      <td>-1.897704</td>\n",
       "      <td>1</td>\n",
       "    </tr>\n",
       "    <tr>\n",
       "      <th>3</th>\n",
       "      <td>1</td>\n",
       "      <td>-0.357339</td>\n",
       "      <td>2</td>\n",
       "      <td>0.669832</td>\n",
       "      <td>0</td>\n",
       "      <td>4.121518</td>\n",
       "      <td>0</td>\n",
       "      <td>-0.312173</td>\n",
       "      <td>-0.104002</td>\n",
       "      <td>0.226648</td>\n",
       "      <td>2</td>\n",
       "      <td>-1.895240</td>\n",
       "      <td>1</td>\n",
       "    </tr>\n",
       "    <tr>\n",
       "      <th>4</th>\n",
       "      <td>0</td>\n",
       "      <td>-0.340723</td>\n",
       "      <td>2</td>\n",
       "      <td>-0.613042</td>\n",
       "      <td>0</td>\n",
       "      <td>-0.283840</td>\n",
       "      <td>0</td>\n",
       "      <td>0.832122</td>\n",
       "      <td>-0.267841</td>\n",
       "      <td>-0.246712</td>\n",
       "      <td>5</td>\n",
       "      <td>0.638004</td>\n",
       "      <td>1</td>\n",
       "    </tr>\n",
       "    <tr>\n",
       "      <th>...</th>\n",
       "      <td>...</td>\n",
       "      <td>...</td>\n",
       "      <td>...</td>\n",
       "      <td>...</td>\n",
       "      <td>...</td>\n",
       "      <td>...</td>\n",
       "      <td>...</td>\n",
       "      <td>...</td>\n",
       "      <td>...</td>\n",
       "      <td>...</td>\n",
       "      <td>...</td>\n",
       "      <td>...</td>\n",
       "      <td>...</td>\n",
       "    </tr>\n",
       "    <tr>\n",
       "      <th>4272</th>\n",
       "      <td>0</td>\n",
       "      <td>-0.357339</td>\n",
       "      <td>2</td>\n",
       "      <td>0.384749</td>\n",
       "      <td>0</td>\n",
       "      <td>-0.283840</td>\n",
       "      <td>1</td>\n",
       "      <td>-0.312173</td>\n",
       "      <td>-0.267841</td>\n",
       "      <td>-0.246712</td>\n",
       "      <td>6</td>\n",
       "      <td>-0.783865</td>\n",
       "      <td>1</td>\n",
       "    </tr>\n",
       "    <tr>\n",
       "      <th>4273</th>\n",
       "      <td>0</td>\n",
       "      <td>-0.357339</td>\n",
       "      <td>2</td>\n",
       "      <td>0.954916</td>\n",
       "      <td>0</td>\n",
       "      <td>0.277095</td>\n",
       "      <td>0</td>\n",
       "      <td>-0.281538</td>\n",
       "      <td>-0.258790</td>\n",
       "      <td>-0.130193</td>\n",
       "      <td>5</td>\n",
       "      <td>0.386651</td>\n",
       "      <td>1</td>\n",
       "    </tr>\n",
       "    <tr>\n",
       "      <th>4274</th>\n",
       "      <td>2</td>\n",
       "      <td>-0.357339</td>\n",
       "      <td>0</td>\n",
       "      <td>-0.185417</td>\n",
       "      <td>0</td>\n",
       "      <td>-0.283840</td>\n",
       "      <td>1</td>\n",
       "      <td>-0.312173</td>\n",
       "      <td>-0.267841</td>\n",
       "      <td>-0.246712</td>\n",
       "      <td>3</td>\n",
       "      <td>0.113120</td>\n",
       "      <td>0</td>\n",
       "    </tr>\n",
       "    <tr>\n",
       "      <th>4275</th>\n",
       "      <td>1</td>\n",
       "      <td>-0.357339</td>\n",
       "      <td>2</td>\n",
       "      <td>-0.185417</td>\n",
       "      <td>0</td>\n",
       "      <td>1.491019</td>\n",
       "      <td>0</td>\n",
       "      <td>-0.312173</td>\n",
       "      <td>-0.267841</td>\n",
       "      <td>0.176479</td>\n",
       "      <td>3</td>\n",
       "      <td>0.115584</td>\n",
       "      <td>0</td>\n",
       "    </tr>\n",
       "    <tr>\n",
       "      <th>4276</th>\n",
       "      <td>0</td>\n",
       "      <td>-0.357339</td>\n",
       "      <td>1</td>\n",
       "      <td>1.026186</td>\n",
       "      <td>0</td>\n",
       "      <td>-0.283840</td>\n",
       "      <td>1</td>\n",
       "      <td>-0.312173</td>\n",
       "      <td>-0.267841</td>\n",
       "      <td>-0.246712</td>\n",
       "      <td>6</td>\n",
       "      <td>-0.781401</td>\n",
       "      <td>1</td>\n",
       "    </tr>\n",
       "  </tbody>\n",
       "</table>\n",
       "<p>4277 rows × 13 columns</p>\n",
       "</div>"
      ],
      "text/plain": [
       "      HomePlanet  CryoSleep  Destination       Age  VIP  RoomService  \\\n",
       "0              0  -0.357339            2 -0.114147    0    -0.283840   \n",
       "1              0  -0.357339            2 -0.684313    0    -0.277879   \n",
       "2              1  -0.357339            0  0.170937    0    -0.283840   \n",
       "3              1  -0.357339            2  0.669832    0     4.121518   \n",
       "4              0  -0.340723            2 -0.613042    0    -0.283840   \n",
       "...          ...        ...          ...       ...  ...          ...   \n",
       "4272           0  -0.357339            2  0.384749    0    -0.283840   \n",
       "4273           0  -0.357339            2  0.954916    0     0.277095   \n",
       "4274           2  -0.357339            0 -0.185417    0    -0.283840   \n",
       "4275           1  -0.357339            2 -0.185417    0     1.491019   \n",
       "4276           0  -0.357339            1  1.026186    0    -0.283840   \n",
       "\n",
       "      FoodCourt  ShoppingMall       Spa    VRDeck  Deck       Num  Side  \n",
       "0             1     -0.312173 -0.267841 -0.246712     6  0.122977     1  \n",
       "1             0     -0.312173  2.287504 -0.246712     5  0.386651     1  \n",
       "2             1     -0.312173 -0.267841 -0.246712     2 -1.897704     1  \n",
       "3             0     -0.312173 -0.104002  0.226648     2 -1.895240     1  \n",
       "4             0      0.832122 -0.267841 -0.246712     5  0.638004     1  \n",
       "...         ...           ...       ...       ...   ...       ...   ...  \n",
       "4272          1     -0.312173 -0.267841 -0.246712     6 -0.783865     1  \n",
       "4273          0     -0.281538 -0.258790 -0.130193     5  0.386651     1  \n",
       "4274          1     -0.312173 -0.267841 -0.246712     3  0.113120     0  \n",
       "4275          0     -0.312173 -0.267841  0.176479     3  0.115584     0  \n",
       "4276          1     -0.312173 -0.267841 -0.246712     6 -0.781401     1  \n",
       "\n",
       "[4277 rows x 13 columns]"
      ]
     },
     "execution_count": 51,
     "metadata": {},
     "output_type": "execute_result"
    }
   ],
   "source": [
    "test"
   ]
  },
  {
   "cell_type": "code",
   "execution_count": 52,
   "id": "8eb454c2",
   "metadata": {
    "execution": {
     "iopub.execute_input": "2023-03-31T21:21:09.132486Z",
     "iopub.status.busy": "2023-03-31T21:21:09.130742Z",
     "iopub.status.idle": "2023-03-31T21:21:09.217377Z",
     "shell.execute_reply": "2023-03-31T21:21:09.216122Z"
    },
    "papermill": {
     "duration": 0.117241,
     "end_time": "2023-03-31T21:21:09.220813",
     "exception": false,
     "start_time": "2023-03-31T21:21:09.103572",
     "status": "completed"
    },
    "tags": []
   },
   "outputs": [],
   "source": [
    "import numpy as np\n",
    "from sklearn.model_selection import train_test_split"
   ]
  },
  {
   "cell_type": "code",
   "execution_count": 53,
   "id": "0a31a1eb",
   "metadata": {
    "execution": {
     "iopub.execute_input": "2023-03-31T21:21:09.276422Z",
     "iopub.status.busy": "2023-03-31T21:21:09.275856Z",
     "iopub.status.idle": "2023-03-31T21:21:09.288395Z",
     "shell.execute_reply": "2023-03-31T21:21:09.287306Z"
    },
    "papermill": {
     "duration": 0.04474,
     "end_time": "2023-03-31T21:21:09.291395",
     "exception": false,
     "start_time": "2023-03-31T21:21:09.246655",
     "status": "completed"
    },
    "tags": []
   },
   "outputs": [],
   "source": [
    "X_train, X_test, y_train, y_test = train_test_split( X,y, test_size=0.33, random_state=42)"
   ]
  },
  {
   "cell_type": "code",
   "execution_count": 54,
   "id": "f0e101ec",
   "metadata": {
    "execution": {
     "iopub.execute_input": "2023-03-31T21:21:09.346268Z",
     "iopub.status.busy": "2023-03-31T21:21:09.344771Z",
     "iopub.status.idle": "2023-03-31T21:21:09.768621Z",
     "shell.execute_reply": "2023-03-31T21:21:09.767197Z"
    },
    "papermill": {
     "duration": 0.455194,
     "end_time": "2023-03-31T21:21:09.772226",
     "exception": false,
     "start_time": "2023-03-31T21:21:09.317032",
     "status": "completed"
    },
    "tags": []
   },
   "outputs": [],
   "source": [
    "from sklearn.model_selection import cross_val_score\n",
    "from sklearn.naive_bayes import GaussianNB\n",
    "from sklearn.linear_model import LogisticRegression\n",
    "from sklearn import tree\n",
    "from sklearn.neighbors import KNeighborsClassifier\n",
    "from sklearn.ensemble import RandomForestClassifier\n",
    "from sklearn.svm import SVC\n"
   ]
  },
  {
   "cell_type": "code",
   "execution_count": 55,
   "id": "25d983fe",
   "metadata": {
    "execution": {
     "iopub.execute_input": "2023-03-31T21:21:09.827450Z",
     "iopub.status.busy": "2023-03-31T21:21:09.826915Z",
     "iopub.status.idle": "2023-03-31T21:21:09.883601Z",
     "shell.execute_reply": "2023-03-31T21:21:09.882167Z"
    },
    "papermill": {
     "duration": 0.088088,
     "end_time": "2023-03-31T21:21:09.886812",
     "exception": false,
     "start_time": "2023-03-31T21:21:09.798724",
     "status": "completed"
    },
    "tags": []
   },
   "outputs": [
    {
     "name": "stdout",
     "output_type": "stream",
     "text": [
      "[0.69785408 0.69356223 0.6944206  0.69356223 0.71477663]\n",
      "0.6988351547866614\n"
     ]
    }
   ],
   "source": [
    "gnb = GaussianNB()\n",
    "cv = cross_val_score(gnb,X_train,y_train,cv=5)\n",
    "print(cv)\n",
    "print(cv.mean())"
   ]
  },
  {
   "cell_type": "code",
   "execution_count": 56,
   "id": "a7939a82",
   "metadata": {
    "execution": {
     "iopub.execute_input": "2023-03-31T21:21:09.944260Z",
     "iopub.status.busy": "2023-03-31T21:21:09.943350Z",
     "iopub.status.idle": "2023-03-31T21:21:10.382341Z",
     "shell.execute_reply": "2023-03-31T21:21:10.379785Z"
    },
    "papermill": {
     "duration": 0.473884,
     "end_time": "2023-03-31T21:21:10.388903",
     "exception": false,
     "start_time": "2023-03-31T21:21:09.915019",
     "status": "completed"
    },
    "tags": []
   },
   "outputs": [
    {
     "name": "stdout",
     "output_type": "stream",
     "text": [
      "[0.79055794 0.79399142 0.78283262 0.78712446 0.79896907]\n",
      "0.7906951019866376\n"
     ]
    }
   ],
   "source": [
    "lr = LogisticRegression(max_iter = 2000)\n",
    "cv = cross_val_score(lr,X_train,y_train,cv=5)\n",
    "print(cv)\n",
    "print(cv.mean())"
   ]
  },
  {
   "cell_type": "code",
   "execution_count": 57,
   "id": "689ea98a",
   "metadata": {
    "execution": {
     "iopub.execute_input": "2023-03-31T21:21:10.508245Z",
     "iopub.status.busy": "2023-03-31T21:21:10.507685Z",
     "iopub.status.idle": "2023-03-31T21:21:10.696690Z",
     "shell.execute_reply": "2023-03-31T21:21:10.694920Z"
    },
    "papermill": {
     "duration": 0.241156,
     "end_time": "2023-03-31T21:21:10.700325",
     "exception": false,
     "start_time": "2023-03-31T21:21:10.459169",
     "status": "completed"
    },
    "tags": []
   },
   "outputs": [
    {
     "name": "stdout",
     "output_type": "stream",
     "text": [
      "[0.74935622 0.72103004 0.74678112 0.74592275 0.74226804]\n",
      "0.7410716339984956\n"
     ]
    }
   ],
   "source": [
    "dt = tree.DecisionTreeClassifier(random_state = 1)\n",
    "cv = cross_val_score(dt,X_train,y_train,cv=5)\n",
    "print(cv)\n",
    "print(cv.mean())"
   ]
  },
  {
   "cell_type": "code",
   "execution_count": 58,
   "id": "caa2eae2",
   "metadata": {
    "execution": {
     "iopub.execute_input": "2023-03-31T21:21:10.756195Z",
     "iopub.status.busy": "2023-03-31T21:21:10.754480Z",
     "iopub.status.idle": "2023-03-31T21:21:11.330781Z",
     "shell.execute_reply": "2023-03-31T21:21:11.328592Z"
    },
    "papermill": {
     "duration": 0.607385,
     "end_time": "2023-03-31T21:21:11.334075",
     "exception": false,
     "start_time": "2023-03-31T21:21:10.726690",
     "status": "completed"
    },
    "tags": []
   },
   "outputs": [
    {
     "name": "stdout",
     "output_type": "stream",
     "text": [
      "[0.78626609 0.78454936 0.76909871 0.77854077 0.79037801]\n",
      "0.7817665884990339\n"
     ]
    }
   ],
   "source": [
    "knn = KNeighborsClassifier()\n",
    "cv = cross_val_score(knn,X_train,y_train,cv=5)\n",
    "print(cv)\n",
    "print(cv.mean())"
   ]
  },
  {
   "cell_type": "code",
   "execution_count": 59,
   "id": "7b6ddf8a",
   "metadata": {
    "execution": {
     "iopub.execute_input": "2023-03-31T21:21:11.393681Z",
     "iopub.status.busy": "2023-03-31T21:21:11.393135Z",
     "iopub.status.idle": "2023-03-31T21:21:15.170637Z",
     "shell.execute_reply": "2023-03-31T21:21:15.168476Z"
    },
    "papermill": {
     "duration": 3.814573,
     "end_time": "2023-03-31T21:21:15.174696",
     "exception": false,
     "start_time": "2023-03-31T21:21:11.360123",
     "status": "completed"
    },
    "tags": []
   },
   "outputs": [
    {
     "name": "stdout",
     "output_type": "stream",
     "text": [
      "[0.79828326 0.78369099 0.79828326 0.80515021 0.79896907]\n",
      "0.7968753594973673\n"
     ]
    }
   ],
   "source": [
    "rf = RandomForestClassifier(random_state = 1)\n",
    "cv = cross_val_score(rf,X_train,y_train,cv=5)\n",
    "print(cv)\n",
    "print(cv.mean())"
   ]
  },
  {
   "cell_type": "code",
   "execution_count": 60,
   "id": "789015b2",
   "metadata": {
    "execution": {
     "iopub.execute_input": "2023-03-31T21:21:15.229985Z",
     "iopub.status.busy": "2023-03-31T21:21:15.229477Z",
     "iopub.status.idle": "2023-03-31T21:21:15.323800Z",
     "shell.execute_reply": "2023-03-31T21:21:15.322354Z"
    },
    "papermill": {
     "duration": 0.126598,
     "end_time": "2023-03-31T21:21:15.327688",
     "exception": false,
     "start_time": "2023-03-31T21:21:15.201090",
     "status": "completed"
    },
    "tags": []
   },
   "outputs": [
    {
     "data": {
      "text/plain": [
       "0.767514813523876"
      ]
     },
     "execution_count": 60,
     "metadata": {},
     "output_type": "execute_result"
    }
   ],
   "source": [
    "lr = LogisticRegression(max_iter = 2000)\n",
    "lr.fit(X_train,y_train)\n",
    "lr.score(X_test,y_test)"
   ]
  },
  {
   "cell_type": "code",
   "execution_count": 61,
   "id": "62201e2e",
   "metadata": {
    "execution": {
     "iopub.execute_input": "2023-03-31T21:21:15.450126Z",
     "iopub.status.busy": "2023-03-31T21:21:15.449566Z",
     "iopub.status.idle": "2023-03-31T21:21:16.398812Z",
     "shell.execute_reply": "2023-03-31T21:21:16.397385Z"
    },
    "papermill": {
     "duration": 1.007835,
     "end_time": "2023-03-31T21:21:16.402486",
     "exception": false,
     "start_time": "2023-03-31T21:21:15.394651",
     "status": "completed"
    },
    "tags": []
   },
   "outputs": [
    {
     "data": {
      "text/plain": [
       "0.7884280237016382"
      ]
     },
     "execution_count": 61,
     "metadata": {},
     "output_type": "execute_result"
    }
   ],
   "source": [
    "rf1 = RandomForestClassifier(random_state = 1)\n",
    "rf1.fit(X_train,y_train)\n",
    "rf1.score(X_test,y_test)"
   ]
  },
  {
   "cell_type": "code",
   "execution_count": 62,
   "id": "4d73bd2e",
   "metadata": {
    "execution": {
     "iopub.execute_input": "2023-03-31T21:21:16.460302Z",
     "iopub.status.busy": "2023-03-31T21:21:16.458878Z",
     "iopub.status.idle": "2023-03-31T21:21:16.508184Z",
     "shell.execute_reply": "2023-03-31T21:21:16.507010Z"
    },
    "papermill": {
     "duration": 0.081144,
     "end_time": "2023-03-31T21:21:16.511074",
     "exception": false,
     "start_time": "2023-03-31T21:21:16.429930",
     "status": "completed"
    },
    "tags": []
   },
   "outputs": [
    {
     "data": {
      "text/plain": [
       "0.7364935517601952"
      ]
     },
     "execution_count": 62,
     "metadata": {},
     "output_type": "execute_result"
    }
   ],
   "source": [
    "dt.fit(X_train,y_train)\n",
    "dt.score(X_test,y_test)"
   ]
  },
  {
   "cell_type": "code",
   "execution_count": 63,
   "id": "c17f4cca",
   "metadata": {
    "execution": {
     "iopub.execute_input": "2023-03-31T21:21:16.566699Z",
     "iopub.status.busy": "2023-03-31T21:21:16.565414Z",
     "iopub.status.idle": "2023-03-31T21:21:17.312203Z",
     "shell.execute_reply": "2023-03-31T21:21:17.310554Z"
    },
    "papermill": {
     "duration": 0.778167,
     "end_time": "2023-03-31T21:21:17.315319",
     "exception": false,
     "start_time": "2023-03-31T21:21:16.537152",
     "status": "completed"
    },
    "tags": []
   },
   "outputs": [
    {
     "data": {
      "text/html": [
       "<div>\n",
       "<style scoped>\n",
       "    .dataframe tbody tr th:only-of-type {\n",
       "        vertical-align: middle;\n",
       "    }\n",
       "\n",
       "    .dataframe tbody tr th {\n",
       "        vertical-align: top;\n",
       "    }\n",
       "\n",
       "    .dataframe thead th {\n",
       "        text-align: right;\n",
       "    }\n",
       "</style>\n",
       "<table border=\"1\" class=\"dataframe\">\n",
       "  <thead>\n",
       "    <tr style=\"text-align: right;\">\n",
       "      <th></th>\n",
       "      <th>PassengerId</th>\n",
       "      <th>Transported</th>\n",
       "    </tr>\n",
       "  </thead>\n",
       "  <tbody>\n",
       "    <tr>\n",
       "      <th>0</th>\n",
       "      <td>0013_01</td>\n",
       "      <td>False</td>\n",
       "    </tr>\n",
       "    <tr>\n",
       "      <th>1</th>\n",
       "      <td>0018_01</td>\n",
       "      <td>False</td>\n",
       "    </tr>\n",
       "    <tr>\n",
       "      <th>2</th>\n",
       "      <td>0019_01</td>\n",
       "      <td>True</td>\n",
       "    </tr>\n",
       "    <tr>\n",
       "      <th>3</th>\n",
       "      <td>0021_01</td>\n",
       "      <td>True</td>\n",
       "    </tr>\n",
       "    <tr>\n",
       "      <th>4</th>\n",
       "      <td>0023_01</td>\n",
       "      <td>False</td>\n",
       "    </tr>\n",
       "  </tbody>\n",
       "</table>\n",
       "</div>"
      ],
      "text/plain": [
       "  PassengerId  Transported\n",
       "0     0013_01        False\n",
       "1     0018_01        False\n",
       "2     0019_01         True\n",
       "3     0021_01         True\n",
       "4     0023_01        False"
      ]
     },
     "execution_count": 63,
     "metadata": {},
     "output_type": "execute_result"
    }
   ],
   "source": [
    "# train the model\\\n",
    "from sklearn.ensemble import RandomForestClassifier\n",
    "\n",
    "\n",
    "\n",
    "model = RandomForestClassifier(n_estimators=100, max_depth=5, random_state=1)\n",
    "model.fit(X,y)\n",
    "\n",
    "# predict the data from the test data set\n",
    "predictions = model.predict(test)\n",
    "n_predictions = (predictions > 0.5).astype(bool)\n",
    "# save the predictions in to csv\n",
    "output = pd.DataFrame({'PassengerId': test1.PassengerId, 'Transported': n_predictions.squeeze()})\n",
    "output.head(5)"
   ]
  },
  {
   "cell_type": "code",
   "execution_count": 64,
   "id": "285800ce",
   "metadata": {
    "execution": {
     "iopub.execute_input": "2023-03-31T21:21:17.370631Z",
     "iopub.status.busy": "2023-03-31T21:21:17.370104Z",
     "iopub.status.idle": "2023-03-31T21:21:17.387093Z",
     "shell.execute_reply": "2023-03-31T21:21:17.385602Z"
    },
    "papermill": {
     "duration": 0.048575,
     "end_time": "2023-03-31T21:21:17.390422",
     "exception": false,
     "start_time": "2023-03-31T21:21:17.341847",
     "status": "completed"
    },
    "tags": []
   },
   "outputs": [],
   "source": [
    "output.to_csv('submission.csv', index=False)"
   ]
  }
 ],
 "metadata": {
  "kernelspec": {
   "display_name": "Python 3",
   "language": "python",
   "name": "python3"
  },
  "language_info": {
   "codemirror_mode": {
    "name": "ipython",
    "version": 3
   },
   "file_extension": ".py",
   "mimetype": "text/x-python",
   "name": "python",
   "nbconvert_exporter": "python",
   "pygments_lexer": "ipython3",
   "version": "3.7.12"
  },
  "papermill": {
   "default_parameters": {},
   "duration": 206.69467,
   "end_time": "2023-03-31T21:21:18.646103",
   "environment_variables": {},
   "exception": null,
   "input_path": "__notebook__.ipynb",
   "output_path": "__notebook__.ipynb",
   "parameters": {},
   "start_time": "2023-03-31T21:17:51.951433",
   "version": "2.4.0"
  }
 },
 "nbformat": 4,
 "nbformat_minor": 5
}

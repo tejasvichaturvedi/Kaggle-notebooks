{
 "cells": [
  {
   "cell_type": "code",
   "execution_count": 1,
   "id": "37dbd801",
   "metadata": {
    "_cell_guid": "b1076dfc-b9ad-4769-8c92-a6c4dae69d19",
    "_uuid": "8f2839f25d086af736a60e9eeb907d3b93b6e0e5",
    "execution": {
     "iopub.execute_input": "2023-03-25T20:03:19.872056Z",
     "iopub.status.busy": "2023-03-25T20:03:19.870656Z",
     "iopub.status.idle": "2023-03-25T20:03:19.890081Z",
     "shell.execute_reply": "2023-03-25T20:03:19.888716Z"
    },
    "papermill": {
     "duration": 0.036318,
     "end_time": "2023-03-25T20:03:19.892977",
     "exception": false,
     "start_time": "2023-03-25T20:03:19.856659",
     "status": "completed"
    },
    "tags": []
   },
   "outputs": [
    {
     "name": "stdout",
     "output_type": "stream",
     "text": [
      "/kaggle/input/house-prices-advanced-regression-techniques/sample_submission.csv\n",
      "/kaggle/input/house-prices-advanced-regression-techniques/data_description.txt\n",
      "/kaggle/input/house-prices-advanced-regression-techniques/train.csv\n",
      "/kaggle/input/house-prices-advanced-regression-techniques/test.csv\n"
     ]
    }
   ],
   "source": [
    "# This Python 3 environment comes with many helpful analytics libraries installed\n",
    "# It is defined by the kaggle/python Docker image: https://github.com/kaggle/docker-python\n",
    "# For example, here's several helpful packages to load\n",
    "\n",
    "import numpy as np # linear algebra\n",
    "import pandas as pd # data processing, CSV file I/O (e.g. pd.read_csv)\n",
    "\n",
    "# Input data files are available in the read-only \"../input/\" directory\n",
    "# For example, running this (by clicking run or pressing Shift+Enter) will list all files under the input directory\n",
    "\n",
    "import os\n",
    "for dirname, _, filenames in os.walk('/kaggle/input'):\n",
    "    for filename in filenames:\n",
    "        print(os.path.join(dirname, filename))\n",
    "\n",
    "# You can write up to 20GB to the current directory (/kaggle/working/) that gets preserved as output when you create a version using \"Save & Run All\" \n",
    "# You can also write temporary files to /kaggle/temp/, but they won't be saved outside of the current session"
   ]
  },
  {
   "cell_type": "code",
   "execution_count": 2,
   "id": "5cbb1d14",
   "metadata": {
    "execution": {
     "iopub.execute_input": "2023-03-25T20:03:19.917978Z",
     "iopub.status.busy": "2023-03-25T20:03:19.916973Z",
     "iopub.status.idle": "2023-03-25T20:03:20.012071Z",
     "shell.execute_reply": "2023-03-25T20:03:20.010728Z"
    },
    "papermill": {
     "duration": 0.110218,
     "end_time": "2023-03-25T20:03:20.014773",
     "exception": false,
     "start_time": "2023-03-25T20:03:19.904555",
     "status": "completed"
    },
    "tags": []
   },
   "outputs": [
    {
     "data": {
      "text/html": [
       "<div>\n",
       "<style scoped>\n",
       "    .dataframe tbody tr th:only-of-type {\n",
       "        vertical-align: middle;\n",
       "    }\n",
       "\n",
       "    .dataframe tbody tr th {\n",
       "        vertical-align: top;\n",
       "    }\n",
       "\n",
       "    .dataframe thead th {\n",
       "        text-align: right;\n",
       "    }\n",
       "</style>\n",
       "<table border=\"1\" class=\"dataframe\">\n",
       "  <thead>\n",
       "    <tr style=\"text-align: right;\">\n",
       "      <th></th>\n",
       "      <th>Id</th>\n",
       "      <th>MSSubClass</th>\n",
       "      <th>MSZoning</th>\n",
       "      <th>LotFrontage</th>\n",
       "      <th>LotArea</th>\n",
       "      <th>Street</th>\n",
       "      <th>Alley</th>\n",
       "      <th>LotShape</th>\n",
       "      <th>LandContour</th>\n",
       "      <th>Utilities</th>\n",
       "      <th>...</th>\n",
       "      <th>PoolArea</th>\n",
       "      <th>PoolQC</th>\n",
       "      <th>Fence</th>\n",
       "      <th>MiscFeature</th>\n",
       "      <th>MiscVal</th>\n",
       "      <th>MoSold</th>\n",
       "      <th>YrSold</th>\n",
       "      <th>SaleType</th>\n",
       "      <th>SaleCondition</th>\n",
       "      <th>SalePrice</th>\n",
       "    </tr>\n",
       "  </thead>\n",
       "  <tbody>\n",
       "    <tr>\n",
       "      <th>0</th>\n",
       "      <td>1</td>\n",
       "      <td>60</td>\n",
       "      <td>RL</td>\n",
       "      <td>65.0</td>\n",
       "      <td>8450</td>\n",
       "      <td>Pave</td>\n",
       "      <td>NaN</td>\n",
       "      <td>Reg</td>\n",
       "      <td>Lvl</td>\n",
       "      <td>AllPub</td>\n",
       "      <td>...</td>\n",
       "      <td>0</td>\n",
       "      <td>NaN</td>\n",
       "      <td>NaN</td>\n",
       "      <td>NaN</td>\n",
       "      <td>0</td>\n",
       "      <td>2</td>\n",
       "      <td>2008</td>\n",
       "      <td>WD</td>\n",
       "      <td>Normal</td>\n",
       "      <td>208500</td>\n",
       "    </tr>\n",
       "    <tr>\n",
       "      <th>1</th>\n",
       "      <td>2</td>\n",
       "      <td>20</td>\n",
       "      <td>RL</td>\n",
       "      <td>80.0</td>\n",
       "      <td>9600</td>\n",
       "      <td>Pave</td>\n",
       "      <td>NaN</td>\n",
       "      <td>Reg</td>\n",
       "      <td>Lvl</td>\n",
       "      <td>AllPub</td>\n",
       "      <td>...</td>\n",
       "      <td>0</td>\n",
       "      <td>NaN</td>\n",
       "      <td>NaN</td>\n",
       "      <td>NaN</td>\n",
       "      <td>0</td>\n",
       "      <td>5</td>\n",
       "      <td>2007</td>\n",
       "      <td>WD</td>\n",
       "      <td>Normal</td>\n",
       "      <td>181500</td>\n",
       "    </tr>\n",
       "    <tr>\n",
       "      <th>2</th>\n",
       "      <td>3</td>\n",
       "      <td>60</td>\n",
       "      <td>RL</td>\n",
       "      <td>68.0</td>\n",
       "      <td>11250</td>\n",
       "      <td>Pave</td>\n",
       "      <td>NaN</td>\n",
       "      <td>IR1</td>\n",
       "      <td>Lvl</td>\n",
       "      <td>AllPub</td>\n",
       "      <td>...</td>\n",
       "      <td>0</td>\n",
       "      <td>NaN</td>\n",
       "      <td>NaN</td>\n",
       "      <td>NaN</td>\n",
       "      <td>0</td>\n",
       "      <td>9</td>\n",
       "      <td>2008</td>\n",
       "      <td>WD</td>\n",
       "      <td>Normal</td>\n",
       "      <td>223500</td>\n",
       "    </tr>\n",
       "    <tr>\n",
       "      <th>3</th>\n",
       "      <td>4</td>\n",
       "      <td>70</td>\n",
       "      <td>RL</td>\n",
       "      <td>60.0</td>\n",
       "      <td>9550</td>\n",
       "      <td>Pave</td>\n",
       "      <td>NaN</td>\n",
       "      <td>IR1</td>\n",
       "      <td>Lvl</td>\n",
       "      <td>AllPub</td>\n",
       "      <td>...</td>\n",
       "      <td>0</td>\n",
       "      <td>NaN</td>\n",
       "      <td>NaN</td>\n",
       "      <td>NaN</td>\n",
       "      <td>0</td>\n",
       "      <td>2</td>\n",
       "      <td>2006</td>\n",
       "      <td>WD</td>\n",
       "      <td>Abnorml</td>\n",
       "      <td>140000</td>\n",
       "    </tr>\n",
       "    <tr>\n",
       "      <th>4</th>\n",
       "      <td>5</td>\n",
       "      <td>60</td>\n",
       "      <td>RL</td>\n",
       "      <td>84.0</td>\n",
       "      <td>14260</td>\n",
       "      <td>Pave</td>\n",
       "      <td>NaN</td>\n",
       "      <td>IR1</td>\n",
       "      <td>Lvl</td>\n",
       "      <td>AllPub</td>\n",
       "      <td>...</td>\n",
       "      <td>0</td>\n",
       "      <td>NaN</td>\n",
       "      <td>NaN</td>\n",
       "      <td>NaN</td>\n",
       "      <td>0</td>\n",
       "      <td>12</td>\n",
       "      <td>2008</td>\n",
       "      <td>WD</td>\n",
       "      <td>Normal</td>\n",
       "      <td>250000</td>\n",
       "    </tr>\n",
       "    <tr>\n",
       "      <th>...</th>\n",
       "      <td>...</td>\n",
       "      <td>...</td>\n",
       "      <td>...</td>\n",
       "      <td>...</td>\n",
       "      <td>...</td>\n",
       "      <td>...</td>\n",
       "      <td>...</td>\n",
       "      <td>...</td>\n",
       "      <td>...</td>\n",
       "      <td>...</td>\n",
       "      <td>...</td>\n",
       "      <td>...</td>\n",
       "      <td>...</td>\n",
       "      <td>...</td>\n",
       "      <td>...</td>\n",
       "      <td>...</td>\n",
       "      <td>...</td>\n",
       "      <td>...</td>\n",
       "      <td>...</td>\n",
       "      <td>...</td>\n",
       "      <td>...</td>\n",
       "    </tr>\n",
       "    <tr>\n",
       "      <th>1455</th>\n",
       "      <td>1456</td>\n",
       "      <td>60</td>\n",
       "      <td>RL</td>\n",
       "      <td>62.0</td>\n",
       "      <td>7917</td>\n",
       "      <td>Pave</td>\n",
       "      <td>NaN</td>\n",
       "      <td>Reg</td>\n",
       "      <td>Lvl</td>\n",
       "      <td>AllPub</td>\n",
       "      <td>...</td>\n",
       "      <td>0</td>\n",
       "      <td>NaN</td>\n",
       "      <td>NaN</td>\n",
       "      <td>NaN</td>\n",
       "      <td>0</td>\n",
       "      <td>8</td>\n",
       "      <td>2007</td>\n",
       "      <td>WD</td>\n",
       "      <td>Normal</td>\n",
       "      <td>175000</td>\n",
       "    </tr>\n",
       "    <tr>\n",
       "      <th>1456</th>\n",
       "      <td>1457</td>\n",
       "      <td>20</td>\n",
       "      <td>RL</td>\n",
       "      <td>85.0</td>\n",
       "      <td>13175</td>\n",
       "      <td>Pave</td>\n",
       "      <td>NaN</td>\n",
       "      <td>Reg</td>\n",
       "      <td>Lvl</td>\n",
       "      <td>AllPub</td>\n",
       "      <td>...</td>\n",
       "      <td>0</td>\n",
       "      <td>NaN</td>\n",
       "      <td>MnPrv</td>\n",
       "      <td>NaN</td>\n",
       "      <td>0</td>\n",
       "      <td>2</td>\n",
       "      <td>2010</td>\n",
       "      <td>WD</td>\n",
       "      <td>Normal</td>\n",
       "      <td>210000</td>\n",
       "    </tr>\n",
       "    <tr>\n",
       "      <th>1457</th>\n",
       "      <td>1458</td>\n",
       "      <td>70</td>\n",
       "      <td>RL</td>\n",
       "      <td>66.0</td>\n",
       "      <td>9042</td>\n",
       "      <td>Pave</td>\n",
       "      <td>NaN</td>\n",
       "      <td>Reg</td>\n",
       "      <td>Lvl</td>\n",
       "      <td>AllPub</td>\n",
       "      <td>...</td>\n",
       "      <td>0</td>\n",
       "      <td>NaN</td>\n",
       "      <td>GdPrv</td>\n",
       "      <td>Shed</td>\n",
       "      <td>2500</td>\n",
       "      <td>5</td>\n",
       "      <td>2010</td>\n",
       "      <td>WD</td>\n",
       "      <td>Normal</td>\n",
       "      <td>266500</td>\n",
       "    </tr>\n",
       "    <tr>\n",
       "      <th>1458</th>\n",
       "      <td>1459</td>\n",
       "      <td>20</td>\n",
       "      <td>RL</td>\n",
       "      <td>68.0</td>\n",
       "      <td>9717</td>\n",
       "      <td>Pave</td>\n",
       "      <td>NaN</td>\n",
       "      <td>Reg</td>\n",
       "      <td>Lvl</td>\n",
       "      <td>AllPub</td>\n",
       "      <td>...</td>\n",
       "      <td>0</td>\n",
       "      <td>NaN</td>\n",
       "      <td>NaN</td>\n",
       "      <td>NaN</td>\n",
       "      <td>0</td>\n",
       "      <td>4</td>\n",
       "      <td>2010</td>\n",
       "      <td>WD</td>\n",
       "      <td>Normal</td>\n",
       "      <td>142125</td>\n",
       "    </tr>\n",
       "    <tr>\n",
       "      <th>1459</th>\n",
       "      <td>1460</td>\n",
       "      <td>20</td>\n",
       "      <td>RL</td>\n",
       "      <td>75.0</td>\n",
       "      <td>9937</td>\n",
       "      <td>Pave</td>\n",
       "      <td>NaN</td>\n",
       "      <td>Reg</td>\n",
       "      <td>Lvl</td>\n",
       "      <td>AllPub</td>\n",
       "      <td>...</td>\n",
       "      <td>0</td>\n",
       "      <td>NaN</td>\n",
       "      <td>NaN</td>\n",
       "      <td>NaN</td>\n",
       "      <td>0</td>\n",
       "      <td>6</td>\n",
       "      <td>2008</td>\n",
       "      <td>WD</td>\n",
       "      <td>Normal</td>\n",
       "      <td>147500</td>\n",
       "    </tr>\n",
       "  </tbody>\n",
       "</table>\n",
       "<p>1460 rows × 81 columns</p>\n",
       "</div>"
      ],
      "text/plain": [
       "        Id  MSSubClass MSZoning  LotFrontage  LotArea Street Alley LotShape  \\\n",
       "0        1          60       RL         65.0     8450   Pave   NaN      Reg   \n",
       "1        2          20       RL         80.0     9600   Pave   NaN      Reg   \n",
       "2        3          60       RL         68.0    11250   Pave   NaN      IR1   \n",
       "3        4          70       RL         60.0     9550   Pave   NaN      IR1   \n",
       "4        5          60       RL         84.0    14260   Pave   NaN      IR1   \n",
       "...    ...         ...      ...          ...      ...    ...   ...      ...   \n",
       "1455  1456          60       RL         62.0     7917   Pave   NaN      Reg   \n",
       "1456  1457          20       RL         85.0    13175   Pave   NaN      Reg   \n",
       "1457  1458          70       RL         66.0     9042   Pave   NaN      Reg   \n",
       "1458  1459          20       RL         68.0     9717   Pave   NaN      Reg   \n",
       "1459  1460          20       RL         75.0     9937   Pave   NaN      Reg   \n",
       "\n",
       "     LandContour Utilities  ... PoolArea PoolQC  Fence MiscFeature MiscVal  \\\n",
       "0            Lvl    AllPub  ...        0    NaN    NaN         NaN       0   \n",
       "1            Lvl    AllPub  ...        0    NaN    NaN         NaN       0   \n",
       "2            Lvl    AllPub  ...        0    NaN    NaN         NaN       0   \n",
       "3            Lvl    AllPub  ...        0    NaN    NaN         NaN       0   \n",
       "4            Lvl    AllPub  ...        0    NaN    NaN         NaN       0   \n",
       "...          ...       ...  ...      ...    ...    ...         ...     ...   \n",
       "1455         Lvl    AllPub  ...        0    NaN    NaN         NaN       0   \n",
       "1456         Lvl    AllPub  ...        0    NaN  MnPrv         NaN       0   \n",
       "1457         Lvl    AllPub  ...        0    NaN  GdPrv        Shed    2500   \n",
       "1458         Lvl    AllPub  ...        0    NaN    NaN         NaN       0   \n",
       "1459         Lvl    AllPub  ...        0    NaN    NaN         NaN       0   \n",
       "\n",
       "     MoSold YrSold  SaleType  SaleCondition  SalePrice  \n",
       "0         2   2008        WD         Normal     208500  \n",
       "1         5   2007        WD         Normal     181500  \n",
       "2         9   2008        WD         Normal     223500  \n",
       "3         2   2006        WD        Abnorml     140000  \n",
       "4        12   2008        WD         Normal     250000  \n",
       "...     ...    ...       ...            ...        ...  \n",
       "1455      8   2007        WD         Normal     175000  \n",
       "1456      2   2010        WD         Normal     210000  \n",
       "1457      5   2010        WD         Normal     266500  \n",
       "1458      4   2010        WD         Normal     142125  \n",
       "1459      6   2008        WD         Normal     147500  \n",
       "\n",
       "[1460 rows x 81 columns]"
      ]
     },
     "execution_count": 2,
     "metadata": {},
     "output_type": "execute_result"
    }
   ],
   "source": [
    "train = pd.read_csv('/kaggle/input/house-prices-advanced-regression-techniques/train.csv')\n",
    "train"
   ]
  },
  {
   "cell_type": "code",
   "execution_count": 3,
   "id": "e9a63aab",
   "metadata": {
    "execution": {
     "iopub.execute_input": "2023-03-25T20:03:20.040208Z",
     "iopub.status.busy": "2023-03-25T20:03:20.039122Z",
     "iopub.status.idle": "2023-03-25T20:03:20.070504Z",
     "shell.execute_reply": "2023-03-25T20:03:20.069475Z"
    },
    "papermill": {
     "duration": 0.047586,
     "end_time": "2023-03-25T20:03:20.073946",
     "exception": false,
     "start_time": "2023-03-25T20:03:20.026360",
     "status": "completed"
    },
    "tags": []
   },
   "outputs": [
    {
     "name": "stdout",
     "output_type": "stream",
     "text": [
      "<class 'pandas.core.frame.DataFrame'>\n",
      "RangeIndex: 1460 entries, 0 to 1459\n",
      "Data columns (total 81 columns):\n",
      " #   Column         Non-Null Count  Dtype  \n",
      "---  ------         --------------  -----  \n",
      " 0   Id             1460 non-null   int64  \n",
      " 1   MSSubClass     1460 non-null   int64  \n",
      " 2   MSZoning       1460 non-null   object \n",
      " 3   LotFrontage    1201 non-null   float64\n",
      " 4   LotArea        1460 non-null   int64  \n",
      " 5   Street         1460 non-null   object \n",
      " 6   Alley          91 non-null     object \n",
      " 7   LotShape       1460 non-null   object \n",
      " 8   LandContour    1460 non-null   object \n",
      " 9   Utilities      1460 non-null   object \n",
      " 10  LotConfig      1460 non-null   object \n",
      " 11  LandSlope      1460 non-null   object \n",
      " 12  Neighborhood   1460 non-null   object \n",
      " 13  Condition1     1460 non-null   object \n",
      " 14  Condition2     1460 non-null   object \n",
      " 15  BldgType       1460 non-null   object \n",
      " 16  HouseStyle     1460 non-null   object \n",
      " 17  OverallQual    1460 non-null   int64  \n",
      " 18  OverallCond    1460 non-null   int64  \n",
      " 19  YearBuilt      1460 non-null   int64  \n",
      " 20  YearRemodAdd   1460 non-null   int64  \n",
      " 21  RoofStyle      1460 non-null   object \n",
      " 22  RoofMatl       1460 non-null   object \n",
      " 23  Exterior1st    1460 non-null   object \n",
      " 24  Exterior2nd    1460 non-null   object \n",
      " 25  MasVnrType     1452 non-null   object \n",
      " 26  MasVnrArea     1452 non-null   float64\n",
      " 27  ExterQual      1460 non-null   object \n",
      " 28  ExterCond      1460 non-null   object \n",
      " 29  Foundation     1460 non-null   object \n",
      " 30  BsmtQual       1423 non-null   object \n",
      " 31  BsmtCond       1423 non-null   object \n",
      " 32  BsmtExposure   1422 non-null   object \n",
      " 33  BsmtFinType1   1423 non-null   object \n",
      " 34  BsmtFinSF1     1460 non-null   int64  \n",
      " 35  BsmtFinType2   1422 non-null   object \n",
      " 36  BsmtFinSF2     1460 non-null   int64  \n",
      " 37  BsmtUnfSF      1460 non-null   int64  \n",
      " 38  TotalBsmtSF    1460 non-null   int64  \n",
      " 39  Heating        1460 non-null   object \n",
      " 40  HeatingQC      1460 non-null   object \n",
      " 41  CentralAir     1460 non-null   object \n",
      " 42  Electrical     1459 non-null   object \n",
      " 43  1stFlrSF       1460 non-null   int64  \n",
      " 44  2ndFlrSF       1460 non-null   int64  \n",
      " 45  LowQualFinSF   1460 non-null   int64  \n",
      " 46  GrLivArea      1460 non-null   int64  \n",
      " 47  BsmtFullBath   1460 non-null   int64  \n",
      " 48  BsmtHalfBath   1460 non-null   int64  \n",
      " 49  FullBath       1460 non-null   int64  \n",
      " 50  HalfBath       1460 non-null   int64  \n",
      " 51  BedroomAbvGr   1460 non-null   int64  \n",
      " 52  KitchenAbvGr   1460 non-null   int64  \n",
      " 53  KitchenQual    1460 non-null   object \n",
      " 54  TotRmsAbvGrd   1460 non-null   int64  \n",
      " 55  Functional     1460 non-null   object \n",
      " 56  Fireplaces     1460 non-null   int64  \n",
      " 57  FireplaceQu    770 non-null    object \n",
      " 58  GarageType     1379 non-null   object \n",
      " 59  GarageYrBlt    1379 non-null   float64\n",
      " 60  GarageFinish   1379 non-null   object \n",
      " 61  GarageCars     1460 non-null   int64  \n",
      " 62  GarageArea     1460 non-null   int64  \n",
      " 63  GarageQual     1379 non-null   object \n",
      " 64  GarageCond     1379 non-null   object \n",
      " 65  PavedDrive     1460 non-null   object \n",
      " 66  WoodDeckSF     1460 non-null   int64  \n",
      " 67  OpenPorchSF    1460 non-null   int64  \n",
      " 68  EnclosedPorch  1460 non-null   int64  \n",
      " 69  3SsnPorch      1460 non-null   int64  \n",
      " 70  ScreenPorch    1460 non-null   int64  \n",
      " 71  PoolArea       1460 non-null   int64  \n",
      " 72  PoolQC         7 non-null      object \n",
      " 73  Fence          281 non-null    object \n",
      " 74  MiscFeature    54 non-null     object \n",
      " 75  MiscVal        1460 non-null   int64  \n",
      " 76  MoSold         1460 non-null   int64  \n",
      " 77  YrSold         1460 non-null   int64  \n",
      " 78  SaleType       1460 non-null   object \n",
      " 79  SaleCondition  1460 non-null   object \n",
      " 80  SalePrice      1460 non-null   int64  \n",
      "dtypes: float64(3), int64(35), object(43)\n",
      "memory usage: 924.0+ KB\n"
     ]
    }
   ],
   "source": [
    "train.info()"
   ]
  },
  {
   "cell_type": "code",
   "execution_count": 4,
   "id": "102f4cd8",
   "metadata": {
    "execution": {
     "iopub.execute_input": "2023-03-25T20:03:20.100671Z",
     "iopub.status.busy": "2023-03-25T20:03:20.100231Z",
     "iopub.status.idle": "2023-03-25T20:03:20.109064Z",
     "shell.execute_reply": "2023-03-25T20:03:20.107778Z"
    },
    "papermill": {
     "duration": 0.02564,
     "end_time": "2023-03-25T20:03:20.111388",
     "exception": false,
     "start_time": "2023-03-25T20:03:20.085748",
     "status": "completed"
    },
    "tags": []
   },
   "outputs": [
    {
     "data": {
      "text/plain": [
       "Index(['Id', 'MSSubClass', 'MSZoning', 'LotFrontage', 'LotArea', 'Street',\n",
       "       'Alley', 'LotShape', 'LandContour', 'Utilities', 'LotConfig',\n",
       "       'LandSlope', 'Neighborhood', 'Condition1', 'Condition2', 'BldgType',\n",
       "       'HouseStyle', 'OverallQual', 'OverallCond', 'YearBuilt', 'YearRemodAdd',\n",
       "       'RoofStyle', 'RoofMatl', 'Exterior1st', 'Exterior2nd', 'MasVnrType',\n",
       "       'MasVnrArea', 'ExterQual', 'ExterCond', 'Foundation', 'BsmtQual',\n",
       "       'BsmtCond', 'BsmtExposure', 'BsmtFinType1', 'BsmtFinSF1',\n",
       "       'BsmtFinType2', 'BsmtFinSF2', 'BsmtUnfSF', 'TotalBsmtSF', 'Heating',\n",
       "       'HeatingQC', 'CentralAir', 'Electrical', '1stFlrSF', '2ndFlrSF',\n",
       "       'LowQualFinSF', 'GrLivArea', 'BsmtFullBath', 'BsmtHalfBath', 'FullBath',\n",
       "       'HalfBath', 'BedroomAbvGr', 'KitchenAbvGr', 'KitchenQual',\n",
       "       'TotRmsAbvGrd', 'Functional', 'Fireplaces', 'FireplaceQu', 'GarageType',\n",
       "       'GarageYrBlt', 'GarageFinish', 'GarageCars', 'GarageArea', 'GarageQual',\n",
       "       'GarageCond', 'PavedDrive', 'WoodDeckSF', 'OpenPorchSF',\n",
       "       'EnclosedPorch', '3SsnPorch', 'ScreenPorch', 'PoolArea', 'PoolQC',\n",
       "       'Fence', 'MiscFeature', 'MiscVal', 'MoSold', 'YrSold', 'SaleType',\n",
       "       'SaleCondition', 'SalePrice'],\n",
       "      dtype='object')"
      ]
     },
     "execution_count": 4,
     "metadata": {},
     "output_type": "execute_result"
    }
   ],
   "source": [
    "train.columns"
   ]
  },
  {
   "cell_type": "code",
   "execution_count": 5,
   "id": "747f077e",
   "metadata": {
    "execution": {
     "iopub.execute_input": "2023-03-25T20:03:20.137956Z",
     "iopub.status.busy": "2023-03-25T20:03:20.136729Z",
     "iopub.status.idle": "2023-03-25T20:03:20.145156Z",
     "shell.execute_reply": "2023-03-25T20:03:20.143974Z"
    },
    "papermill": {
     "duration": 0.024305,
     "end_time": "2023-03-25T20:03:20.147643",
     "exception": false,
     "start_time": "2023-03-25T20:03:20.123338",
     "status": "completed"
    },
    "tags": []
   },
   "outputs": [
    {
     "data": {
      "text/plain": [
       "(1460, 81)"
      ]
     },
     "execution_count": 5,
     "metadata": {},
     "output_type": "execute_result"
    }
   ],
   "source": [
    "train.shape"
   ]
  },
  {
   "cell_type": "code",
   "execution_count": 6,
   "id": "e9196790",
   "metadata": {
    "execution": {
     "iopub.execute_input": "2023-03-25T20:03:20.173993Z",
     "iopub.status.busy": "2023-03-25T20:03:20.173109Z",
     "iopub.status.idle": "2023-03-25T20:03:20.187918Z",
     "shell.execute_reply": "2023-03-25T20:03:20.186739Z"
    },
    "papermill": {
     "duration": 0.031046,
     "end_time": "2023-03-25T20:03:20.190657",
     "exception": false,
     "start_time": "2023-03-25T20:03:20.159611",
     "status": "completed"
    },
    "tags": []
   },
   "outputs": [
    {
     "data": {
      "text/plain": [
       "PoolQC          1453\n",
       "MiscFeature     1406\n",
       "Alley           1369\n",
       "Fence           1179\n",
       "FireplaceQu      690\n",
       "LotFrontage      259\n",
       "GarageYrBlt       81\n",
       "GarageCond        81\n",
       "GarageType        81\n",
       "GarageFinish      81\n",
       "GarageQual        81\n",
       "BsmtFinType2      38\n",
       "BsmtExposure      38\n",
       "BsmtQual          37\n",
       "BsmtCond          37\n",
       "BsmtFinType1      37\n",
       "MasVnrArea         8\n",
       "MasVnrType         8\n",
       "Electrical         1\n",
       "Id                 0\n",
       "dtype: int64"
      ]
     },
     "execution_count": 6,
     "metadata": {},
     "output_type": "execute_result"
    }
   ],
   "source": [
    "train.isnull().sum().sort_values(ascending=False).head(20)"
   ]
  },
  {
   "cell_type": "code",
   "execution_count": 7,
   "id": "20cd5ccc",
   "metadata": {
    "execution": {
     "iopub.execute_input": "2023-03-25T20:03:20.217936Z",
     "iopub.status.busy": "2023-03-25T20:03:20.217120Z",
     "iopub.status.idle": "2023-03-25T20:03:20.224632Z",
     "shell.execute_reply": "2023-03-25T20:03:20.223082Z"
    },
    "papermill": {
     "duration": 0.024582,
     "end_time": "2023-03-25T20:03:20.227757",
     "exception": false,
     "start_time": "2023-03-25T20:03:20.203175",
     "status": "completed"
    },
    "tags": []
   },
   "outputs": [
    {
     "name": "stdout",
     "output_type": "stream",
     "text": [
      "['MSZoning', 'Street', 'Alley', 'LotShape', 'LandContour', 'Utilities', 'LotConfig', 'LandSlope', 'Neighborhood', 'Condition1', 'Condition2', 'BldgType', 'HouseStyle', 'RoofStyle', 'RoofMatl', 'Exterior1st', 'Exterior2nd', 'MasVnrType', 'ExterQual', 'ExterCond', 'Foundation', 'BsmtQual', 'BsmtCond', 'BsmtExposure', 'BsmtFinType1', 'BsmtFinType2', 'Heating', 'HeatingQC', 'CentralAir', 'Electrical', 'KitchenQual', 'Functional', 'FireplaceQu', 'GarageType', 'GarageFinish', 'GarageQual', 'GarageCond', 'PavedDrive', 'PoolQC', 'Fence', 'MiscFeature', 'SaleType', 'SaleCondition']\n"
     ]
    }
   ],
   "source": [
    "object_features = []\n",
    "for column in train.columns:\n",
    "    if train[column].dtype == 'object':\n",
    "        object_features.append(column)\n",
    "        \n",
    "print(object_features)"
   ]
  },
  {
   "cell_type": "code",
   "execution_count": 8,
   "id": "484e85a1",
   "metadata": {
    "execution": {
     "iopub.execute_input": "2023-03-25T20:03:20.253774Z",
     "iopub.status.busy": "2023-03-25T20:03:20.253335Z",
     "iopub.status.idle": "2023-03-25T20:03:21.524862Z",
     "shell.execute_reply": "2023-03-25T20:03:21.523347Z"
    },
    "papermill": {
     "duration": 1.288474,
     "end_time": "2023-03-25T20:03:21.528194",
     "exception": false,
     "start_time": "2023-03-25T20:03:20.239720",
     "status": "completed"
    },
    "tags": []
   },
   "outputs": [],
   "source": [
    "import seaborn as sns\n",
    "import matplotlib.pyplot as plt\n"
   ]
  },
  {
   "cell_type": "code",
   "execution_count": 9,
   "id": "8a8c0907",
   "metadata": {
    "execution": {
     "iopub.execute_input": "2023-03-25T20:03:21.555071Z",
     "iopub.status.busy": "2023-03-25T20:03:21.553822Z",
     "iopub.status.idle": "2023-03-25T20:03:21.562726Z",
     "shell.execute_reply": "2023-03-25T20:03:21.561499Z"
    },
    "papermill": {
     "duration": 0.025319,
     "end_time": "2023-03-25T20:03:21.565686",
     "exception": false,
     "start_time": "2023-03-25T20:03:21.540367",
     "status": "completed"
    },
    "tags": []
   },
   "outputs": [],
   "source": [
    "train1 =train.drop(['LandContour','LotConfig','Condition1', 'Condition2', 'BldgType', 'HouseStyle', 'RoofStyle', 'RoofMatl', 'Exterior1st', 'Exterior2nd', 'MasVnrType','Foundation', 'BsmtQual', 'BsmtCond', 'BsmtExposure', 'BsmtFinType1', 'BsmtFinType2','Heating', 'HeatingQC', 'CentralAir', 'Electrical', 'KitchenQual','FireplaceQu', 'GarageType', 'GarageFinish', 'GarageQual','PavedDrive','MiscFeature', 'SaleType', 'SaleCondition'],axis='columns')"
   ]
  },
  {
   "cell_type": "code",
   "execution_count": 10,
   "id": "418fcb35",
   "metadata": {
    "execution": {
     "iopub.execute_input": "2023-03-25T20:03:21.592320Z",
     "iopub.status.busy": "2023-03-25T20:03:21.591429Z",
     "iopub.status.idle": "2023-03-25T20:03:21.599348Z",
     "shell.execute_reply": "2023-03-25T20:03:21.598371Z"
    },
    "papermill": {
     "duration": 0.024009,
     "end_time": "2023-03-25T20:03:21.601755",
     "exception": false,
     "start_time": "2023-03-25T20:03:21.577746",
     "status": "completed"
    },
    "tags": []
   },
   "outputs": [
    {
     "data": {
      "text/plain": [
       "Index(['Id', 'MSSubClass', 'MSZoning', 'LotFrontage', 'LotArea', 'Street',\n",
       "       'Alley', 'LotShape', 'Utilities', 'LandSlope', 'Neighborhood',\n",
       "       'OverallQual', 'OverallCond', 'YearBuilt', 'YearRemodAdd', 'MasVnrArea',\n",
       "       'ExterQual', 'ExterCond', 'BsmtFinSF1', 'BsmtFinSF2', 'BsmtUnfSF',\n",
       "       'TotalBsmtSF', '1stFlrSF', '2ndFlrSF', 'LowQualFinSF', 'GrLivArea',\n",
       "       'BsmtFullBath', 'BsmtHalfBath', 'FullBath', 'HalfBath', 'BedroomAbvGr',\n",
       "       'KitchenAbvGr', 'TotRmsAbvGrd', 'Functional', 'Fireplaces',\n",
       "       'GarageYrBlt', 'GarageCars', 'GarageArea', 'GarageCond', 'WoodDeckSF',\n",
       "       'OpenPorchSF', 'EnclosedPorch', '3SsnPorch', 'ScreenPorch', 'PoolArea',\n",
       "       'PoolQC', 'Fence', 'MiscVal', 'MoSold', 'YrSold', 'SalePrice'],\n",
       "      dtype='object')"
      ]
     },
     "execution_count": 10,
     "metadata": {},
     "output_type": "execute_result"
    }
   ],
   "source": [
    "train1.columns"
   ]
  },
  {
   "cell_type": "code",
   "execution_count": 11,
   "id": "03fe1bd6",
   "metadata": {
    "execution": {
     "iopub.execute_input": "2023-03-25T20:03:21.628599Z",
     "iopub.status.busy": "2023-03-25T20:03:21.627757Z",
     "iopub.status.idle": "2023-03-25T20:03:21.635355Z",
     "shell.execute_reply": "2023-03-25T20:03:21.634041Z"
    },
    "papermill": {
     "duration": 0.024092,
     "end_time": "2023-03-25T20:03:21.637890",
     "exception": false,
     "start_time": "2023-03-25T20:03:21.613798",
     "status": "completed"
    },
    "tags": []
   },
   "outputs": [
    {
     "data": {
      "text/plain": [
       "(1460, 51)"
      ]
     },
     "execution_count": 11,
     "metadata": {},
     "output_type": "execute_result"
    }
   ],
   "source": [
    "train1.shape"
   ]
  },
  {
   "cell_type": "code",
   "execution_count": 12,
   "id": "bf9c4ce6",
   "metadata": {
    "execution": {
     "iopub.execute_input": "2023-03-25T20:03:21.664363Z",
     "iopub.status.busy": "2023-03-25T20:03:21.663973Z",
     "iopub.status.idle": "2023-03-25T20:03:21.671323Z",
     "shell.execute_reply": "2023-03-25T20:03:21.670196Z"
    },
    "papermill": {
     "duration": 0.023547,
     "end_time": "2023-03-25T20:03:21.673724",
     "exception": false,
     "start_time": "2023-03-25T20:03:21.650177",
     "status": "completed"
    },
    "tags": []
   },
   "outputs": [
    {
     "data": {
      "text/plain": [
       "Index(['Id', 'MSSubClass', 'MSZoning', 'LotFrontage', 'LotArea', 'Street',\n",
       "       'Alley', 'LotShape', 'Utilities', 'LandSlope', 'Neighborhood',\n",
       "       'OverallQual', 'OverallCond', 'YearBuilt', 'YearRemodAdd', 'MasVnrArea',\n",
       "       'ExterQual', 'ExterCond', 'BsmtFinSF1', 'BsmtFinSF2', 'BsmtUnfSF',\n",
       "       'TotalBsmtSF', '1stFlrSF', '2ndFlrSF', 'LowQualFinSF', 'GrLivArea',\n",
       "       'BsmtFullBath', 'BsmtHalfBath', 'FullBath', 'HalfBath', 'BedroomAbvGr',\n",
       "       'KitchenAbvGr', 'TotRmsAbvGrd', 'Functional', 'Fireplaces',\n",
       "       'GarageYrBlt', 'GarageCars', 'GarageArea', 'GarageCond', 'WoodDeckSF',\n",
       "       'OpenPorchSF', 'EnclosedPorch', '3SsnPorch', 'ScreenPorch', 'PoolArea',\n",
       "       'PoolQC', 'Fence', 'MiscVal', 'MoSold', 'YrSold', 'SalePrice'],\n",
       "      dtype='object')"
      ]
     },
     "execution_count": 12,
     "metadata": {},
     "output_type": "execute_result"
    }
   ],
   "source": [
    "train1.columns"
   ]
  },
  {
   "cell_type": "code",
   "execution_count": 13,
   "id": "4c5d1563",
   "metadata": {
    "execution": {
     "iopub.execute_input": "2023-03-25T20:03:21.701064Z",
     "iopub.status.busy": "2023-03-25T20:03:21.700241Z",
     "iopub.status.idle": "2023-03-25T20:03:21.736669Z",
     "shell.execute_reply": "2023-03-25T20:03:21.735043Z"
    },
    "papermill": {
     "duration": 0.053664,
     "end_time": "2023-03-25T20:03:21.739783",
     "exception": false,
     "start_time": "2023-03-25T20:03:21.686119",
     "status": "completed"
    },
    "tags": []
   },
   "outputs": [
    {
     "data": {
      "text/html": [
       "<div>\n",
       "<style scoped>\n",
       "    .dataframe tbody tr th:only-of-type {\n",
       "        vertical-align: middle;\n",
       "    }\n",
       "\n",
       "    .dataframe tbody tr th {\n",
       "        vertical-align: top;\n",
       "    }\n",
       "\n",
       "    .dataframe thead th {\n",
       "        text-align: right;\n",
       "    }\n",
       "</style>\n",
       "<table border=\"1\" class=\"dataframe\">\n",
       "  <thead>\n",
       "    <tr style=\"text-align: right;\">\n",
       "      <th></th>\n",
       "      <th>Fireplaces</th>\n",
       "      <th>GarageArea</th>\n",
       "      <th>GarageCars</th>\n",
       "      <th>GarageYrBlt</th>\n",
       "      <th>OpenPorchSF</th>\n",
       "      <th>TotRmsAbvGrd</th>\n",
       "      <th>WoodDeckSF</th>\n",
       "    </tr>\n",
       "    <tr>\n",
       "      <th>SalePrice</th>\n",
       "      <th></th>\n",
       "      <th></th>\n",
       "      <th></th>\n",
       "      <th></th>\n",
       "      <th></th>\n",
       "      <th></th>\n",
       "      <th></th>\n",
       "    </tr>\n",
       "  </thead>\n",
       "  <tbody>\n",
       "    <tr>\n",
       "      <th>34900</th>\n",
       "      <td>0.0</td>\n",
       "      <td>0.0</td>\n",
       "      <td>0.0</td>\n",
       "      <td>NaN</td>\n",
       "      <td>523.0</td>\n",
       "      <td>4.0</td>\n",
       "      <td>0.0</td>\n",
       "    </tr>\n",
       "    <tr>\n",
       "      <th>35311</th>\n",
       "      <td>0.0</td>\n",
       "      <td>308.0</td>\n",
       "      <td>1.0</td>\n",
       "      <td>1958.0</td>\n",
       "      <td>0.0</td>\n",
       "      <td>4.0</td>\n",
       "      <td>0.0</td>\n",
       "    </tr>\n",
       "    <tr>\n",
       "      <th>37900</th>\n",
       "      <td>0.0</td>\n",
       "      <td>0.0</td>\n",
       "      <td>0.0</td>\n",
       "      <td>NaN</td>\n",
       "      <td>0.0</td>\n",
       "      <td>6.0</td>\n",
       "      <td>0.0</td>\n",
       "    </tr>\n",
       "    <tr>\n",
       "      <th>39300</th>\n",
       "      <td>0.0</td>\n",
       "      <td>0.0</td>\n",
       "      <td>0.0</td>\n",
       "      <td>NaN</td>\n",
       "      <td>0.0</td>\n",
       "      <td>2.0</td>\n",
       "      <td>0.0</td>\n",
       "    </tr>\n",
       "    <tr>\n",
       "      <th>40000</th>\n",
       "      <td>0.0</td>\n",
       "      <td>250.0</td>\n",
       "      <td>1.0</td>\n",
       "      <td>1920.0</td>\n",
       "      <td>54.0</td>\n",
       "      <td>6.0</td>\n",
       "      <td>0.0</td>\n",
       "    </tr>\n",
       "    <tr>\n",
       "      <th>...</th>\n",
       "      <td>...</td>\n",
       "      <td>...</td>\n",
       "      <td>...</td>\n",
       "      <td>...</td>\n",
       "      <td>...</td>\n",
       "      <td>...</td>\n",
       "      <td>...</td>\n",
       "    </tr>\n",
       "    <tr>\n",
       "      <th>582933</th>\n",
       "      <td>1.0</td>\n",
       "      <td>1020.0</td>\n",
       "      <td>3.0</td>\n",
       "      <td>2009.0</td>\n",
       "      <td>170.0</td>\n",
       "      <td>12.0</td>\n",
       "      <td>52.0</td>\n",
       "    </tr>\n",
       "    <tr>\n",
       "      <th>611657</th>\n",
       "      <td>2.0</td>\n",
       "      <td>820.0</td>\n",
       "      <td>3.0</td>\n",
       "      <td>2009.0</td>\n",
       "      <td>67.0</td>\n",
       "      <td>11.0</td>\n",
       "      <td>0.0</td>\n",
       "    </tr>\n",
       "    <tr>\n",
       "      <th>625000</th>\n",
       "      <td>1.0</td>\n",
       "      <td>807.0</td>\n",
       "      <td>3.0</td>\n",
       "      <td>1995.0</td>\n",
       "      <td>76.0</td>\n",
       "      <td>10.0</td>\n",
       "      <td>361.0</td>\n",
       "    </tr>\n",
       "    <tr>\n",
       "      <th>745000</th>\n",
       "      <td>2.0</td>\n",
       "      <td>813.0</td>\n",
       "      <td>3.0</td>\n",
       "      <td>1996.0</td>\n",
       "      <td>78.0</td>\n",
       "      <td>10.0</td>\n",
       "      <td>171.0</td>\n",
       "    </tr>\n",
       "    <tr>\n",
       "      <th>755000</th>\n",
       "      <td>2.0</td>\n",
       "      <td>832.0</td>\n",
       "      <td>3.0</td>\n",
       "      <td>1994.0</td>\n",
       "      <td>50.0</td>\n",
       "      <td>10.0</td>\n",
       "      <td>382.0</td>\n",
       "    </tr>\n",
       "  </tbody>\n",
       "</table>\n",
       "<p>663 rows × 7 columns</p>\n",
       "</div>"
      ],
      "text/plain": [
       "           Fireplaces  GarageArea  GarageCars  GarageYrBlt  OpenPorchSF  \\\n",
       "SalePrice                                                                 \n",
       "34900             0.0         0.0         0.0          NaN        523.0   \n",
       "35311             0.0       308.0         1.0       1958.0          0.0   \n",
       "37900             0.0         0.0         0.0          NaN          0.0   \n",
       "39300             0.0         0.0         0.0          NaN          0.0   \n",
       "40000             0.0       250.0         1.0       1920.0         54.0   \n",
       "...               ...         ...         ...          ...          ...   \n",
       "582933            1.0      1020.0         3.0       2009.0        170.0   \n",
       "611657            2.0       820.0         3.0       2009.0         67.0   \n",
       "625000            1.0       807.0         3.0       1995.0         76.0   \n",
       "745000            2.0       813.0         3.0       1996.0         78.0   \n",
       "755000            2.0       832.0         3.0       1994.0         50.0   \n",
       "\n",
       "           TotRmsAbvGrd  WoodDeckSF  \n",
       "SalePrice                            \n",
       "34900               4.0         0.0  \n",
       "35311               4.0         0.0  \n",
       "37900               6.0         0.0  \n",
       "39300               2.0         0.0  \n",
       "40000               6.0         0.0  \n",
       "...                 ...         ...  \n",
       "582933             12.0        52.0  \n",
       "611657             11.0         0.0  \n",
       "625000             10.0       361.0  \n",
       "745000             10.0       171.0  \n",
       "755000             10.0       382.0  \n",
       "\n",
       "[663 rows x 7 columns]"
      ]
     },
     "execution_count": 13,
     "metadata": {},
     "output_type": "execute_result"
    }
   ],
   "source": [
    "pd.pivot_table(train1,index = 'SalePrice',values =[ 'TotRmsAbvGrd', 'Functional', 'Fireplaces', 'GarageYrBlt', 'GarageCars',\n",
    "       'GarageArea', 'GarageCond', 'WoodDeckSF', 'OpenPorchSF'] )"
   ]
  },
  {
   "cell_type": "code",
   "execution_count": 14,
   "id": "a3fb7f10",
   "metadata": {
    "execution": {
     "iopub.execute_input": "2023-03-25T20:03:21.768499Z",
     "iopub.status.busy": "2023-03-25T20:03:21.767759Z",
     "iopub.status.idle": "2023-03-25T20:03:21.802687Z",
     "shell.execute_reply": "2023-03-25T20:03:21.801417Z"
    },
    "papermill": {
     "duration": 0.05269,
     "end_time": "2023-03-25T20:03:21.805472",
     "exception": false,
     "start_time": "2023-03-25T20:03:21.752782",
     "status": "completed"
    },
    "tags": []
   },
   "outputs": [
    {
     "data": {
      "text/html": [
       "<div>\n",
       "<style scoped>\n",
       "    .dataframe tbody tr th:only-of-type {\n",
       "        vertical-align: middle;\n",
       "    }\n",
       "\n",
       "    .dataframe tbody tr th {\n",
       "        vertical-align: top;\n",
       "    }\n",
       "\n",
       "    .dataframe thead th {\n",
       "        text-align: right;\n",
       "    }\n",
       "</style>\n",
       "<table border=\"1\" class=\"dataframe\">\n",
       "  <thead>\n",
       "    <tr style=\"text-align: right;\">\n",
       "      <th></th>\n",
       "      <th>3SsnPorch</th>\n",
       "      <th>EnclosedPorch</th>\n",
       "      <th>OpenPorchSF</th>\n",
       "      <th>PoolArea</th>\n",
       "      <th>ScreenPorch</th>\n",
       "      <th>WoodDeckSF</th>\n",
       "    </tr>\n",
       "    <tr>\n",
       "      <th>SalePrice</th>\n",
       "      <th></th>\n",
       "      <th></th>\n",
       "      <th></th>\n",
       "      <th></th>\n",
       "      <th></th>\n",
       "      <th></th>\n",
       "    </tr>\n",
       "  </thead>\n",
       "  <tbody>\n",
       "    <tr>\n",
       "      <th>34900</th>\n",
       "      <td>0.0</td>\n",
       "      <td>115.0</td>\n",
       "      <td>523.0</td>\n",
       "      <td>0.0</td>\n",
       "      <td>0.0</td>\n",
       "      <td>0.0</td>\n",
       "    </tr>\n",
       "    <tr>\n",
       "      <th>35311</th>\n",
       "      <td>0.0</td>\n",
       "      <td>0.0</td>\n",
       "      <td>0.0</td>\n",
       "      <td>0.0</td>\n",
       "      <td>0.0</td>\n",
       "      <td>0.0</td>\n",
       "    </tr>\n",
       "    <tr>\n",
       "      <th>37900</th>\n",
       "      <td>0.0</td>\n",
       "      <td>0.0</td>\n",
       "      <td>0.0</td>\n",
       "      <td>0.0</td>\n",
       "      <td>0.0</td>\n",
       "      <td>0.0</td>\n",
       "    </tr>\n",
       "    <tr>\n",
       "      <th>39300</th>\n",
       "      <td>0.0</td>\n",
       "      <td>0.0</td>\n",
       "      <td>0.0</td>\n",
       "      <td>0.0</td>\n",
       "      <td>0.0</td>\n",
       "      <td>0.0</td>\n",
       "    </tr>\n",
       "    <tr>\n",
       "      <th>40000</th>\n",
       "      <td>0.0</td>\n",
       "      <td>172.0</td>\n",
       "      <td>54.0</td>\n",
       "      <td>0.0</td>\n",
       "      <td>0.0</td>\n",
       "      <td>0.0</td>\n",
       "    </tr>\n",
       "    <tr>\n",
       "      <th>...</th>\n",
       "      <td>...</td>\n",
       "      <td>...</td>\n",
       "      <td>...</td>\n",
       "      <td>...</td>\n",
       "      <td>...</td>\n",
       "      <td>...</td>\n",
       "    </tr>\n",
       "    <tr>\n",
       "      <th>582933</th>\n",
       "      <td>0.0</td>\n",
       "      <td>0.0</td>\n",
       "      <td>170.0</td>\n",
       "      <td>0.0</td>\n",
       "      <td>192.0</td>\n",
       "      <td>52.0</td>\n",
       "    </tr>\n",
       "    <tr>\n",
       "      <th>611657</th>\n",
       "      <td>0.0</td>\n",
       "      <td>0.0</td>\n",
       "      <td>67.0</td>\n",
       "      <td>0.0</td>\n",
       "      <td>0.0</td>\n",
       "      <td>0.0</td>\n",
       "    </tr>\n",
       "    <tr>\n",
       "      <th>625000</th>\n",
       "      <td>0.0</td>\n",
       "      <td>0.0</td>\n",
       "      <td>76.0</td>\n",
       "      <td>0.0</td>\n",
       "      <td>0.0</td>\n",
       "      <td>361.0</td>\n",
       "    </tr>\n",
       "    <tr>\n",
       "      <th>745000</th>\n",
       "      <td>0.0</td>\n",
       "      <td>0.0</td>\n",
       "      <td>78.0</td>\n",
       "      <td>555.0</td>\n",
       "      <td>0.0</td>\n",
       "      <td>171.0</td>\n",
       "    </tr>\n",
       "    <tr>\n",
       "      <th>755000</th>\n",
       "      <td>0.0</td>\n",
       "      <td>0.0</td>\n",
       "      <td>50.0</td>\n",
       "      <td>0.0</td>\n",
       "      <td>0.0</td>\n",
       "      <td>382.0</td>\n",
       "    </tr>\n",
       "  </tbody>\n",
       "</table>\n",
       "<p>663 rows × 6 columns</p>\n",
       "</div>"
      ],
      "text/plain": [
       "           3SsnPorch  EnclosedPorch  OpenPorchSF  PoolArea  ScreenPorch  \\\n",
       "SalePrice                                                                 \n",
       "34900            0.0          115.0        523.0       0.0          0.0   \n",
       "35311            0.0            0.0          0.0       0.0          0.0   \n",
       "37900            0.0            0.0          0.0       0.0          0.0   \n",
       "39300            0.0            0.0          0.0       0.0          0.0   \n",
       "40000            0.0          172.0         54.0       0.0          0.0   \n",
       "...              ...            ...          ...       ...          ...   \n",
       "582933           0.0            0.0        170.0       0.0        192.0   \n",
       "611657           0.0            0.0         67.0       0.0          0.0   \n",
       "625000           0.0            0.0         76.0       0.0          0.0   \n",
       "745000           0.0            0.0         78.0     555.0          0.0   \n",
       "755000           0.0            0.0         50.0       0.0          0.0   \n",
       "\n",
       "           WoodDeckSF  \n",
       "SalePrice              \n",
       "34900             0.0  \n",
       "35311             0.0  \n",
       "37900             0.0  \n",
       "39300             0.0  \n",
       "40000             0.0  \n",
       "...               ...  \n",
       "582933           52.0  \n",
       "611657            0.0  \n",
       "625000          361.0  \n",
       "745000          171.0  \n",
       "755000          382.0  \n",
       "\n",
       "[663 rows x 6 columns]"
      ]
     },
     "execution_count": 14,
     "metadata": {},
     "output_type": "execute_result"
    }
   ],
   "source": [
    "pd.pivot_table(train1,index = 'SalePrice',values =[  'WoodDeckSF', 'OpenPorchSF',\n",
    "       'EnclosedPorch', '3SsnPorch', 'ScreenPorch', 'PoolArea', 'PoolQC'] )"
   ]
  },
  {
   "cell_type": "code",
   "execution_count": 15,
   "id": "ee897051",
   "metadata": {
    "execution": {
     "iopub.execute_input": "2023-03-25T20:03:21.833808Z",
     "iopub.status.busy": "2023-03-25T20:03:21.833082Z",
     "iopub.status.idle": "2023-03-25T20:03:21.840608Z",
     "shell.execute_reply": "2023-03-25T20:03:21.839375Z"
    },
    "papermill": {
     "duration": 0.024338,
     "end_time": "2023-03-25T20:03:21.842964",
     "exception": false,
     "start_time": "2023-03-25T20:03:21.818626",
     "status": "completed"
    },
    "tags": []
   },
   "outputs": [],
   "source": [
    "train1.drop(['GarageYrBlt', 'GarageCars', 'GarageCond', 'GarageArea','3SsnPorch', 'ScreenPorch', 'PoolQC','MiscVal', 'MoSold'],axis='columns',inplace =True)"
   ]
  },
  {
   "cell_type": "code",
   "execution_count": 16,
   "id": "4b5df6f4",
   "metadata": {
    "execution": {
     "iopub.execute_input": "2023-03-25T20:03:21.871656Z",
     "iopub.status.busy": "2023-03-25T20:03:21.871223Z",
     "iopub.status.idle": "2023-03-25T20:03:21.878975Z",
     "shell.execute_reply": "2023-03-25T20:03:21.877827Z"
    },
    "papermill": {
     "duration": 0.025124,
     "end_time": "2023-03-25T20:03:21.881558",
     "exception": false,
     "start_time": "2023-03-25T20:03:21.856434",
     "status": "completed"
    },
    "tags": []
   },
   "outputs": [
    {
     "data": {
      "text/plain": [
       "Index(['Id', 'MSSubClass', 'MSZoning', 'LotFrontage', 'LotArea', 'Street',\n",
       "       'Alley', 'LotShape', 'Utilities', 'LandSlope', 'Neighborhood',\n",
       "       'OverallQual', 'OverallCond', 'YearBuilt', 'YearRemodAdd', 'MasVnrArea',\n",
       "       'ExterQual', 'ExterCond', 'BsmtFinSF1', 'BsmtFinSF2', 'BsmtUnfSF',\n",
       "       'TotalBsmtSF', '1stFlrSF', '2ndFlrSF', 'LowQualFinSF', 'GrLivArea',\n",
       "       'BsmtFullBath', 'BsmtHalfBath', 'FullBath', 'HalfBath', 'BedroomAbvGr',\n",
       "       'KitchenAbvGr', 'TotRmsAbvGrd', 'Functional', 'Fireplaces',\n",
       "       'WoodDeckSF', 'OpenPorchSF', 'EnclosedPorch', 'PoolArea', 'Fence',\n",
       "       'YrSold', 'SalePrice'],\n",
       "      dtype='object')"
      ]
     },
     "execution_count": 16,
     "metadata": {},
     "output_type": "execute_result"
    }
   ],
   "source": [
    "train1.columns"
   ]
  },
  {
   "cell_type": "code",
   "execution_count": 17,
   "id": "8da0caa5",
   "metadata": {
    "execution": {
     "iopub.execute_input": "2023-03-25T20:03:21.910874Z",
     "iopub.status.busy": "2023-03-25T20:03:21.910403Z",
     "iopub.status.idle": "2023-03-25T20:03:21.920046Z",
     "shell.execute_reply": "2023-03-25T20:03:21.918861Z"
    },
    "papermill": {
     "duration": 0.027323,
     "end_time": "2023-03-25T20:03:21.922491",
     "exception": false,
     "start_time": "2023-03-25T20:03:21.895168",
     "status": "completed"
    },
    "tags": []
   },
   "outputs": [
    {
     "data": {
      "text/plain": [
       "0       0\n",
       "1       0\n",
       "2       0\n",
       "3       0\n",
       "4       0\n",
       "       ..\n",
       "1455    0\n",
       "1456    0\n",
       "1457    0\n",
       "1458    0\n",
       "1459    0\n",
       "Name: LowQualFinSF, Length: 1460, dtype: int64"
      ]
     },
     "execution_count": 17,
     "metadata": {},
     "output_type": "execute_result"
    }
   ],
   "source": [
    "train.LowQualFinSF"
   ]
  },
  {
   "cell_type": "code",
   "execution_count": 18,
   "id": "0079ef17",
   "metadata": {
    "execution": {
     "iopub.execute_input": "2023-03-25T20:03:21.951277Z",
     "iopub.status.busy": "2023-03-25T20:03:21.950825Z",
     "iopub.status.idle": "2023-03-25T20:03:21.957904Z",
     "shell.execute_reply": "2023-03-25T20:03:21.956722Z"
    },
    "papermill": {
     "duration": 0.024818,
     "end_time": "2023-03-25T20:03:21.960793",
     "exception": false,
     "start_time": "2023-03-25T20:03:21.935975",
     "status": "completed"
    },
    "tags": []
   },
   "outputs": [],
   "source": [
    "train1.drop(['LandSlope','YearBuilt','MasVnrArea', 'BsmtUnfSF','BsmtFinSF2','1stFlrSF', '2ndFlrSF','LowQualFinSF','KitchenAbvGr'],axis='columns',inplace=True)"
   ]
  },
  {
   "cell_type": "code",
   "execution_count": 19,
   "id": "8236627d",
   "metadata": {
    "execution": {
     "iopub.execute_input": "2023-03-25T20:03:21.989811Z",
     "iopub.status.busy": "2023-03-25T20:03:21.989086Z",
     "iopub.status.idle": "2023-03-25T20:03:21.996381Z",
     "shell.execute_reply": "2023-03-25T20:03:21.995186Z"
    },
    "papermill": {
     "duration": 0.024439,
     "end_time": "2023-03-25T20:03:21.998952",
     "exception": false,
     "start_time": "2023-03-25T20:03:21.974513",
     "status": "completed"
    },
    "tags": []
   },
   "outputs": [
    {
     "data": {
      "text/plain": [
       "(1460, 33)"
      ]
     },
     "execution_count": 19,
     "metadata": {},
     "output_type": "execute_result"
    }
   ],
   "source": [
    "train1.shape"
   ]
  },
  {
   "cell_type": "code",
   "execution_count": 20,
   "id": "3eb07a54",
   "metadata": {
    "execution": {
     "iopub.execute_input": "2023-03-25T20:03:22.027653Z",
     "iopub.status.busy": "2023-03-25T20:03:22.027179Z",
     "iopub.status.idle": "2023-03-25T20:03:22.035134Z",
     "shell.execute_reply": "2023-03-25T20:03:22.033934Z"
    },
    "papermill": {
     "duration": 0.02514,
     "end_time": "2023-03-25T20:03:22.037736",
     "exception": false,
     "start_time": "2023-03-25T20:03:22.012596",
     "status": "completed"
    },
    "tags": []
   },
   "outputs": [
    {
     "data": {
      "text/plain": [
       "Index(['Id', 'MSSubClass', 'MSZoning', 'LotFrontage', 'LotArea', 'Street',\n",
       "       'Alley', 'LotShape', 'Utilities', 'Neighborhood', 'OverallQual',\n",
       "       'OverallCond', 'YearRemodAdd', 'ExterQual', 'ExterCond', 'BsmtFinSF1',\n",
       "       'TotalBsmtSF', 'GrLivArea', 'BsmtFullBath', 'BsmtHalfBath', 'FullBath',\n",
       "       'HalfBath', 'BedroomAbvGr', 'TotRmsAbvGrd', 'Functional', 'Fireplaces',\n",
       "       'WoodDeckSF', 'OpenPorchSF', 'EnclosedPorch', 'PoolArea', 'Fence',\n",
       "       'YrSold', 'SalePrice'],\n",
       "      dtype='object')"
      ]
     },
     "execution_count": 20,
     "metadata": {},
     "output_type": "execute_result"
    }
   ],
   "source": [
    "train1.columns"
   ]
  },
  {
   "cell_type": "code",
   "execution_count": 21,
   "id": "02533b88",
   "metadata": {
    "execution": {
     "iopub.execute_input": "2023-03-25T20:03:22.066560Z",
     "iopub.status.busy": "2023-03-25T20:03:22.066113Z",
     "iopub.status.idle": "2023-03-25T20:03:22.097579Z",
     "shell.execute_reply": "2023-03-25T20:03:22.096075Z"
    },
    "papermill": {
     "duration": 0.04893,
     "end_time": "2023-03-25T20:03:22.100102",
     "exception": false,
     "start_time": "2023-03-25T20:03:22.051172",
     "status": "completed"
    },
    "tags": []
   },
   "outputs": [
    {
     "data": {
      "text/html": [
       "<div>\n",
       "<style scoped>\n",
       "    .dataframe tbody tr th:only-of-type {\n",
       "        vertical-align: middle;\n",
       "    }\n",
       "\n",
       "    .dataframe tbody tr th {\n",
       "        vertical-align: top;\n",
       "    }\n",
       "\n",
       "    .dataframe thead th {\n",
       "        text-align: right;\n",
       "    }\n",
       "</style>\n",
       "<table border=\"1\" class=\"dataframe\">\n",
       "  <thead>\n",
       "    <tr style=\"text-align: right;\">\n",
       "      <th></th>\n",
       "      <th>BedroomAbvGr</th>\n",
       "      <th>BsmtFullBath</th>\n",
       "      <th>BsmtHalfBath</th>\n",
       "      <th>FullBath</th>\n",
       "      <th>HalfBath</th>\n",
       "      <th>TotRmsAbvGrd</th>\n",
       "    </tr>\n",
       "    <tr>\n",
       "      <th>SalePrice</th>\n",
       "      <th></th>\n",
       "      <th></th>\n",
       "      <th></th>\n",
       "      <th></th>\n",
       "      <th></th>\n",
       "      <th></th>\n",
       "    </tr>\n",
       "  </thead>\n",
       "  <tbody>\n",
       "    <tr>\n",
       "      <th>34900</th>\n",
       "      <td>2.0</td>\n",
       "      <td>0.0</td>\n",
       "      <td>0.0</td>\n",
       "      <td>1.0</td>\n",
       "      <td>0.0</td>\n",
       "      <td>4.0</td>\n",
       "    </tr>\n",
       "    <tr>\n",
       "      <th>35311</th>\n",
       "      <td>1.0</td>\n",
       "      <td>1.0</td>\n",
       "      <td>0.0</td>\n",
       "      <td>0.0</td>\n",
       "      <td>0.0</td>\n",
       "      <td>4.0</td>\n",
       "    </tr>\n",
       "    <tr>\n",
       "      <th>37900</th>\n",
       "      <td>2.0</td>\n",
       "      <td>0.0</td>\n",
       "      <td>0.0</td>\n",
       "      <td>1.0</td>\n",
       "      <td>0.0</td>\n",
       "      <td>6.0</td>\n",
       "    </tr>\n",
       "    <tr>\n",
       "      <th>39300</th>\n",
       "      <td>1.0</td>\n",
       "      <td>0.0</td>\n",
       "      <td>0.0</td>\n",
       "      <td>1.0</td>\n",
       "      <td>0.0</td>\n",
       "      <td>2.0</td>\n",
       "    </tr>\n",
       "    <tr>\n",
       "      <th>40000</th>\n",
       "      <td>3.0</td>\n",
       "      <td>0.0</td>\n",
       "      <td>0.0</td>\n",
       "      <td>1.0</td>\n",
       "      <td>0.0</td>\n",
       "      <td>6.0</td>\n",
       "    </tr>\n",
       "    <tr>\n",
       "      <th>...</th>\n",
       "      <td>...</td>\n",
       "      <td>...</td>\n",
       "      <td>...</td>\n",
       "      <td>...</td>\n",
       "      <td>...</td>\n",
       "      <td>...</td>\n",
       "    </tr>\n",
       "    <tr>\n",
       "      <th>582933</th>\n",
       "      <td>4.0</td>\n",
       "      <td>0.0</td>\n",
       "      <td>0.0</td>\n",
       "      <td>3.0</td>\n",
       "      <td>1.0</td>\n",
       "      <td>12.0</td>\n",
       "    </tr>\n",
       "    <tr>\n",
       "      <th>611657</th>\n",
       "      <td>2.0</td>\n",
       "      <td>1.0</td>\n",
       "      <td>0.0</td>\n",
       "      <td>2.0</td>\n",
       "      <td>1.0</td>\n",
       "      <td>11.0</td>\n",
       "    </tr>\n",
       "    <tr>\n",
       "      <th>625000</th>\n",
       "      <td>4.0</td>\n",
       "      <td>1.0</td>\n",
       "      <td>0.0</td>\n",
       "      <td>3.0</td>\n",
       "      <td>1.0</td>\n",
       "      <td>10.0</td>\n",
       "    </tr>\n",
       "    <tr>\n",
       "      <th>745000</th>\n",
       "      <td>4.0</td>\n",
       "      <td>1.0</td>\n",
       "      <td>0.0</td>\n",
       "      <td>3.0</td>\n",
       "      <td>1.0</td>\n",
       "      <td>10.0</td>\n",
       "    </tr>\n",
       "    <tr>\n",
       "      <th>755000</th>\n",
       "      <td>4.0</td>\n",
       "      <td>0.0</td>\n",
       "      <td>1.0</td>\n",
       "      <td>3.0</td>\n",
       "      <td>1.0</td>\n",
       "      <td>10.0</td>\n",
       "    </tr>\n",
       "  </tbody>\n",
       "</table>\n",
       "<p>663 rows × 6 columns</p>\n",
       "</div>"
      ],
      "text/plain": [
       "           BedroomAbvGr  BsmtFullBath  BsmtHalfBath  FullBath  HalfBath  \\\n",
       "SalePrice                                                                 \n",
       "34900               2.0           0.0           0.0       1.0       0.0   \n",
       "35311               1.0           1.0           0.0       0.0       0.0   \n",
       "37900               2.0           0.0           0.0       1.0       0.0   \n",
       "39300               1.0           0.0           0.0       1.0       0.0   \n",
       "40000               3.0           0.0           0.0       1.0       0.0   \n",
       "...                 ...           ...           ...       ...       ...   \n",
       "582933              4.0           0.0           0.0       3.0       1.0   \n",
       "611657              2.0           1.0           0.0       2.0       1.0   \n",
       "625000              4.0           1.0           0.0       3.0       1.0   \n",
       "745000              4.0           1.0           0.0       3.0       1.0   \n",
       "755000              4.0           0.0           1.0       3.0       1.0   \n",
       "\n",
       "           TotRmsAbvGrd  \n",
       "SalePrice                \n",
       "34900               4.0  \n",
       "35311               4.0  \n",
       "37900               6.0  \n",
       "39300               2.0  \n",
       "40000               6.0  \n",
       "...                 ...  \n",
       "582933             12.0  \n",
       "611657             11.0  \n",
       "625000             10.0  \n",
       "745000             10.0  \n",
       "755000             10.0  \n",
       "\n",
       "[663 rows x 6 columns]"
      ]
     },
     "execution_count": 21,
     "metadata": {},
     "output_type": "execute_result"
    }
   ],
   "source": [
    "pd.pivot_table(train1,index = 'SalePrice',values =[  'BsmtFullBath', 'BsmtHalfBath', 'FullBath', 'HalfBath',\n",
    "       'BedroomAbvGr', 'TotRmsAbvGrd'] )"
   ]
  },
  {
   "cell_type": "code",
   "execution_count": 22,
   "id": "de0d9494",
   "metadata": {
    "execution": {
     "iopub.execute_input": "2023-03-25T20:03:22.130026Z",
     "iopub.status.busy": "2023-03-25T20:03:22.129129Z",
     "iopub.status.idle": "2023-03-25T20:03:22.135984Z",
     "shell.execute_reply": "2023-03-25T20:03:22.134989Z"
    },
    "papermill": {
     "duration": 0.024696,
     "end_time": "2023-03-25T20:03:22.138428",
     "exception": false,
     "start_time": "2023-03-25T20:03:22.113732",
     "status": "completed"
    },
    "tags": []
   },
   "outputs": [],
   "source": [
    "train1.drop(['BsmtFullBath', 'BsmtHalfBath'],axis='columns',inplace=True)"
   ]
  },
  {
   "cell_type": "code",
   "execution_count": 23,
   "id": "9e6c4006",
   "metadata": {
    "execution": {
     "iopub.execute_input": "2023-03-25T20:03:22.169669Z",
     "iopub.status.busy": "2023-03-25T20:03:22.168944Z",
     "iopub.status.idle": "2023-03-25T20:03:22.180305Z",
     "shell.execute_reply": "2023-03-25T20:03:22.178936Z"
    },
    "papermill": {
     "duration": 0.02965,
     "end_time": "2023-03-25T20:03:22.182969",
     "exception": false,
     "start_time": "2023-03-25T20:03:22.153319",
     "status": "completed"
    },
    "tags": []
   },
   "outputs": [
    {
     "data": {
      "text/plain": [
       "Alley            1369\n",
       "Fence            1179\n",
       "LotFrontage       259\n",
       "Id                  0\n",
       "GrLivArea           0\n",
       "YrSold              0\n",
       "PoolArea            0\n",
       "EnclosedPorch       0\n",
       "OpenPorchSF         0\n",
       "WoodDeckSF          0\n",
       "Fireplaces          0\n",
       "Functional          0\n",
       "TotRmsAbvGrd        0\n",
       "BedroomAbvGr        0\n",
       "HalfBath            0\n",
       "FullBath            0\n",
       "BsmtFinSF1          0\n",
       "TotalBsmtSF         0\n",
       "MSSubClass          0\n",
       "ExterCond           0\n",
       "dtype: int64"
      ]
     },
     "execution_count": 23,
     "metadata": {},
     "output_type": "execute_result"
    }
   ],
   "source": [
    "train1.isnull().sum().sort_values(ascending=False).head(20)"
   ]
  },
  {
   "cell_type": "code",
   "execution_count": 24,
   "id": "09a54c1d",
   "metadata": {
    "execution": {
     "iopub.execute_input": "2023-03-25T20:03:22.212524Z",
     "iopub.status.busy": "2023-03-25T20:03:22.212071Z",
     "iopub.status.idle": "2023-03-25T20:03:22.220286Z",
     "shell.execute_reply": "2023-03-25T20:03:22.219191Z"
    },
    "papermill": {
     "duration": 0.026038,
     "end_time": "2023-03-25T20:03:22.222940",
     "exception": false,
     "start_time": "2023-03-25T20:03:22.196902",
     "status": "completed"
    },
    "tags": []
   },
   "outputs": [
    {
     "data": {
      "text/plain": [
       "array([nan, 'Grvl', 'Pave'], dtype=object)"
      ]
     },
     "execution_count": 24,
     "metadata": {},
     "output_type": "execute_result"
    }
   ],
   "source": [
    "train1['Alley'].unique()"
   ]
  },
  {
   "cell_type": "code",
   "execution_count": 25,
   "id": "0bf4f641",
   "metadata": {
    "execution": {
     "iopub.execute_input": "2023-03-25T20:03:22.253353Z",
     "iopub.status.busy": "2023-03-25T20:03:22.252936Z",
     "iopub.status.idle": "2023-03-25T20:03:22.259683Z",
     "shell.execute_reply": "2023-03-25T20:03:22.258228Z"
    },
    "papermill": {
     "duration": 0.025007,
     "end_time": "2023-03-25T20:03:22.262115",
     "exception": false,
     "start_time": "2023-03-25T20:03:22.237108",
     "status": "completed"
    },
    "tags": []
   },
   "outputs": [
    {
     "data": {
      "text/plain": [
       "(1460, 31)"
      ]
     },
     "execution_count": 25,
     "metadata": {},
     "output_type": "execute_result"
    }
   ],
   "source": [
    "train1.shape"
   ]
  },
  {
   "cell_type": "code",
   "execution_count": 26,
   "id": "32b889f9",
   "metadata": {
    "execution": {
     "iopub.execute_input": "2023-03-25T20:03:22.292150Z",
     "iopub.status.busy": "2023-03-25T20:03:22.291756Z",
     "iopub.status.idle": "2023-03-25T20:03:22.298667Z",
     "shell.execute_reply": "2023-03-25T20:03:22.297319Z"
    },
    "papermill": {
     "duration": 0.024766,
     "end_time": "2023-03-25T20:03:22.300821",
     "exception": false,
     "start_time": "2023-03-25T20:03:22.276055",
     "status": "completed"
    },
    "tags": []
   },
   "outputs": [],
   "source": [
    "train1.drop(['Alley'],axis='columns',inplace=True)"
   ]
  },
  {
   "cell_type": "code",
   "execution_count": 27,
   "id": "f99345ce",
   "metadata": {
    "execution": {
     "iopub.execute_input": "2023-03-25T20:03:22.330878Z",
     "iopub.status.busy": "2023-03-25T20:03:22.330430Z",
     "iopub.status.idle": "2023-03-25T20:03:22.339772Z",
     "shell.execute_reply": "2023-03-25T20:03:22.338805Z"
    },
    "papermill": {
     "duration": 0.027212,
     "end_time": "2023-03-25T20:03:22.342000",
     "exception": false,
     "start_time": "2023-03-25T20:03:22.314788",
     "status": "completed"
    },
    "tags": []
   },
   "outputs": [
    {
     "data": {
      "text/plain": [
       "0         NaN\n",
       "1         NaN\n",
       "2         NaN\n",
       "3         NaN\n",
       "4         NaN\n",
       "        ...  \n",
       "1455      NaN\n",
       "1456    MnPrv\n",
       "1457    GdPrv\n",
       "1458      NaN\n",
       "1459      NaN\n",
       "Name: Fence, Length: 1460, dtype: object"
      ]
     },
     "execution_count": 27,
     "metadata": {},
     "output_type": "execute_result"
    }
   ],
   "source": [
    "train1.Fence"
   ]
  },
  {
   "cell_type": "code",
   "execution_count": 28,
   "id": "2bb31ddc",
   "metadata": {
    "execution": {
     "iopub.execute_input": "2023-03-25T20:03:22.373389Z",
     "iopub.status.busy": "2023-03-25T20:03:22.372280Z",
     "iopub.status.idle": "2023-03-25T20:03:22.382055Z",
     "shell.execute_reply": "2023-03-25T20:03:22.380703Z"
    },
    "papermill": {
     "duration": 0.028105,
     "end_time": "2023-03-25T20:03:22.384535",
     "exception": false,
     "start_time": "2023-03-25T20:03:22.356430",
     "status": "completed"
    },
    "tags": []
   },
   "outputs": [
    {
     "data": {
      "text/plain": [
       "0       65.0\n",
       "1       80.0\n",
       "2       68.0\n",
       "3       60.0\n",
       "4       84.0\n",
       "        ... \n",
       "1455    62.0\n",
       "1456    85.0\n",
       "1457    66.0\n",
       "1458    68.0\n",
       "1459    75.0\n",
       "Name: LotFrontage, Length: 1460, dtype: float64"
      ]
     },
     "execution_count": 28,
     "metadata": {},
     "output_type": "execute_result"
    }
   ],
   "source": [
    "train1.LotFrontage"
   ]
  },
  {
   "cell_type": "code",
   "execution_count": 29,
   "id": "010ef176",
   "metadata": {
    "execution": {
     "iopub.execute_input": "2023-03-25T20:03:22.414881Z",
     "iopub.status.busy": "2023-03-25T20:03:22.414150Z",
     "iopub.status.idle": "2023-03-25T20:03:22.423175Z",
     "shell.execute_reply": "2023-03-25T20:03:22.421418Z"
    },
    "papermill": {
     "duration": 0.027578,
     "end_time": "2023-03-25T20:03:22.426273",
     "exception": false,
     "start_time": "2023-03-25T20:03:22.398695",
     "status": "completed"
    },
    "tags": []
   },
   "outputs": [
    {
     "name": "stdout",
     "output_type": "stream",
     "text": [
      "['MSZoning', 'Street', 'LotShape', 'Utilities', 'Neighborhood', 'ExterQual', 'ExterCond', 'Functional', 'Fence']\n"
     ]
    }
   ],
   "source": [
    "object_features = []\n",
    "for column in train1.columns:\n",
    "    if train1[column].dtype == 'object':\n",
    "        object_features.append(column)\n",
    "        \n",
    "print(object_features)"
   ]
  },
  {
   "cell_type": "code",
   "execution_count": 30,
   "id": "3a09cc69",
   "metadata": {
    "execution": {
     "iopub.execute_input": "2023-03-25T20:03:22.456860Z",
     "iopub.status.busy": "2023-03-25T20:03:22.456389Z",
     "iopub.status.idle": "2023-03-25T20:03:22.473199Z",
     "shell.execute_reply": "2023-03-25T20:03:22.471248Z"
    },
    "papermill": {
     "duration": 0.036734,
     "end_time": "2023-03-25T20:03:22.477347",
     "exception": false,
     "start_time": "2023-03-25T20:03:22.440613",
     "status": "completed"
    },
    "tags": []
   },
   "outputs": [
    {
     "name": "stdout",
     "output_type": "stream",
     "text": [
      "<class 'pandas.core.frame.DataFrame'>\n",
      "RangeIndex: 1460 entries, 0 to 1459\n",
      "Data columns (total 30 columns):\n",
      " #   Column         Non-Null Count  Dtype  \n",
      "---  ------         --------------  -----  \n",
      " 0   Id             1460 non-null   int64  \n",
      " 1   MSSubClass     1460 non-null   int64  \n",
      " 2   MSZoning       1460 non-null   object \n",
      " 3   LotFrontage    1201 non-null   float64\n",
      " 4   LotArea        1460 non-null   int64  \n",
      " 5   Street         1460 non-null   object \n",
      " 6   LotShape       1460 non-null   object \n",
      " 7   Utilities      1460 non-null   object \n",
      " 8   Neighborhood   1460 non-null   object \n",
      " 9   OverallQual    1460 non-null   int64  \n",
      " 10  OverallCond    1460 non-null   int64  \n",
      " 11  YearRemodAdd   1460 non-null   int64  \n",
      " 12  ExterQual      1460 non-null   object \n",
      " 13  ExterCond      1460 non-null   object \n",
      " 14  BsmtFinSF1     1460 non-null   int64  \n",
      " 15  TotalBsmtSF    1460 non-null   int64  \n",
      " 16  GrLivArea      1460 non-null   int64  \n",
      " 17  FullBath       1460 non-null   int64  \n",
      " 18  HalfBath       1460 non-null   int64  \n",
      " 19  BedroomAbvGr   1460 non-null   int64  \n",
      " 20  TotRmsAbvGrd   1460 non-null   int64  \n",
      " 21  Functional     1460 non-null   object \n",
      " 22  Fireplaces     1460 non-null   int64  \n",
      " 23  WoodDeckSF     1460 non-null   int64  \n",
      " 24  OpenPorchSF    1460 non-null   int64  \n",
      " 25  EnclosedPorch  1460 non-null   int64  \n",
      " 26  PoolArea       1460 non-null   int64  \n",
      " 27  Fence          281 non-null    object \n",
      " 28  YrSold         1460 non-null   int64  \n",
      " 29  SalePrice      1460 non-null   int64  \n",
      "dtypes: float64(1), int64(20), object(9)\n",
      "memory usage: 342.3+ KB\n"
     ]
    }
   ],
   "source": [
    "train1.info()"
   ]
  },
  {
   "cell_type": "code",
   "execution_count": 31,
   "id": "4af137e1",
   "metadata": {
    "execution": {
     "iopub.execute_input": "2023-03-25T20:03:22.508810Z",
     "iopub.status.busy": "2023-03-25T20:03:22.508366Z",
     "iopub.status.idle": "2023-03-25T20:03:22.515865Z",
     "shell.execute_reply": "2023-03-25T20:03:22.514867Z"
    },
    "papermill": {
     "duration": 0.026081,
     "end_time": "2023-03-25T20:03:22.518243",
     "exception": false,
     "start_time": "2023-03-25T20:03:22.492162",
     "status": "completed"
    },
    "tags": []
   },
   "outputs": [],
   "source": [
    "train1.fillna(value=0, inplace=True)"
   ]
  },
  {
   "cell_type": "code",
   "execution_count": 32,
   "id": "32ac405c",
   "metadata": {
    "execution": {
     "iopub.execute_input": "2023-03-25T20:03:22.549191Z",
     "iopub.status.busy": "2023-03-25T20:03:22.548797Z",
     "iopub.status.idle": "2023-03-25T20:03:22.561844Z",
     "shell.execute_reply": "2023-03-25T20:03:22.560536Z"
    },
    "papermill": {
     "duration": 0.031658,
     "end_time": "2023-03-25T20:03:22.564245",
     "exception": false,
     "start_time": "2023-03-25T20:03:22.532587",
     "status": "completed"
    },
    "tags": []
   },
   "outputs": [
    {
     "data": {
      "text/plain": [
       "Id               0\n",
       "MSSubClass       0\n",
       "YrSold           0\n",
       "Fence            0\n",
       "PoolArea         0\n",
       "EnclosedPorch    0\n",
       "OpenPorchSF      0\n",
       "WoodDeckSF       0\n",
       "Fireplaces       0\n",
       "Functional       0\n",
       "TotRmsAbvGrd     0\n",
       "BedroomAbvGr     0\n",
       "HalfBath         0\n",
       "FullBath         0\n",
       "GrLivArea        0\n",
       "TotalBsmtSF      0\n",
       "BsmtFinSF1       0\n",
       "ExterCond        0\n",
       "ExterQual        0\n",
       "YearRemodAdd     0\n",
       "dtype: int64"
      ]
     },
     "execution_count": 32,
     "metadata": {},
     "output_type": "execute_result"
    }
   ],
   "source": [
    "train1.isnull().sum().sort_values(ascending=False).head(20)"
   ]
  },
  {
   "cell_type": "code",
   "execution_count": 33,
   "id": "76087b2c",
   "metadata": {
    "execution": {
     "iopub.execute_input": "2023-03-25T20:03:22.595545Z",
     "iopub.status.busy": "2023-03-25T20:03:22.595091Z",
     "iopub.status.idle": "2023-03-25T20:03:22.602797Z",
     "shell.execute_reply": "2023-03-25T20:03:22.601545Z"
    },
    "papermill": {
     "duration": 0.026472,
     "end_time": "2023-03-25T20:03:22.605422",
     "exception": false,
     "start_time": "2023-03-25T20:03:22.578950",
     "status": "completed"
    },
    "tags": []
   },
   "outputs": [
    {
     "data": {
      "text/plain": [
       "Index(['Id', 'MSSubClass', 'MSZoning', 'LotFrontage', 'LotArea', 'Street',\n",
       "       'LotShape', 'Utilities', 'Neighborhood', 'OverallQual', 'OverallCond',\n",
       "       'YearRemodAdd', 'ExterQual', 'ExterCond', 'BsmtFinSF1', 'TotalBsmtSF',\n",
       "       'GrLivArea', 'FullBath', 'HalfBath', 'BedroomAbvGr', 'TotRmsAbvGrd',\n",
       "       'Functional', 'Fireplaces', 'WoodDeckSF', 'OpenPorchSF',\n",
       "       'EnclosedPorch', 'PoolArea', 'Fence', 'YrSold', 'SalePrice'],\n",
       "      dtype='object')"
      ]
     },
     "execution_count": 33,
     "metadata": {},
     "output_type": "execute_result"
    }
   ],
   "source": [
    "train1.columns"
   ]
  },
  {
   "cell_type": "code",
   "execution_count": 34,
   "id": "9cd4fad5",
   "metadata": {
    "execution": {
     "iopub.execute_input": "2023-03-25T20:03:22.637135Z",
     "iopub.status.busy": "2023-03-25T20:03:22.636336Z",
     "iopub.status.idle": "2023-03-25T20:03:22.661029Z",
     "shell.execute_reply": "2023-03-25T20:03:22.659593Z"
    },
    "papermill": {
     "duration": 0.04404,
     "end_time": "2023-03-25T20:03:22.664269",
     "exception": false,
     "start_time": "2023-03-25T20:03:22.620229",
     "status": "completed"
    },
    "tags": []
   },
   "outputs": [],
   "source": [
    "all_dummies = pd.get_dummies(train1[['MSSubClass', 'MSZoning', 'LotFrontage', 'LotArea', 'Street',\n",
    "       'LotShape', 'Utilities', 'Neighborhood', 'OverallQual', 'OverallCond',\n",
    "       'YearRemodAdd', 'ExterQual', 'ExterCond', 'BsmtFinSF1', 'TotalBsmtSF',\n",
    "       'GrLivArea', 'FullBath', 'HalfBath', 'BedroomAbvGr', 'TotRmsAbvGrd',\n",
    "       'Functional', 'Fireplaces', 'WoodDeckSF', 'OpenPorchSF',\n",
    "       'EnclosedPorch', 'PoolArea', 'Fence', 'YrSold']])"
   ]
  },
  {
   "cell_type": "code",
   "execution_count": 35,
   "id": "93ff8c35",
   "metadata": {
    "execution": {
     "iopub.execute_input": "2023-03-25T20:03:22.695941Z",
     "iopub.status.busy": "2023-03-25T20:03:22.695550Z",
     "iopub.status.idle": "2023-03-25T20:03:22.720846Z",
     "shell.execute_reply": "2023-03-25T20:03:22.719704Z"
    },
    "papermill": {
     "duration": 0.044159,
     "end_time": "2023-03-25T20:03:22.723392",
     "exception": false,
     "start_time": "2023-03-25T20:03:22.679233",
     "status": "completed"
    },
    "tags": []
   },
   "outputs": [
    {
     "data": {
      "text/html": [
       "<div>\n",
       "<style scoped>\n",
       "    .dataframe tbody tr th:only-of-type {\n",
       "        vertical-align: middle;\n",
       "    }\n",
       "\n",
       "    .dataframe tbody tr th {\n",
       "        vertical-align: top;\n",
       "    }\n",
       "\n",
       "    .dataframe thead th {\n",
       "        text-align: right;\n",
       "    }\n",
       "</style>\n",
       "<table border=\"1\" class=\"dataframe\">\n",
       "  <thead>\n",
       "    <tr style=\"text-align: right;\">\n",
       "      <th></th>\n",
       "      <th>MSSubClass</th>\n",
       "      <th>LotFrontage</th>\n",
       "      <th>LotArea</th>\n",
       "      <th>OverallQual</th>\n",
       "      <th>OverallCond</th>\n",
       "      <th>YearRemodAdd</th>\n",
       "      <th>BsmtFinSF1</th>\n",
       "      <th>TotalBsmtSF</th>\n",
       "      <th>GrLivArea</th>\n",
       "      <th>FullBath</th>\n",
       "      <th>...</th>\n",
       "      <th>Functional_Min1</th>\n",
       "      <th>Functional_Min2</th>\n",
       "      <th>Functional_Mod</th>\n",
       "      <th>Functional_Sev</th>\n",
       "      <th>Functional_Typ</th>\n",
       "      <th>Fence_0</th>\n",
       "      <th>Fence_GdPrv</th>\n",
       "      <th>Fence_GdWo</th>\n",
       "      <th>Fence_MnPrv</th>\n",
       "      <th>Fence_MnWw</th>\n",
       "    </tr>\n",
       "  </thead>\n",
       "  <tbody>\n",
       "    <tr>\n",
       "      <th>0</th>\n",
       "      <td>60</td>\n",
       "      <td>65.0</td>\n",
       "      <td>8450</td>\n",
       "      <td>7</td>\n",
       "      <td>5</td>\n",
       "      <td>2003</td>\n",
       "      <td>706</td>\n",
       "      <td>856</td>\n",
       "      <td>1710</td>\n",
       "      <td>2</td>\n",
       "      <td>...</td>\n",
       "      <td>0</td>\n",
       "      <td>0</td>\n",
       "      <td>0</td>\n",
       "      <td>0</td>\n",
       "      <td>1</td>\n",
       "      <td>1</td>\n",
       "      <td>0</td>\n",
       "      <td>0</td>\n",
       "      <td>0</td>\n",
       "      <td>0</td>\n",
       "    </tr>\n",
       "    <tr>\n",
       "      <th>1</th>\n",
       "      <td>20</td>\n",
       "      <td>80.0</td>\n",
       "      <td>9600</td>\n",
       "      <td>6</td>\n",
       "      <td>8</td>\n",
       "      <td>1976</td>\n",
       "      <td>978</td>\n",
       "      <td>1262</td>\n",
       "      <td>1262</td>\n",
       "      <td>2</td>\n",
       "      <td>...</td>\n",
       "      <td>0</td>\n",
       "      <td>0</td>\n",
       "      <td>0</td>\n",
       "      <td>0</td>\n",
       "      <td>1</td>\n",
       "      <td>1</td>\n",
       "      <td>0</td>\n",
       "      <td>0</td>\n",
       "      <td>0</td>\n",
       "      <td>0</td>\n",
       "    </tr>\n",
       "    <tr>\n",
       "      <th>2</th>\n",
       "      <td>60</td>\n",
       "      <td>68.0</td>\n",
       "      <td>11250</td>\n",
       "      <td>7</td>\n",
       "      <td>5</td>\n",
       "      <td>2002</td>\n",
       "      <td>486</td>\n",
       "      <td>920</td>\n",
       "      <td>1786</td>\n",
       "      <td>2</td>\n",
       "      <td>...</td>\n",
       "      <td>0</td>\n",
       "      <td>0</td>\n",
       "      <td>0</td>\n",
       "      <td>0</td>\n",
       "      <td>1</td>\n",
       "      <td>1</td>\n",
       "      <td>0</td>\n",
       "      <td>0</td>\n",
       "      <td>0</td>\n",
       "      <td>0</td>\n",
       "    </tr>\n",
       "    <tr>\n",
       "      <th>3</th>\n",
       "      <td>70</td>\n",
       "      <td>60.0</td>\n",
       "      <td>9550</td>\n",
       "      <td>7</td>\n",
       "      <td>5</td>\n",
       "      <td>1970</td>\n",
       "      <td>216</td>\n",
       "      <td>756</td>\n",
       "      <td>1717</td>\n",
       "      <td>1</td>\n",
       "      <td>...</td>\n",
       "      <td>0</td>\n",
       "      <td>0</td>\n",
       "      <td>0</td>\n",
       "      <td>0</td>\n",
       "      <td>1</td>\n",
       "      <td>1</td>\n",
       "      <td>0</td>\n",
       "      <td>0</td>\n",
       "      <td>0</td>\n",
       "      <td>0</td>\n",
       "    </tr>\n",
       "    <tr>\n",
       "      <th>4</th>\n",
       "      <td>60</td>\n",
       "      <td>84.0</td>\n",
       "      <td>14260</td>\n",
       "      <td>8</td>\n",
       "      <td>5</td>\n",
       "      <td>2000</td>\n",
       "      <td>655</td>\n",
       "      <td>1145</td>\n",
       "      <td>2198</td>\n",
       "      <td>2</td>\n",
       "      <td>...</td>\n",
       "      <td>0</td>\n",
       "      <td>0</td>\n",
       "      <td>0</td>\n",
       "      <td>0</td>\n",
       "      <td>1</td>\n",
       "      <td>1</td>\n",
       "      <td>0</td>\n",
       "      <td>0</td>\n",
       "      <td>0</td>\n",
       "      <td>0</td>\n",
       "    </tr>\n",
       "    <tr>\n",
       "      <th>...</th>\n",
       "      <td>...</td>\n",
       "      <td>...</td>\n",
       "      <td>...</td>\n",
       "      <td>...</td>\n",
       "      <td>...</td>\n",
       "      <td>...</td>\n",
       "      <td>...</td>\n",
       "      <td>...</td>\n",
       "      <td>...</td>\n",
       "      <td>...</td>\n",
       "      <td>...</td>\n",
       "      <td>...</td>\n",
       "      <td>...</td>\n",
       "      <td>...</td>\n",
       "      <td>...</td>\n",
       "      <td>...</td>\n",
       "      <td>...</td>\n",
       "      <td>...</td>\n",
       "      <td>...</td>\n",
       "      <td>...</td>\n",
       "      <td>...</td>\n",
       "    </tr>\n",
       "    <tr>\n",
       "      <th>1455</th>\n",
       "      <td>60</td>\n",
       "      <td>62.0</td>\n",
       "      <td>7917</td>\n",
       "      <td>6</td>\n",
       "      <td>5</td>\n",
       "      <td>2000</td>\n",
       "      <td>0</td>\n",
       "      <td>953</td>\n",
       "      <td>1647</td>\n",
       "      <td>2</td>\n",
       "      <td>...</td>\n",
       "      <td>0</td>\n",
       "      <td>0</td>\n",
       "      <td>0</td>\n",
       "      <td>0</td>\n",
       "      <td>1</td>\n",
       "      <td>1</td>\n",
       "      <td>0</td>\n",
       "      <td>0</td>\n",
       "      <td>0</td>\n",
       "      <td>0</td>\n",
       "    </tr>\n",
       "    <tr>\n",
       "      <th>1456</th>\n",
       "      <td>20</td>\n",
       "      <td>85.0</td>\n",
       "      <td>13175</td>\n",
       "      <td>6</td>\n",
       "      <td>6</td>\n",
       "      <td>1988</td>\n",
       "      <td>790</td>\n",
       "      <td>1542</td>\n",
       "      <td>2073</td>\n",
       "      <td>2</td>\n",
       "      <td>...</td>\n",
       "      <td>1</td>\n",
       "      <td>0</td>\n",
       "      <td>0</td>\n",
       "      <td>0</td>\n",
       "      <td>0</td>\n",
       "      <td>0</td>\n",
       "      <td>0</td>\n",
       "      <td>0</td>\n",
       "      <td>1</td>\n",
       "      <td>0</td>\n",
       "    </tr>\n",
       "    <tr>\n",
       "      <th>1457</th>\n",
       "      <td>70</td>\n",
       "      <td>66.0</td>\n",
       "      <td>9042</td>\n",
       "      <td>7</td>\n",
       "      <td>9</td>\n",
       "      <td>2006</td>\n",
       "      <td>275</td>\n",
       "      <td>1152</td>\n",
       "      <td>2340</td>\n",
       "      <td>2</td>\n",
       "      <td>...</td>\n",
       "      <td>0</td>\n",
       "      <td>0</td>\n",
       "      <td>0</td>\n",
       "      <td>0</td>\n",
       "      <td>1</td>\n",
       "      <td>0</td>\n",
       "      <td>1</td>\n",
       "      <td>0</td>\n",
       "      <td>0</td>\n",
       "      <td>0</td>\n",
       "    </tr>\n",
       "    <tr>\n",
       "      <th>1458</th>\n",
       "      <td>20</td>\n",
       "      <td>68.0</td>\n",
       "      <td>9717</td>\n",
       "      <td>5</td>\n",
       "      <td>6</td>\n",
       "      <td>1996</td>\n",
       "      <td>49</td>\n",
       "      <td>1078</td>\n",
       "      <td>1078</td>\n",
       "      <td>1</td>\n",
       "      <td>...</td>\n",
       "      <td>0</td>\n",
       "      <td>0</td>\n",
       "      <td>0</td>\n",
       "      <td>0</td>\n",
       "      <td>1</td>\n",
       "      <td>1</td>\n",
       "      <td>0</td>\n",
       "      <td>0</td>\n",
       "      <td>0</td>\n",
       "      <td>0</td>\n",
       "    </tr>\n",
       "    <tr>\n",
       "      <th>1459</th>\n",
       "      <td>20</td>\n",
       "      <td>75.0</td>\n",
       "      <td>9937</td>\n",
       "      <td>5</td>\n",
       "      <td>6</td>\n",
       "      <td>1965</td>\n",
       "      <td>830</td>\n",
       "      <td>1256</td>\n",
       "      <td>1256</td>\n",
       "      <td>1</td>\n",
       "      <td>...</td>\n",
       "      <td>0</td>\n",
       "      <td>0</td>\n",
       "      <td>0</td>\n",
       "      <td>0</td>\n",
       "      <td>1</td>\n",
       "      <td>1</td>\n",
       "      <td>0</td>\n",
       "      <td>0</td>\n",
       "      <td>0</td>\n",
       "      <td>0</td>\n",
       "    </tr>\n",
       "  </tbody>\n",
       "</table>\n",
       "<p>1460 rows × 78 columns</p>\n",
       "</div>"
      ],
      "text/plain": [
       "      MSSubClass  LotFrontage  LotArea  OverallQual  OverallCond  \\\n",
       "0             60         65.0     8450            7            5   \n",
       "1             20         80.0     9600            6            8   \n",
       "2             60         68.0    11250            7            5   \n",
       "3             70         60.0     9550            7            5   \n",
       "4             60         84.0    14260            8            5   \n",
       "...          ...          ...      ...          ...          ...   \n",
       "1455          60         62.0     7917            6            5   \n",
       "1456          20         85.0    13175            6            6   \n",
       "1457          70         66.0     9042            7            9   \n",
       "1458          20         68.0     9717            5            6   \n",
       "1459          20         75.0     9937            5            6   \n",
       "\n",
       "      YearRemodAdd  BsmtFinSF1  TotalBsmtSF  GrLivArea  FullBath  ...  \\\n",
       "0             2003         706          856       1710         2  ...   \n",
       "1             1976         978         1262       1262         2  ...   \n",
       "2             2002         486          920       1786         2  ...   \n",
       "3             1970         216          756       1717         1  ...   \n",
       "4             2000         655         1145       2198         2  ...   \n",
       "...            ...         ...          ...        ...       ...  ...   \n",
       "1455          2000           0          953       1647         2  ...   \n",
       "1456          1988         790         1542       2073         2  ...   \n",
       "1457          2006         275         1152       2340         2  ...   \n",
       "1458          1996          49         1078       1078         1  ...   \n",
       "1459          1965         830         1256       1256         1  ...   \n",
       "\n",
       "      Functional_Min1  Functional_Min2  Functional_Mod  Functional_Sev  \\\n",
       "0                   0                0               0               0   \n",
       "1                   0                0               0               0   \n",
       "2                   0                0               0               0   \n",
       "3                   0                0               0               0   \n",
       "4                   0                0               0               0   \n",
       "...               ...              ...             ...             ...   \n",
       "1455                0                0               0               0   \n",
       "1456                1                0               0               0   \n",
       "1457                0                0               0               0   \n",
       "1458                0                0               0               0   \n",
       "1459                0                0               0               0   \n",
       "\n",
       "      Functional_Typ  Fence_0  Fence_GdPrv  Fence_GdWo  Fence_MnPrv  \\\n",
       "0                  1        1            0           0            0   \n",
       "1                  1        1            0           0            0   \n",
       "2                  1        1            0           0            0   \n",
       "3                  1        1            0           0            0   \n",
       "4                  1        1            0           0            0   \n",
       "...              ...      ...          ...         ...          ...   \n",
       "1455               1        1            0           0            0   \n",
       "1456               0        0            0           0            1   \n",
       "1457               1        0            1           0            0   \n",
       "1458               1        1            0           0            0   \n",
       "1459               1        1            0           0            0   \n",
       "\n",
       "      Fence_MnWw  \n",
       "0              0  \n",
       "1              0  \n",
       "2              0  \n",
       "3              0  \n",
       "4              0  \n",
       "...          ...  \n",
       "1455           0  \n",
       "1456           0  \n",
       "1457           0  \n",
       "1458           0  \n",
       "1459           0  \n",
       "\n",
       "[1460 rows x 78 columns]"
      ]
     },
     "execution_count": 35,
     "metadata": {},
     "output_type": "execute_result"
    }
   ],
   "source": [
    "all_dummies"
   ]
  },
  {
   "cell_type": "code",
   "execution_count": 36,
   "id": "08fa7f07",
   "metadata": {
    "execution": {
     "iopub.execute_input": "2023-03-25T20:03:22.756221Z",
     "iopub.status.busy": "2023-03-25T20:03:22.755771Z",
     "iopub.status.idle": "2023-03-25T20:03:22.765251Z",
     "shell.execute_reply": "2023-03-25T20:03:22.763779Z"
    },
    "papermill": {
     "duration": 0.029248,
     "end_time": "2023-03-25T20:03:22.768044",
     "exception": false,
     "start_time": "2023-03-25T20:03:22.738796",
     "status": "completed"
    },
    "tags": []
   },
   "outputs": [
    {
     "data": {
      "text/plain": [
       "Index(['MSSubClass', 'LotFrontage', 'LotArea', 'OverallQual', 'OverallCond',\n",
       "       'YearRemodAdd', 'BsmtFinSF1', 'TotalBsmtSF', 'GrLivArea', 'FullBath',\n",
       "       'HalfBath', 'BedroomAbvGr', 'TotRmsAbvGrd', 'Fireplaces', 'WoodDeckSF',\n",
       "       'OpenPorchSF', 'EnclosedPorch', 'PoolArea', 'YrSold',\n",
       "       'MSZoning_C (all)', 'MSZoning_FV', 'MSZoning_RH', 'MSZoning_RL',\n",
       "       'MSZoning_RM', 'Street_Grvl', 'Street_Pave', 'LotShape_IR1',\n",
       "       'LotShape_IR2', 'LotShape_IR3', 'LotShape_Reg', 'Utilities_AllPub',\n",
       "       'Utilities_NoSeWa', 'Neighborhood_Blmngtn', 'Neighborhood_Blueste',\n",
       "       'Neighborhood_BrDale', 'Neighborhood_BrkSide', 'Neighborhood_ClearCr',\n",
       "       'Neighborhood_CollgCr', 'Neighborhood_Crawfor', 'Neighborhood_Edwards',\n",
       "       'Neighborhood_Gilbert', 'Neighborhood_IDOTRR', 'Neighborhood_MeadowV',\n",
       "       'Neighborhood_Mitchel', 'Neighborhood_NAmes', 'Neighborhood_NPkVill',\n",
       "       'Neighborhood_NWAmes', 'Neighborhood_NoRidge', 'Neighborhood_NridgHt',\n",
       "       'Neighborhood_OldTown', 'Neighborhood_SWISU', 'Neighborhood_Sawyer',\n",
       "       'Neighborhood_SawyerW', 'Neighborhood_Somerst', 'Neighborhood_StoneBr',\n",
       "       'Neighborhood_Timber', 'Neighborhood_Veenker', 'ExterQual_Ex',\n",
       "       'ExterQual_Fa', 'ExterQual_Gd', 'ExterQual_TA', 'ExterCond_Ex',\n",
       "       'ExterCond_Fa', 'ExterCond_Gd', 'ExterCond_Po', 'ExterCond_TA',\n",
       "       'Functional_Maj1', 'Functional_Maj2', 'Functional_Min1',\n",
       "       'Functional_Min2', 'Functional_Mod', 'Functional_Sev', 'Functional_Typ',\n",
       "       'Fence_0', 'Fence_GdPrv', 'Fence_GdWo', 'Fence_MnPrv', 'Fence_MnWw'],\n",
       "      dtype='object')"
      ]
     },
     "execution_count": 36,
     "metadata": {},
     "output_type": "execute_result"
    }
   ],
   "source": [
    "all_dummies.columns"
   ]
  },
  {
   "cell_type": "code",
   "execution_count": 37,
   "id": "5fcd77ec",
   "metadata": {
    "execution": {
     "iopub.execute_input": "2023-03-25T20:03:22.802310Z",
     "iopub.status.busy": "2023-03-25T20:03:22.801912Z",
     "iopub.status.idle": "2023-03-25T20:03:23.017698Z",
     "shell.execute_reply": "2023-03-25T20:03:23.015926Z"
    },
    "papermill": {
     "duration": 0.236286,
     "end_time": "2023-03-25T20:03:23.020537",
     "exception": false,
     "start_time": "2023-03-25T20:03:22.784251",
     "status": "completed"
    },
    "tags": []
   },
   "outputs": [
    {
     "data": {
      "text/html": [
       "<div>\n",
       "<style scoped>\n",
       "    .dataframe tbody tr th:only-of-type {\n",
       "        vertical-align: middle;\n",
       "    }\n",
       "\n",
       "    .dataframe tbody tr th {\n",
       "        vertical-align: top;\n",
       "    }\n",
       "\n",
       "    .dataframe thead th {\n",
       "        text-align: right;\n",
       "    }\n",
       "</style>\n",
       "<table border=\"1\" class=\"dataframe\">\n",
       "  <thead>\n",
       "    <tr style=\"text-align: right;\">\n",
       "      <th></th>\n",
       "      <th>MSSubClass</th>\n",
       "      <th>LotFrontage</th>\n",
       "      <th>LotArea</th>\n",
       "      <th>OverallQual</th>\n",
       "      <th>OverallCond</th>\n",
       "      <th>YearRemodAdd</th>\n",
       "      <th>BsmtFinSF1</th>\n",
       "      <th>TotalBsmtSF</th>\n",
       "      <th>GrLivArea</th>\n",
       "      <th>FullBath</th>\n",
       "      <th>...</th>\n",
       "      <th>Functional_Min1</th>\n",
       "      <th>Functional_Min2</th>\n",
       "      <th>Functional_Mod</th>\n",
       "      <th>Functional_Sev</th>\n",
       "      <th>Functional_Typ</th>\n",
       "      <th>Fence_0</th>\n",
       "      <th>Fence_GdPrv</th>\n",
       "      <th>Fence_GdWo</th>\n",
       "      <th>Fence_MnPrv</th>\n",
       "      <th>Fence_MnWw</th>\n",
       "    </tr>\n",
       "  </thead>\n",
       "  <tbody>\n",
       "    <tr>\n",
       "      <th>0</th>\n",
       "      <td>0.073375</td>\n",
       "      <td>0.212877</td>\n",
       "      <td>-0.207142</td>\n",
       "      <td>0.651479</td>\n",
       "      <td>-0.517200</td>\n",
       "      <td>0.878668</td>\n",
       "      <td>0.575425</td>\n",
       "      <td>-0.459303</td>\n",
       "      <td>0.370333</td>\n",
       "      <td>0.789741</td>\n",
       "      <td>...</td>\n",
       "      <td>0</td>\n",
       "      <td>0</td>\n",
       "      <td>0</td>\n",
       "      <td>0</td>\n",
       "      <td>1</td>\n",
       "      <td>1</td>\n",
       "      <td>0</td>\n",
       "      <td>0</td>\n",
       "      <td>0</td>\n",
       "      <td>0</td>\n",
       "    </tr>\n",
       "    <tr>\n",
       "      <th>1</th>\n",
       "      <td>-0.872563</td>\n",
       "      <td>0.645747</td>\n",
       "      <td>-0.091886</td>\n",
       "      <td>-0.071836</td>\n",
       "      <td>2.179628</td>\n",
       "      <td>-0.429577</td>\n",
       "      <td>1.171992</td>\n",
       "      <td>0.466465</td>\n",
       "      <td>-0.482512</td>\n",
       "      <td>0.789741</td>\n",
       "      <td>...</td>\n",
       "      <td>0</td>\n",
       "      <td>0</td>\n",
       "      <td>0</td>\n",
       "      <td>0</td>\n",
       "      <td>1</td>\n",
       "      <td>1</td>\n",
       "      <td>0</td>\n",
       "      <td>0</td>\n",
       "      <td>0</td>\n",
       "      <td>0</td>\n",
       "    </tr>\n",
       "    <tr>\n",
       "      <th>2</th>\n",
       "      <td>0.073375</td>\n",
       "      <td>0.299451</td>\n",
       "      <td>0.073480</td>\n",
       "      <td>0.651479</td>\n",
       "      <td>-0.517200</td>\n",
       "      <td>0.830215</td>\n",
       "      <td>0.092907</td>\n",
       "      <td>-0.313369</td>\n",
       "      <td>0.515013</td>\n",
       "      <td>0.789741</td>\n",
       "      <td>...</td>\n",
       "      <td>0</td>\n",
       "      <td>0</td>\n",
       "      <td>0</td>\n",
       "      <td>0</td>\n",
       "      <td>1</td>\n",
       "      <td>1</td>\n",
       "      <td>0</td>\n",
       "      <td>0</td>\n",
       "      <td>0</td>\n",
       "      <td>0</td>\n",
       "    </tr>\n",
       "    <tr>\n",
       "      <th>3</th>\n",
       "      <td>0.309859</td>\n",
       "      <td>0.068587</td>\n",
       "      <td>-0.096897</td>\n",
       "      <td>0.651479</td>\n",
       "      <td>-0.517200</td>\n",
       "      <td>-0.720298</td>\n",
       "      <td>-0.499274</td>\n",
       "      <td>-0.687324</td>\n",
       "      <td>0.383659</td>\n",
       "      <td>-1.026041</td>\n",
       "      <td>...</td>\n",
       "      <td>0</td>\n",
       "      <td>0</td>\n",
       "      <td>0</td>\n",
       "      <td>0</td>\n",
       "      <td>1</td>\n",
       "      <td>1</td>\n",
       "      <td>0</td>\n",
       "      <td>0</td>\n",
       "      <td>0</td>\n",
       "      <td>0</td>\n",
       "    </tr>\n",
       "    <tr>\n",
       "      <th>4</th>\n",
       "      <td>0.073375</td>\n",
       "      <td>0.761179</td>\n",
       "      <td>0.375148</td>\n",
       "      <td>1.374795</td>\n",
       "      <td>-0.517200</td>\n",
       "      <td>0.733308</td>\n",
       "      <td>0.463568</td>\n",
       "      <td>0.199680</td>\n",
       "      <td>1.299326</td>\n",
       "      <td>0.789741</td>\n",
       "      <td>...</td>\n",
       "      <td>0</td>\n",
       "      <td>0</td>\n",
       "      <td>0</td>\n",
       "      <td>0</td>\n",
       "      <td>1</td>\n",
       "      <td>1</td>\n",
       "      <td>0</td>\n",
       "      <td>0</td>\n",
       "      <td>0</td>\n",
       "      <td>0</td>\n",
       "    </tr>\n",
       "    <tr>\n",
       "      <th>...</th>\n",
       "      <td>...</td>\n",
       "      <td>...</td>\n",
       "      <td>...</td>\n",
       "      <td>...</td>\n",
       "      <td>...</td>\n",
       "      <td>...</td>\n",
       "      <td>...</td>\n",
       "      <td>...</td>\n",
       "      <td>...</td>\n",
       "      <td>...</td>\n",
       "      <td>...</td>\n",
       "      <td>...</td>\n",
       "      <td>...</td>\n",
       "      <td>...</td>\n",
       "      <td>...</td>\n",
       "      <td>...</td>\n",
       "      <td>...</td>\n",
       "      <td>...</td>\n",
       "      <td>...</td>\n",
       "      <td>...</td>\n",
       "      <td>...</td>\n",
       "    </tr>\n",
       "    <tr>\n",
       "      <th>1455</th>\n",
       "      <td>0.073375</td>\n",
       "      <td>0.126303</td>\n",
       "      <td>-0.260560</td>\n",
       "      <td>-0.071836</td>\n",
       "      <td>-0.517200</td>\n",
       "      <td>0.733308</td>\n",
       "      <td>-0.973018</td>\n",
       "      <td>-0.238122</td>\n",
       "      <td>0.250402</td>\n",
       "      <td>0.789741</td>\n",
       "      <td>...</td>\n",
       "      <td>0</td>\n",
       "      <td>0</td>\n",
       "      <td>0</td>\n",
       "      <td>0</td>\n",
       "      <td>1</td>\n",
       "      <td>1</td>\n",
       "      <td>0</td>\n",
       "      <td>0</td>\n",
       "      <td>0</td>\n",
       "      <td>0</td>\n",
       "    </tr>\n",
       "    <tr>\n",
       "      <th>1456</th>\n",
       "      <td>-0.872563</td>\n",
       "      <td>0.790037</td>\n",
       "      <td>0.266407</td>\n",
       "      <td>-0.071836</td>\n",
       "      <td>0.381743</td>\n",
       "      <td>0.151865</td>\n",
       "      <td>0.759659</td>\n",
       "      <td>1.104925</td>\n",
       "      <td>1.061367</td>\n",
       "      <td>0.789741</td>\n",
       "      <td>...</td>\n",
       "      <td>1</td>\n",
       "      <td>0</td>\n",
       "      <td>0</td>\n",
       "      <td>0</td>\n",
       "      <td>0</td>\n",
       "      <td>0</td>\n",
       "      <td>0</td>\n",
       "      <td>0</td>\n",
       "      <td>1</td>\n",
       "      <td>0</td>\n",
       "    </tr>\n",
       "    <tr>\n",
       "      <th>1457</th>\n",
       "      <td>0.309859</td>\n",
       "      <td>0.241735</td>\n",
       "      <td>-0.147810</td>\n",
       "      <td>0.651479</td>\n",
       "      <td>3.078570</td>\n",
       "      <td>1.024029</td>\n",
       "      <td>-0.369871</td>\n",
       "      <td>0.215641</td>\n",
       "      <td>1.569647</td>\n",
       "      <td>0.789741</td>\n",
       "      <td>...</td>\n",
       "      <td>0</td>\n",
       "      <td>0</td>\n",
       "      <td>0</td>\n",
       "      <td>0</td>\n",
       "      <td>1</td>\n",
       "      <td>0</td>\n",
       "      <td>1</td>\n",
       "      <td>0</td>\n",
       "      <td>0</td>\n",
       "      <td>0</td>\n",
       "    </tr>\n",
       "    <tr>\n",
       "      <th>1458</th>\n",
       "      <td>-0.872563</td>\n",
       "      <td>0.299451</td>\n",
       "      <td>-0.080160</td>\n",
       "      <td>-0.795151</td>\n",
       "      <td>0.381743</td>\n",
       "      <td>0.539493</td>\n",
       "      <td>-0.865548</td>\n",
       "      <td>0.046905</td>\n",
       "      <td>-0.832788</td>\n",
       "      <td>-1.026041</td>\n",
       "      <td>...</td>\n",
       "      <td>0</td>\n",
       "      <td>0</td>\n",
       "      <td>0</td>\n",
       "      <td>0</td>\n",
       "      <td>1</td>\n",
       "      <td>1</td>\n",
       "      <td>0</td>\n",
       "      <td>0</td>\n",
       "      <td>0</td>\n",
       "      <td>0</td>\n",
       "    </tr>\n",
       "    <tr>\n",
       "      <th>1459</th>\n",
       "      <td>-0.872563</td>\n",
       "      <td>0.501457</td>\n",
       "      <td>-0.058112</td>\n",
       "      <td>-0.795151</td>\n",
       "      <td>0.381743</td>\n",
       "      <td>-0.962566</td>\n",
       "      <td>0.847389</td>\n",
       "      <td>0.452784</td>\n",
       "      <td>-0.493934</td>\n",
       "      <td>-1.026041</td>\n",
       "      <td>...</td>\n",
       "      <td>0</td>\n",
       "      <td>0</td>\n",
       "      <td>0</td>\n",
       "      <td>0</td>\n",
       "      <td>1</td>\n",
       "      <td>1</td>\n",
       "      <td>0</td>\n",
       "      <td>0</td>\n",
       "      <td>0</td>\n",
       "      <td>0</td>\n",
       "    </tr>\n",
       "  </tbody>\n",
       "</table>\n",
       "<p>1460 rows × 78 columns</p>\n",
       "</div>"
      ],
      "text/plain": [
       "      MSSubClass  LotFrontage   LotArea  OverallQual  OverallCond  \\\n",
       "0       0.073375     0.212877 -0.207142     0.651479    -0.517200   \n",
       "1      -0.872563     0.645747 -0.091886    -0.071836     2.179628   \n",
       "2       0.073375     0.299451  0.073480     0.651479    -0.517200   \n",
       "3       0.309859     0.068587 -0.096897     0.651479    -0.517200   \n",
       "4       0.073375     0.761179  0.375148     1.374795    -0.517200   \n",
       "...          ...          ...       ...          ...          ...   \n",
       "1455    0.073375     0.126303 -0.260560    -0.071836    -0.517200   \n",
       "1456   -0.872563     0.790037  0.266407    -0.071836     0.381743   \n",
       "1457    0.309859     0.241735 -0.147810     0.651479     3.078570   \n",
       "1458   -0.872563     0.299451 -0.080160    -0.795151     0.381743   \n",
       "1459   -0.872563     0.501457 -0.058112    -0.795151     0.381743   \n",
       "\n",
       "      YearRemodAdd  BsmtFinSF1  TotalBsmtSF  GrLivArea  FullBath  ...  \\\n",
       "0         0.878668    0.575425    -0.459303   0.370333  0.789741  ...   \n",
       "1        -0.429577    1.171992     0.466465  -0.482512  0.789741  ...   \n",
       "2         0.830215    0.092907    -0.313369   0.515013  0.789741  ...   \n",
       "3        -0.720298   -0.499274    -0.687324   0.383659 -1.026041  ...   \n",
       "4         0.733308    0.463568     0.199680   1.299326  0.789741  ...   \n",
       "...            ...         ...          ...        ...       ...  ...   \n",
       "1455      0.733308   -0.973018    -0.238122   0.250402  0.789741  ...   \n",
       "1456      0.151865    0.759659     1.104925   1.061367  0.789741  ...   \n",
       "1457      1.024029   -0.369871     0.215641   1.569647  0.789741  ...   \n",
       "1458      0.539493   -0.865548     0.046905  -0.832788 -1.026041  ...   \n",
       "1459     -0.962566    0.847389     0.452784  -0.493934 -1.026041  ...   \n",
       "\n",
       "      Functional_Min1  Functional_Min2  Functional_Mod  Functional_Sev  \\\n",
       "0                   0                0               0               0   \n",
       "1                   0                0               0               0   \n",
       "2                   0                0               0               0   \n",
       "3                   0                0               0               0   \n",
       "4                   0                0               0               0   \n",
       "...               ...              ...             ...             ...   \n",
       "1455                0                0               0               0   \n",
       "1456                1                0               0               0   \n",
       "1457                0                0               0               0   \n",
       "1458                0                0               0               0   \n",
       "1459                0                0               0               0   \n",
       "\n",
       "      Functional_Typ  Fence_0  Fence_GdPrv  Fence_GdWo  Fence_MnPrv  \\\n",
       "0                  1        1            0           0            0   \n",
       "1                  1        1            0           0            0   \n",
       "2                  1        1            0           0            0   \n",
       "3                  1        1            0           0            0   \n",
       "4                  1        1            0           0            0   \n",
       "...              ...      ...          ...         ...          ...   \n",
       "1455               1        1            0           0            0   \n",
       "1456               0        0            0           0            1   \n",
       "1457               1        0            1           0            0   \n",
       "1458               1        1            0           0            0   \n",
       "1459               1        1            0           0            0   \n",
       "\n",
       "      Fence_MnWw  \n",
       "0              0  \n",
       "1              0  \n",
       "2              0  \n",
       "3              0  \n",
       "4              0  \n",
       "...          ...  \n",
       "1455           0  \n",
       "1456           0  \n",
       "1457           0  \n",
       "1458           0  \n",
       "1459           0  \n",
       "\n",
       "[1460 rows x 78 columns]"
      ]
     },
     "execution_count": 37,
     "metadata": {},
     "output_type": "execute_result"
    }
   ],
   "source": [
    "from sklearn.preprocessing import StandardScaler\n",
    "scale = StandardScaler()\n",
    "all_dummies_scaled = all_dummies.copy()\n",
    "all_dummies_scaled[['MSSubClass', 'LotFrontage', 'LotArea', 'OverallQual', 'OverallCond',\n",
    "       'YearRemodAdd', 'BsmtFinSF1', 'TotalBsmtSF', 'GrLivArea', 'FullBath',\n",
    "       'HalfBath', 'BedroomAbvGr', 'TotRmsAbvGrd', 'Fireplaces', 'WoodDeckSF',\n",
    "       'OpenPorchSF', 'EnclosedPorch', 'PoolArea', 'YrSold']]= scale.fit_transform(all_dummies_scaled[['MSSubClass', 'LotFrontage', 'LotArea', 'OverallQual', 'OverallCond',\n",
    "       'YearRemodAdd', 'BsmtFinSF1', 'TotalBsmtSF', 'GrLivArea', 'FullBath',\n",
    "       'HalfBath', 'BedroomAbvGr', 'TotRmsAbvGrd', 'Fireplaces', 'WoodDeckSF',\n",
    "       'OpenPorchSF', 'EnclosedPorch', 'PoolArea', 'YrSold']])\n",
    "all_dummies_scaled"
   ]
  },
  {
   "cell_type": "code",
   "execution_count": 38,
   "id": "44552d24",
   "metadata": {
    "execution": {
     "iopub.execute_input": "2023-03-25T20:03:23.054825Z",
     "iopub.status.busy": "2023-03-25T20:03:23.054383Z",
     "iopub.status.idle": "2023-03-25T20:03:23.059923Z",
     "shell.execute_reply": "2023-03-25T20:03:23.058543Z"
    },
    "papermill": {
     "duration": 0.025568,
     "end_time": "2023-03-25T20:03:23.062749",
     "exception": false,
     "start_time": "2023-03-25T20:03:23.037181",
     "status": "completed"
    },
    "tags": []
   },
   "outputs": [],
   "source": [
    "y = train1.SalePrice"
   ]
  },
  {
   "cell_type": "code",
   "execution_count": 39,
   "id": "731b0aa7",
   "metadata": {
    "execution": {
     "iopub.execute_input": "2023-03-25T20:03:23.096579Z",
     "iopub.status.busy": "2023-03-25T20:03:23.096135Z",
     "iopub.status.idle": "2023-03-25T20:03:23.189381Z",
     "shell.execute_reply": "2023-03-25T20:03:23.187562Z"
    },
    "papermill": {
     "duration": 0.11355,
     "end_time": "2023-03-25T20:03:23.192233",
     "exception": false,
     "start_time": "2023-03-25T20:03:23.078683",
     "status": "completed"
    },
    "tags": []
   },
   "outputs": [],
   "source": [
    "import numpy as np\n",
    "from sklearn.model_selection import train_test_split"
   ]
  },
  {
   "cell_type": "code",
   "execution_count": 40,
   "id": "830623ac",
   "metadata": {
    "execution": {
     "iopub.execute_input": "2023-03-25T20:03:23.226519Z",
     "iopub.status.busy": "2023-03-25T20:03:23.226051Z",
     "iopub.status.idle": "2023-03-25T20:03:23.236844Z",
     "shell.execute_reply": "2023-03-25T20:03:23.235575Z"
    },
    "papermill": {
     "duration": 0.031086,
     "end_time": "2023-03-25T20:03:23.239420",
     "exception": false,
     "start_time": "2023-03-25T20:03:23.208334",
     "status": "completed"
    },
    "tags": []
   },
   "outputs": [],
   "source": [
    "X_train, X_test, y_train, y_test = train_test_split( all_dummies_scaled,y, test_size=0.33, random_state=42)"
   ]
  },
  {
   "cell_type": "code",
   "execution_count": 41,
   "id": "cded60ea",
   "metadata": {
    "execution": {
     "iopub.execute_input": "2023-03-25T20:03:23.274822Z",
     "iopub.status.busy": "2023-03-25T20:03:23.274361Z",
     "iopub.status.idle": "2023-03-25T20:03:23.695400Z",
     "shell.execute_reply": "2023-03-25T20:03:23.693883Z"
    },
    "papermill": {
     "duration": 0.442298,
     "end_time": "2023-03-25T20:03:23.698343",
     "exception": false,
     "start_time": "2023-03-25T20:03:23.256045",
     "status": "completed"
    },
    "tags": []
   },
   "outputs": [],
   "source": [
    "from sklearn.model_selection import cross_val_score\n",
    "from sklearn.naive_bayes import GaussianNB\n",
    "from sklearn.linear_model import LogisticRegression\n",
    "from sklearn import tree\n",
    "from sklearn.neighbors import KNeighborsClassifier\n",
    "from sklearn.ensemble import RandomForestClassifier\n",
    "from sklearn.svm import SVC"
   ]
  },
  {
   "cell_type": "code",
   "execution_count": 42,
   "id": "ecca08ae",
   "metadata": {
    "execution": {
     "iopub.execute_input": "2023-03-25T20:03:23.731978Z",
     "iopub.status.busy": "2023-03-25T20:03:23.731559Z",
     "iopub.status.idle": "2023-03-25T20:03:24.217916Z",
     "shell.execute_reply": "2023-03-25T20:03:24.216603Z"
    },
    "papermill": {
     "duration": 0.506611,
     "end_time": "2023-03-25T20:03:24.220792",
     "exception": false,
     "start_time": "2023-03-25T20:03:23.714181",
     "status": "completed"
    },
    "tags": []
   },
   "outputs": [
    {
     "data": {
      "text/plain": [
       "0.014522821576763486"
      ]
     },
     "execution_count": 42,
     "metadata": {},
     "output_type": "execute_result"
    }
   ],
   "source": [
    "model = RandomForestClassifier(n_estimators=100, max_depth=5, random_state=1)\n",
    "model.fit(X_train,y_train)\n",
    "model.score(X_test,y_test)"
   ]
  },
  {
   "cell_type": "code",
   "execution_count": 43,
   "id": "f8e95e0c",
   "metadata": {
    "execution": {
     "iopub.execute_input": "2023-03-25T20:03:24.254998Z",
     "iopub.status.busy": "2023-03-25T20:03:24.254585Z",
     "iopub.status.idle": "2023-03-25T20:03:38.107327Z",
     "shell.execute_reply": "2023-03-25T20:03:38.105628Z"
    },
    "papermill": {
     "duration": 13.874812,
     "end_time": "2023-03-25T20:03:38.111549",
     "exception": false,
     "start_time": "2023-03-25T20:03:24.236737",
     "status": "completed"
    },
    "tags": []
   },
   "outputs": [
    {
     "data": {
      "text/plain": [
       "0.006224066390041493"
      ]
     },
     "execution_count": 43,
     "metadata": {},
     "output_type": "execute_result"
    }
   ],
   "source": [
    "lr = LogisticRegression(max_iter = 2000)\n",
    "lr.fit(X_train,y_train)\n",
    "lr.score(X_test,y_test)"
   ]
  },
  {
   "cell_type": "code",
   "execution_count": 44,
   "id": "c1877698",
   "metadata": {
    "execution": {
     "iopub.execute_input": "2023-03-25T20:03:38.197569Z",
     "iopub.status.busy": "2023-03-25T20:03:38.196748Z",
     "iopub.status.idle": "2023-03-25T20:04:11.092130Z",
     "shell.execute_reply": "2023-03-25T20:04:11.090249Z"
    },
    "papermill": {
     "duration": 32.986317,
     "end_time": "2023-03-25T20:04:11.139017",
     "exception": false,
     "start_time": "2023-03-25T20:03:38.152700",
     "status": "completed"
    },
    "tags": []
   },
   "outputs": [
    {
     "name": "stderr",
     "output_type": "stream",
     "text": [
      "/opt/conda/lib/python3.7/site-packages/sklearn/model_selection/_split.py:680: UserWarning: The least populated class in y has only 1 members, which is less than n_splits=5.\n",
      "  UserWarning,\n"
     ]
    },
    {
     "name": "stdout",
     "output_type": "stream",
     "text": [
      "[0.01020408 0.01020408 0.01530612 0.02051282 0.02051282]\n",
      "0.015347985347985347\n"
     ]
    }
   ],
   "source": [
    "lr = LogisticRegression(max_iter = 2000)\n",
    "cv = cross_val_score(lr,X_train,y_train,cv=5)\n",
    "print(cv)\n",
    "print(cv.mean())"
   ]
  },
  {
   "cell_type": "code",
   "execution_count": 45,
   "id": "03d3df5a",
   "metadata": {
    "execution": {
     "iopub.execute_input": "2023-03-25T20:04:11.214548Z",
     "iopub.status.busy": "2023-03-25T20:04:11.214059Z",
     "iopub.status.idle": "2023-03-25T20:04:11.650188Z",
     "shell.execute_reply": "2023-03-25T20:04:11.648171Z"
    },
    "papermill": {
     "duration": 0.472198,
     "end_time": "2023-03-25T20:04:11.653530",
     "exception": false,
     "start_time": "2023-03-25T20:04:11.181332",
     "status": "completed"
    },
    "tags": []
   },
   "outputs": [
    {
     "name": "stderr",
     "output_type": "stream",
     "text": [
      "/opt/conda/lib/python3.7/site-packages/sklearn/model_selection/_split.py:680: UserWarning: The least populated class in y has only 1 members, which is less than n_splits=5.\n",
      "  UserWarning,\n"
     ]
    },
    {
     "name": "stdout",
     "output_type": "stream",
     "text": [
      "[0.00510204 0.02040816 0.01020408 0.01025641 0.00512821]\n",
      "0.01021978021978022\n"
     ]
    }
   ],
   "source": [
    "dt = tree.DecisionTreeClassifier(random_state = 1)\n",
    "cv = cross_val_score(dt,X_train,y_train,cv=5)\n",
    "print(cv)\n",
    "print(cv.mean())"
   ]
  },
  {
   "cell_type": "code",
   "execution_count": 46,
   "id": "d8b57edf",
   "metadata": {
    "execution": {
     "iopub.execute_input": "2023-03-25T20:04:11.688948Z",
     "iopub.status.busy": "2023-03-25T20:04:11.688480Z",
     "iopub.status.idle": "2023-03-25T20:04:11.863713Z",
     "shell.execute_reply": "2023-03-25T20:04:11.862246Z"
    },
    "papermill": {
     "duration": 0.20094,
     "end_time": "2023-03-25T20:04:11.871473",
     "exception": false,
     "start_time": "2023-03-25T20:04:11.670533",
     "status": "completed"
    },
    "tags": []
   },
   "outputs": [
    {
     "name": "stdout",
     "output_type": "stream",
     "text": [
      "[0.02040816 0.00510204 0.02040816 0.         0.01025641]\n",
      "0.011234955520669805\n"
     ]
    },
    {
     "name": "stderr",
     "output_type": "stream",
     "text": [
      "/opt/conda/lib/python3.7/site-packages/sklearn/model_selection/_split.py:680: UserWarning: The least populated class in y has only 1 members, which is less than n_splits=5.\n",
      "  UserWarning,\n"
     ]
    }
   ],
   "source": [
    "knn = KNeighborsClassifier()\n",
    "cv = cross_val_score(knn,X_train,y_train,cv=5)\n",
    "print(cv)\n",
    "print(cv.mean())\n"
   ]
  },
  {
   "cell_type": "code",
   "execution_count": 47,
   "id": "5f76b174",
   "metadata": {
    "execution": {
     "iopub.execute_input": "2023-03-25T20:04:11.962671Z",
     "iopub.status.busy": "2023-03-25T20:04:11.962223Z",
     "iopub.status.idle": "2023-03-25T20:04:18.327843Z",
     "shell.execute_reply": "2023-03-25T20:04:18.325698Z"
    },
    "papermill": {
     "duration": 6.414033,
     "end_time": "2023-03-25T20:04:18.330892",
     "exception": false,
     "start_time": "2023-03-25T20:04:11.916859",
     "status": "completed"
    },
    "tags": []
   },
   "outputs": [
    {
     "name": "stderr",
     "output_type": "stream",
     "text": [
      "/opt/conda/lib/python3.7/site-packages/sklearn/model_selection/_split.py:680: UserWarning: The least populated class in y has only 1 members, which is less than n_splits=5.\n",
      "  UserWarning,\n"
     ]
    },
    {
     "name": "stdout",
     "output_type": "stream",
     "text": [
      "[0.02040816 0.00510204 0.01530612 0.02051282 0.01538462]\n",
      "0.015342752485609628\n"
     ]
    }
   ],
   "source": [
    "rf = RandomForestClassifier(random_state = 1)\n",
    "cv = cross_val_score(rf,X_train,y_train,cv=5)\n",
    "print(cv)\n",
    "print(cv.mean())"
   ]
  }
 ],
 "metadata": {
  "kernelspec": {
   "display_name": "Python 3",
   "language": "python",
   "name": "python3"
  },
  "language_info": {
   "codemirror_mode": {
    "name": "ipython",
    "version": 3
   },
   "file_extension": ".py",
   "mimetype": "text/x-python",
   "name": "python",
   "nbconvert_exporter": "python",
   "pygments_lexer": "ipython3",
   "version": "3.7.12"
  },
  "papermill": {
   "default_parameters": {},
   "duration": 70.085388,
   "end_time": "2023-03-25T20:04:19.172661",
   "environment_variables": {},
   "exception": null,
   "input_path": "__notebook__.ipynb",
   "output_path": "__notebook__.ipynb",
   "parameters": {},
   "start_time": "2023-03-25T20:03:09.087273",
   "version": "2.4.0"
  }
 },
 "nbformat": 4,
 "nbformat_minor": 5
}
